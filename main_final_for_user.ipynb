{
 "cells": [
  {
   "cell_type": "markdown",
   "metadata": {},
   "source": [
    "## Сбор и обработка данных с ресурса GitHib\n",
    "\n",
    "Введите список пользователей через запятую.\n",
    "\n",
    "Удаление пустых файлов и изменение кодировки."
   ]
  },
  {
   "cell_type": "code",
   "execution_count": 1,
   "metadata": {
    "scrolled": true
   },
   "outputs": [
    {
     "data": {
      "application/vnd.jupyter.widget-view+json": {
       "model_id": "e2980f1261134d85bf6cb0f5b64b4f5c"
      }
     },
     "metadata": {},
     "output_type": "display_data"
    },
    {
     "data": {
      "application/vnd.jupyter.widget-view+json": {
       "model_id": "13f12ef19b49447cafc425f771a0836f"
      }
     },
     "metadata": {},
     "output_type": "display_data"
    }
   ],
   "source": [
    "from scrap_widget import display_scrapping_form\n",
    "\n",
    "display_scrapping_form()"
   ]
  },
  {
   "cell_type": "markdown",
   "metadata": {
    "collapsed": true
   },
   "source": [
    "## Матрица объектов-признаков\n",
    "\n",
    "Сформировать матрицу для того, чтобы скормить ее классификатору."
   ]
  },
  {
   "cell_type": "code",
   "execution_count": 2,
   "metadata": {
    "scrolled": true
   },
   "outputs": [
    {
     "data": {
      "application/vnd.jupyter.widget-view+json": {
       "model_id": "627cab4b316440ce88f21d1de1643366"
      }
     },
     "metadata": {},
     "output_type": "display_data"
    }
   ],
   "source": [
    "from sample_matrix_widget import display_matrix_widget\n",
    "\n",
    "# Путь к данным\n",
    "path = './data/'\n",
    "outpath = './data/matricies/'\n",
    "\n",
    "display_matrix_widget(path, outpath)"
   ]
  },
  {
   "cell_type": "markdown",
   "metadata": {},
   "source": [
    "## Классификатор\n",
    "\n",
    "Main form for classifying source code authors.\n",
    "\n",
    "Input:\n",
    "* Loops --- number of experiments\n",
    "* Data --- type of data to classify (students, Google Code Jam 2016 participants or GitHub users)\n",
    "* Classifier --- choose classification algorithm"
   ]
  },
  {
   "cell_type": "code",
   "execution_count": 3,
   "metadata": {},
   "outputs": [
    {
     "name": "stdout",
     "output_type": "stream",
     "text": [
      "Цикл  1 : Пожалуйста, ожидайте...\n",
      "Кросс-валидация...\n",
      "Классификация...\n",
      "Время работы, сек.:  9.42\n"
     ]
    },
    {
     "data": {
      "application/vnd.plotly.v1+json": {
       "data": [
        {
         "marker": {
          "color": "rgb(136, 142, 150)"
         },
         "name": "F1-score",
         "type": "bar",
         "x": [
          1
         ],
         "y": [
          0.9413333333333334
         ]
        },
        {
         "marker": {
          "color": "rgb(204,204,204)"
         },
         "name": "Precision",
         "type": "bar",
         "x": [
          1
         ],
         "y": [
          0.9775
         ]
        },
        {
         "marker": {
          "color": "rgb(144, 177, 229)"
         },
         "name": "Recall",
         "type": "bar",
         "x": [
          1
         ],
         "y": [
          0.93
         ]
        },
        {
         "marker": {
          "color": "rgb(49,130,189)"
         },
         "name": "Accuracy",
         "type": "bar",
         "x": [
          1
         ],
         "y": [
          0.93
         ]
        }
       ],
       "layout": {
        "barmode": "group",
        "title": "Classification metrics",
        "xaxis": {
         "tickangle": -45,
         "tickfont": {
          "color": "rgb(107, 107, 107)",
          "size": 14
         },
         "title": "Number of experiment",
         "titlefont": {
          "color": "rgb(107, 107, 107)",
          "size": 16
         }
        },
        "yaxis": {
         "tickfont": {
          "color": "rgb(107, 107, 107)",
          "size": 14
         },
         "title": "Value, %",
         "titlefont": {
          "color": "rgb(107, 107, 107)",
          "size": 16
         }
        }
       }
      },
      "text/html": [
       "<div id=\"38387d76-89c6-4757-b6ef-a2de60beda52\" style=\"height: 525px; width: 100%;\" class=\"plotly-graph-div\"></div><script type=\"text/javascript\">require([\"plotly\"], function(Plotly) { window.PLOTLYENV=window.PLOTLYENV || {};window.PLOTLYENV.BASE_URL=\"https://plot.ly\";Plotly.newPlot(\"38387d76-89c6-4757-b6ef-a2de60beda52\", [{\"type\": \"bar\", \"x\": [1], \"y\": [0.9413333333333334], \"name\": \"F1-score\", \"marker\": {\"color\": \"rgb(136, 142, 150)\"}}, {\"type\": \"bar\", \"x\": [1], \"y\": [0.9775], \"name\": \"Precision\", \"marker\": {\"color\": \"rgb(204,204,204)\"}}, {\"type\": \"bar\", \"x\": [1], \"y\": [0.93], \"name\": \"Recall\", \"marker\": {\"color\": \"rgb(144, 177, 229)\"}}, {\"type\": \"bar\", \"x\": [1], \"y\": [0.93], \"name\": \"Accuracy\", \"marker\": {\"color\": \"rgb(49,130,189)\"}}], {\"xaxis\": {\"tickangle\": -45, \"title\": \"Number of experiment\", \"titlefont\": {\"size\": 16, \"color\": \"rgb(107, 107, 107)\"}, \"tickfont\": {\"size\": 14, \"color\": \"rgb(107, 107, 107)\"}}, \"yaxis\": {\"title\": \"Value, %\", \"titlefont\": {\"size\": 16, \"color\": \"rgb(107, 107, 107)\"}, \"tickfont\": {\"size\": 14, \"color\": \"rgb(107, 107, 107)\"}}, \"barmode\": \"group\", \"title\": \"Classification metrics\"}, {\"showLink\": true, \"linkText\": \"Export to plot.ly\"})});</script>"
      ],
      "text/vnd.plotly.v1+html": [
       "<div id=\"38387d76-89c6-4757-b6ef-a2de60beda52\" style=\"height: 525px; width: 100%;\" class=\"plotly-graph-div\"></div><script type=\"text/javascript\">require([\"plotly\"], function(Plotly) { window.PLOTLYENV=window.PLOTLYENV || {};window.PLOTLYENV.BASE_URL=\"https://plot.ly\";Plotly.newPlot(\"38387d76-89c6-4757-b6ef-a2de60beda52\", [{\"type\": \"bar\", \"x\": [1], \"y\": [0.9413333333333334], \"name\": \"F1-score\", \"marker\": {\"color\": \"rgb(136, 142, 150)\"}}, {\"type\": \"bar\", \"x\": [1], \"y\": [0.9775], \"name\": \"Precision\", \"marker\": {\"color\": \"rgb(204,204,204)\"}}, {\"type\": \"bar\", \"x\": [1], \"y\": [0.93], \"name\": \"Recall\", \"marker\": {\"color\": \"rgb(144, 177, 229)\"}}, {\"type\": \"bar\", \"x\": [1], \"y\": [0.93], \"name\": \"Accuracy\", \"marker\": {\"color\": \"rgb(49,130,189)\"}}], {\"xaxis\": {\"tickangle\": -45, \"title\": \"Number of experiment\", \"titlefont\": {\"size\": 16, \"color\": \"rgb(107, 107, 107)\"}, \"tickfont\": {\"size\": 14, \"color\": \"rgb(107, 107, 107)\"}}, \"yaxis\": {\"title\": \"Value, %\", \"titlefont\": {\"size\": 16, \"color\": \"rgb(107, 107, 107)\"}, \"tickfont\": {\"size\": 14, \"color\": \"rgb(107, 107, 107)\"}}, \"barmode\": \"group\", \"title\": \"Classification metrics\"}, {\"showLink\": true, \"linkText\": \"Export to plot.ly\"})});</script>"
      ]
     },
     "metadata": {},
     "output_type": "display_data"
    },
    {
     "data": {
      "application/vnd.plotly.v1+json": {
       "data": [
        {
         "hole": 0.4,
         "labels": [
          "Wrong predicted samples, %",
          "True predictes samples, %"
         ],
         "text": "Accuracy",
         "textposition": "inside",
         "type": "pie",
         "values": [
          0.06999999999999995,
          0.93
         ]
        }
       ],
       "layout": {
        "annotations": [
         {
          "font": {
           "size": 20
          },
          "showarrow": false,
          "text": "Accuracy"
         }
        ],
        "title": "Total mean accuracy"
       }
      },
      "text/html": [
       "<div id=\"ba839e22-e2e3-466f-9dd9-ccf8a0129f2d\" style=\"height: 525px; width: 100%;\" class=\"plotly-graph-div\"></div><script type=\"text/javascript\">require([\"plotly\"], function(Plotly) { window.PLOTLYENV=window.PLOTLYENV || {};window.PLOTLYENV.BASE_URL=\"https://plot.ly\";Plotly.newPlot(\"ba839e22-e2e3-466f-9dd9-ccf8a0129f2d\", [{\"values\": [0.06999999999999995, 0.93], \"labels\": [\"Wrong predicted samples, %\", \"True predictes samples, %\"], \"type\": \"pie\", \"text\": \"Accuracy\", \"textposition\": \"inside\", \"hole\": 0.4}], {\"title\": \"Total mean accuracy\", \"annotations\": [{\"font\": {\"size\": 20}, \"showarrow\": false, \"text\": \"Accuracy\"}]}, {\"showLink\": true, \"linkText\": \"Export to plot.ly\"})});</script>"
      ],
      "text/vnd.plotly.v1+html": [
       "<div id=\"ba839e22-e2e3-466f-9dd9-ccf8a0129f2d\" style=\"height: 525px; width: 100%;\" class=\"plotly-graph-div\"></div><script type=\"text/javascript\">require([\"plotly\"], function(Plotly) { window.PLOTLYENV=window.PLOTLYENV || {};window.PLOTLYENV.BASE_URL=\"https://plot.ly\";Plotly.newPlot(\"ba839e22-e2e3-466f-9dd9-ccf8a0129f2d\", [{\"values\": [0.06999999999999995, 0.93], \"labels\": [\"Wrong predicted samples, %\", \"True predictes samples, %\"], \"type\": \"pie\", \"text\": \"Accuracy\", \"textposition\": \"inside\", \"hole\": 0.4}], {\"title\": \"Total mean accuracy\", \"annotations\": [{\"font\": {\"size\": 20}, \"showarrow\": false, \"text\": \"Accuracy\"}]}, {\"showLink\": true, \"linkText\": \"Export to plot.ly\"})});</script>"
      ]
     },
     "metadata": {},
     "output_type": "display_data"
    }
   ],
   "source": [
    "from main_widget import display_main_form\n",
    "\n",
    "display_main_form()"
   ]
  }
 ],
 "metadata": {
  "kernelspec": {
   "display_name": "Python 3.6 (whose_env)",
   "language": "python",
   "name": "whose_env"
  },
  "language_info": {
   "codemirror_mode": {
    "name": "ipython",
    "version": 3
   },
   "file_extension": ".py",
   "mimetype": "text/x-python",
   "name": "python",
   "nbconvert_exporter": "python",
   "pygments_lexer": "ipython3",
   "version": "3.6.0b2"
  }
 },
 "nbformat": 4,
 "nbformat_minor": 2
}
