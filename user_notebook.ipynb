{
 "cells": [
  {
   "cell_type": "markdown",
   "metadata": {},
   "source": [
    "## Сбор и обработка данных с ресурса GitHib\n",
    "\n",
    "Введите список пользователей через запятую.\n",
    "\n",
    "Удаление пустых файлов и изменение кодировки."
   ]
  },
  {
   "cell_type": "code",
   "execution_count": 1,
   "metadata": {
    "scrolled": true
   },
   "outputs": [
    {
     "data": {
      "application/vnd.jupyter.widget-view+json": {
       "model_id": "a8a62636666d48c58d0a5449ff79a28a"
      }
     },
     "metadata": {},
     "output_type": "display_data"
    },
    {
     "data": {
      "application/vnd.jupyter.widget-view+json": {
       "model_id": "fef0f8c33b9842b488995910f462cfa8"
      }
     },
     "metadata": {},
     "output_type": "display_data"
    }
   ],
   "source": [
    "from scrap_widget import display_scrapping_form\n",
    "\n",
    "display_scrapping_form()"
   ]
  },
  {
   "cell_type": "markdown",
   "metadata": {
    "collapsed": true
   },
   "source": [
    "## Матрица объектов-признаков\n",
    "\n",
    "Сформировать матрицу для того, чтобы скормить ее классификатору."
   ]
  },
  {
   "cell_type": "code",
   "execution_count": 2,
   "metadata": {
    "scrolled": true
   },
   "outputs": [
    {
     "data": {
      "application/vnd.jupyter.widget-view+json": {
       "model_id": "e1a916f0b1b94769a4f309feccf663d1"
      }
     },
     "metadata": {},
     "output_type": "display_data"
    }
   ],
   "source": [
    "from sample_matrix_widget import display_matrix_widget\n",
    "\n",
    "# Путь к данным\n",
    "path = './data/'\n",
    "outpath = './data/matricies/'\n",
    "\n",
    "display_matrix_widget(path, outpath)"
   ]
  },
  {
   "cell_type": "markdown",
   "metadata": {},
   "source": [
    "## Классификация\n",
    "\n",
    "Построение модели классификации, ее обучение на выбранном наборе данных, визуализация результатов.\n",
    "\n",
    "Ввод:\n",
    "* **Циклов** - количество итераций эксперимента\n",
    "* **Данные** - данные для классификации: \n",
    "    * students - лабораторные работы студентов каф. КИБЭВС по дисциплине \"Основы программирования\"\n",
    "    * Google Code Jam 2016 - работы участников ежегодной олимпиады по программированию от компании Google\n",
    "    * GitHub - данные с веб-хостинга GitHub\n",
    "* **Алгоритм** - алгоритм классификации"
   ]
  },
  {
   "cell_type": "code",
   "execution_count": 3,
   "metadata": {},
   "outputs": [
    {
     "name": "stdout",
     "output_type": "stream",
     "text": [
      "Цикл  1 : Пожалуйста, ожидайте...\n",
      "Кросс-валидация...\n",
      "Классификация...\n",
      "Цикл  2 : Пожалуйста, ожидайте...\n",
      "Кросс-валидация...\n",
      "Классификация...\n",
      "Время работы, сек.:  9.42\n"
     ]
    },
    {
     "data": {
      "application/vnd.plotly.v1+json": {
       "data": [
        {
         "marker": {
          "color": "rgb(136, 142, 150)"
         },
         "name": "F1-score",
         "type": "bar",
         "x": [
          1,
          2
         ],
         "y": [
          0.9169047619047619,
          0.9629999999999999
         ]
        },
        {
         "marker": {
          "color": "rgb(204,204,204)"
         },
         "name": "Precision",
         "type": "bar",
         "x": [
          1,
          2
         ],
         "y": [
          0.9400000000000001,
          0.975
         ]
        },
        {
         "marker": {
          "color": "rgb(144, 177, 229)"
         },
         "name": "Recall",
         "type": "bar",
         "x": [
          1,
          2
         ],
         "y": [
          0.905,
          0.9550000000000001
         ]
        },
        {
         "marker": {
          "color": "rgb(49,130,189)"
         },
         "name": "Accuracy",
         "type": "bar",
         "x": [
          1,
          2
         ],
         "y": [
          0.905,
          0.9550000000000001
         ]
        }
       ],
       "layout": {
        "barmode": "group",
        "title": "Classification metrics",
        "xaxis": {
         "tickangle": -45,
         "tickfont": {
          "color": "rgb(107, 107, 107)",
          "size": 14
         },
         "title": "Number of experiment",
         "titlefont": {
          "color": "rgb(107, 107, 107)",
          "size": 16
         }
        },
        "yaxis": {
         "tickfont": {
          "color": "rgb(107, 107, 107)",
          "size": 14
         },
         "title": "Value, %",
         "titlefont": {
          "color": "rgb(107, 107, 107)",
          "size": 16
         }
        }
       }
      },
      "text/html": [
       "<div id=\"abe29f79-2b9a-43c0-8073-8cfa61b0a3ce\" style=\"height: 525px; width: 100%;\" class=\"plotly-graph-div\"></div><script type=\"text/javascript\">require([\"plotly\"], function(Plotly) { window.PLOTLYENV=window.PLOTLYENV || {};window.PLOTLYENV.BASE_URL=\"https://plot.ly\";Plotly.newPlot(\"abe29f79-2b9a-43c0-8073-8cfa61b0a3ce\", [{\"type\": \"bar\", \"x\": [1, 2], \"y\": [0.9169047619047619, 0.9629999999999999], \"name\": \"F1-score\", \"marker\": {\"color\": \"rgb(136, 142, 150)\"}}, {\"type\": \"bar\", \"x\": [1, 2], \"y\": [0.9400000000000001, 0.975], \"name\": \"Precision\", \"marker\": {\"color\": \"rgb(204,204,204)\"}}, {\"type\": \"bar\", \"x\": [1, 2], \"y\": [0.905, 0.9550000000000001], \"name\": \"Recall\", \"marker\": {\"color\": \"rgb(144, 177, 229)\"}}, {\"type\": \"bar\", \"x\": [1, 2], \"y\": [0.905, 0.9550000000000001], \"name\": \"Accuracy\", \"marker\": {\"color\": \"rgb(49,130,189)\"}}], {\"xaxis\": {\"tickangle\": -45, \"title\": \"Number of experiment\", \"titlefont\": {\"size\": 16, \"color\": \"rgb(107, 107, 107)\"}, \"tickfont\": {\"size\": 14, \"color\": \"rgb(107, 107, 107)\"}}, \"yaxis\": {\"title\": \"Value, %\", \"titlefont\": {\"size\": 16, \"color\": \"rgb(107, 107, 107)\"}, \"tickfont\": {\"size\": 14, \"color\": \"rgb(107, 107, 107)\"}}, \"barmode\": \"group\", \"title\": \"Classification metrics\"}, {\"showLink\": true, \"linkText\": \"Export to plot.ly\"})});</script>"
      ],
      "text/vnd.plotly.v1+html": [
       "<div id=\"abe29f79-2b9a-43c0-8073-8cfa61b0a3ce\" style=\"height: 525px; width: 100%;\" class=\"plotly-graph-div\"></div><script type=\"text/javascript\">require([\"plotly\"], function(Plotly) { window.PLOTLYENV=window.PLOTLYENV || {};window.PLOTLYENV.BASE_URL=\"https://plot.ly\";Plotly.newPlot(\"abe29f79-2b9a-43c0-8073-8cfa61b0a3ce\", [{\"type\": \"bar\", \"x\": [1, 2], \"y\": [0.9169047619047619, 0.9629999999999999], \"name\": \"F1-score\", \"marker\": {\"color\": \"rgb(136, 142, 150)\"}}, {\"type\": \"bar\", \"x\": [1, 2], \"y\": [0.9400000000000001, 0.975], \"name\": \"Precision\", \"marker\": {\"color\": \"rgb(204,204,204)\"}}, {\"type\": \"bar\", \"x\": [1, 2], \"y\": [0.905, 0.9550000000000001], \"name\": \"Recall\", \"marker\": {\"color\": \"rgb(144, 177, 229)\"}}, {\"type\": \"bar\", \"x\": [1, 2], \"y\": [0.905, 0.9550000000000001], \"name\": \"Accuracy\", \"marker\": {\"color\": \"rgb(49,130,189)\"}}], {\"xaxis\": {\"tickangle\": -45, \"title\": \"Number of experiment\", \"titlefont\": {\"size\": 16, \"color\": \"rgb(107, 107, 107)\"}, \"tickfont\": {\"size\": 14, \"color\": \"rgb(107, 107, 107)\"}}, \"yaxis\": {\"title\": \"Value, %\", \"titlefont\": {\"size\": 16, \"color\": \"rgb(107, 107, 107)\"}, \"tickfont\": {\"size\": 14, \"color\": \"rgb(107, 107, 107)\"}}, \"barmode\": \"group\", \"title\": \"Classification metrics\"}, {\"showLink\": true, \"linkText\": \"Export to plot.ly\"})});</script>"
      ]
     },
     "metadata": {},
     "output_type": "display_data"
    },
    {
     "data": {
      "application/vnd.plotly.v1+json": {
       "data": [
        {
         "hole": 0.4,
         "labels": [
          "Wrong predicted samples, %",
          "True predictes samples, %"
         ],
         "text": "Accuracy",
         "textposition": "inside",
         "type": "pie",
         "values": [
          0.06999999999999995,
          0.93
         ]
        }
       ],
       "layout": {
        "annotations": [
         {
          "font": {
           "size": 20
          },
          "showarrow": false,
          "text": "Accuracy"
         }
        ],
        "title": "Total mean accuracy"
       }
      },
      "text/html": [
       "<div id=\"f299309e-3b38-4a46-849f-004ff1d78cd8\" style=\"height: 525px; width: 100%;\" class=\"plotly-graph-div\"></div><script type=\"text/javascript\">require([\"plotly\"], function(Plotly) { window.PLOTLYENV=window.PLOTLYENV || {};window.PLOTLYENV.BASE_URL=\"https://plot.ly\";Plotly.newPlot(\"f299309e-3b38-4a46-849f-004ff1d78cd8\", [{\"values\": [0.06999999999999995, 0.93], \"labels\": [\"Wrong predicted samples, %\", \"True predictes samples, %\"], \"type\": \"pie\", \"text\": \"Accuracy\", \"textposition\": \"inside\", \"hole\": 0.4}], {\"title\": \"Total mean accuracy\", \"annotations\": [{\"font\": {\"size\": 20}, \"showarrow\": false, \"text\": \"Accuracy\"}]}, {\"showLink\": true, \"linkText\": \"Export to plot.ly\"})});</script>"
      ],
      "text/vnd.plotly.v1+html": [
       "<div id=\"f299309e-3b38-4a46-849f-004ff1d78cd8\" style=\"height: 525px; width: 100%;\" class=\"plotly-graph-div\"></div><script type=\"text/javascript\">require([\"plotly\"], function(Plotly) { window.PLOTLYENV=window.PLOTLYENV || {};window.PLOTLYENV.BASE_URL=\"https://plot.ly\";Plotly.newPlot(\"f299309e-3b38-4a46-849f-004ff1d78cd8\", [{\"values\": [0.06999999999999995, 0.93], \"labels\": [\"Wrong predicted samples, %\", \"True predictes samples, %\"], \"type\": \"pie\", \"text\": \"Accuracy\", \"textposition\": \"inside\", \"hole\": 0.4}], {\"title\": \"Total mean accuracy\", \"annotations\": [{\"font\": {\"size\": 20}, \"showarrow\": false, \"text\": \"Accuracy\"}]}, {\"showLink\": true, \"linkText\": \"Export to plot.ly\"})});</script>"
      ]
     },
     "metadata": {},
     "output_type": "display_data"
    }
   ],
   "source": [
    "from main_widget import display_main_form\n",
    "\n",
    "display_main_form()"
   ]
  }
 ],
 "metadata": {
  "kernelspec": {
   "display_name": "Python 3.6 (whose_env)",
   "language": "python",
   "name": "whose_env"
  },
  "language_info": {
   "codemirror_mode": {
    "name": "ipython",
    "version": 3
   },
   "file_extension": ".py",
   "mimetype": "text/x-python",
   "name": "python",
   "nbconvert_exporter": "python",
   "pygments_lexer": "ipython3",
   "version": "3.6.0b2"
  }
 },
 "nbformat": 4,
 "nbformat_minor": 2
}
