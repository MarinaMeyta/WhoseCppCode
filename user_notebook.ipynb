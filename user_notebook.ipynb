{
 "cells": [
  {
   "cell_type": "markdown",
   "metadata": {},
   "source": [
    "# \"WhoseCppCode\"\n",
    "\n",
    "Данное программное обепечение предназначено для классификации авторов исходного кода программ на языке С/С++.\n",
    "\n",
    "WhoseCppCode» предоставляет следующие возможности:\n",
    " * обработка файлов исходного кода на языке С/С++;\n",
    " * сбор данных с ресурса GitHub;\n",
    " * построение модели классификации авторов программного обеспечения;\n",
    " * формирование отчетности в форматах .json и .csv;\n",
    " * визуализация результатов классификации."
   ]
  },
  {
   "cell_type": "markdown",
   "metadata": {},
   "source": [
    "## Сбор и обработка данных с ресурса GitHib\n",
    "\n",
    "Введите список пользователей через запятую.\n",
    "\n",
    "Удаление пустых файлов и изменение кодировки."
   ]
  },
  {
   "cell_type": "code",
   "execution_count": 1,
   "metadata": {
    "scrolled": true
   },
   "outputs": [
    {
     "data": {
      "application/vnd.jupyter.widget-view+json": {
       "model_id": "57c0f2e7b58e4f3ea3a36cbfb654e64d"
      }
     },
     "metadata": {},
     "output_type": "display_data"
    },
    {
     "data": {
      "application/vnd.jupyter.widget-view+json": {
       "model_id": "a420762951194669ad0a21c29bee08b1"
      }
     },
     "metadata": {},
     "output_type": "display_data"
    }
   ],
   "source": [
    "from scrap_widget import display_scrapping_form\n",
    "\n",
    "display_scrapping_form()"
   ]
  },
  {
   "cell_type": "markdown",
   "metadata": {
    "collapsed": true
   },
   "source": [
    "## Матрица объектов-признаков\n",
    "\n",
    "Формирование матрицы объектов-признаков для дальнейшей классификации. Объектами в данном случае являются авторы\n",
    "исходного кода, признаками - вычисленный для каждого автора на основе набора файлов исходного кода вектор\n",
    "значений признаков, характеризующих индивидуальный стиль разработчика.\n",
    "\n",
    "Матрица объектов-признаков вычисляется отдельно во избежание повторения вычислений, а также\n",
    "сокращения времени, затрачиваемого на обучение и тестирование классификатора."
   ]
  },
  {
   "cell_type": "code",
   "execution_count": 2,
   "metadata": {
    "scrolled": true
   },
   "outputs": [
    {
     "data": {
      "application/vnd.jupyter.widget-view+json": {
       "model_id": "9771c57e393d475784542b888b77b5ba"
      }
     },
     "metadata": {},
     "output_type": "display_data"
    }
   ],
   "source": [
    "from sample_matrix_widget import display_matrix_widget\n",
    "\n",
    "# Путь к данным\n",
    "path = './data/'\n",
    "outpath = './data/matricies/'\n",
    "\n",
    "display_matrix_widget(path, outpath)"
   ]
  },
  {
   "cell_type": "markdown",
   "metadata": {},
   "source": [
    "## Классификация\n",
    "\n",
    "Построение модели классификации, ее обучение на выбранном наборе данных, визуализация результатов.\n",
    "\n",
    "Отчеты по результатам работы программы в форматах .json и .csv располагаются в директории results в корне проекта.\n",
    "\n",
    "Ввод:\n",
    "* **Циклов** - количество итераций эксперимента\n",
    "* **Данные** - данные для классификации: \n",
    "    * students - лабораторные работы студентов каф. КИБЭВС по дисциплине \"Основы программирования\"\n",
    "    * Google Code Jam 2016 - работы участников ежегодной олимпиады по программированию от компании Google\n",
    "    * GitHub - данные с веб-хостинга GitHub\n",
    "* **Алгоритм** - алгоритм классификации"
   ]
  },
  {
   "cell_type": "code",
   "execution_count": 3,
   "metadata": {},
   "outputs": [
    {
     "data": {
      "text/html": [
       "<script>requirejs.config({paths: { 'plotly': ['https://cdn.plot.ly/plotly-latest.min']},});if(!window.Plotly) {{require(['plotly'],function(plotly) {window.Plotly=plotly;});}}</script>"
      ],
      "text/vnd.plotly.v1+html": [
       "<script>requirejs.config({paths: { 'plotly': ['https://cdn.plot.ly/plotly-latest.min']},});if(!window.Plotly) {{require(['plotly'],function(plotly) {window.Plotly=plotly;});}}</script>"
      ]
     },
     "metadata": {},
     "output_type": "display_data"
    },
    {
     "data": {
      "application/vnd.jupyter.widget-view+json": {
       "model_id": "c0a04f92b2174712873e1024605c6b64"
      }
     },
     "metadata": {},
     "output_type": "display_data"
    },
    {
     "data": {
      "application/vnd.jupyter.widget-view+json": {
       "model_id": "bea3716ae46846c4841918e2f2b9da21"
      }
     },
     "metadata": {},
     "output_type": "display_data"
    }
   ],
   "source": [
    "from main_widget import display_main_form\n",
    "\n",
    "display_main_form()"
   ]
  }
 ],
 "metadata": {
  "kernelspec": {
   "display_name": "Python 3.6 (whose_env)",
   "language": "python",
   "name": "whose_env"
  },
  "language_info": {
   "codemirror_mode": {
    "name": "ipython",
    "version": 3
   },
   "file_extension": ".py",
   "mimetype": "text/x-python",
   "name": "python",
   "nbconvert_exporter": "python",
   "pygments_lexer": "ipython3",
   "version": "3.6.0b2"
  }
 },
 "nbformat": 4,
 "nbformat_minor": 2
}
