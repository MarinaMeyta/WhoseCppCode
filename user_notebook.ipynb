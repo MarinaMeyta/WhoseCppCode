{
 "cells": [
  {
   "cell_type": "markdown",
   "metadata": {},
   "source": [
    "# \"WhoseCppCode\"\n",
    "\n",
    "Данное программное обепечение предназначено для классификации авторов исходного кода программ на языке С/С++.\n",
    "\n",
    "WhoseCppCode» предоставляет следующие возможности:\n",
    " * обработка файлов исходного кода на языке С/С++;\n",
    " * сбор данных с ресурса GitHub;\n",
    " * построение модели классификации авторов программного обеспечения;\n",
    " * формирование отчетности в форматах .json и .csv;\n",
    " * визуализация результатов классификации."
   ]
  },
  {
   "cell_type": "markdown",
   "metadata": {},
   "source": [
    "## Сбор и обработка данных с ресурса GitHib\n",
    "\n",
    "Введите список пользователей через запятую.\n",
    "\n",
    "Удаление пустых файлов и изменение кодировки."
   ]
  },
  {
   "cell_type": "code",
   "execution_count": 1,
   "metadata": {
    "scrolled": true
   },
   "outputs": [
    {
     "name": "stdout",
     "output_type": "stream",
     "text": [
      "Идет сбор файлов, пожалуйста, подождите...\n",
      "\n",
      "Готово. Данные расположены в корне проекта в папке data.\n",
      "\n",
      "Если данные не были загружены, проверьте правильность ввода логина, пароля, а также имен пользователей.\n"
     ]
    }
   ],
   "source": [
    "from scrap_widget import display_scrapping_form\n",
    "\n",
    "display_scrapping_form()"
   ]
  },
  {
   "cell_type": "markdown",
   "metadata": {
    "collapsed": true
   },
   "source": [
    "## Матрица объектов-признаков\n",
    "\n",
    "Формирование матрицы объектов-признаков для дальнейшей классификации. Объектами в данном случае являются авторы\n",
    "исходного кода, признаками - вычисленный для каждого автора на основе набора файлов исходного кода вектор\n",
    "значений признаков, характеризующих индивидуальный стиль разработчика.\n",
    "\n",
    "Матрица объектов-признаков вычисляется отдельно во избежание повторения вычислений, а также\n",
    "сокращения времени, затрачиваемого на обучение и тестирование классификатора."
   ]
  },
  {
   "cell_type": "code",
   "execution_count": 2,
   "metadata": {
    "scrolled": true
   },
   "outputs": [
    {
     "name": "stdout",
     "output_type": "stream",
     "text": [
      "Готово.\n"
     ]
    }
   ],
   "source": [
    "from sample_matrix_widget import display_matrix_widget\n",
    "\n",
    "# Путь к данным\n",
    "path = './data/'\n",
    "outpath = './data/matricies/'\n",
    "\n",
    "display_matrix_widget(path, outpath)"
   ]
  },
  {
   "cell_type": "markdown",
   "metadata": {},
   "source": [
    "## Классификация\n",
    "\n",
    "Построение модели классификации, ее обучение на выбранном наборе данных, визуализация результатов.\n",
    "\n",
    "Отчеты по результатам работы программы в форматах .json и .csv располагаются в директории results в корне проекта.\n",
    "\n",
    "Ввод:\n",
    "* **Циклов** - количество итераций эксперимента\n",
    "* **Данные** - данные для классификации: \n",
    "    * students - лабораторные работы студентов каф. КИБЭВС по дисциплине \"Основы программирования\"\n",
    "    * Google Code Jam 2016 - работы участников ежегодной олимпиады по программированию от компании Google\n",
    "    * GitHub - данные с веб-хостинга GitHub\n",
    "* **Алгоритм** - алгоритм классификации"
   ]
  },
  {
   "cell_type": "code",
   "execution_count": 4,
   "metadata": {},
   "outputs": [
    {
     "data": {
      "application/vnd.jupyter.widget-view+json": {
       "model_id": "9936e5870a594e3ca40258f7f989f366"
      }
     },
     "metadata": {},
     "output_type": "display_data"
    },
    {
     "data": {
      "application/vnd.jupyter.widget-view+json": {
       "model_id": "eead50fca7704565b125649de0725293"
      }
     },
     "metadata": {},
     "output_type": "display_data"
    }
   ],
   "source": [
    "from main_widget import display_main_form\n",
    "\n",
    "display_main_form()"
   ]
  }
 ],
 "metadata": {
  "kernelspec": {
   "display_name": "Python 3.6 (whose_env)",
   "language": "python",
   "name": "whose_env"
  },
  "language_info": {
   "codemirror_mode": {
    "name": "ipython",
    "version": 3
   },
   "file_extension": ".py",
   "mimetype": "text/x-python",
   "name": "python",
   "nbconvert_exporter": "python",
   "pygments_lexer": "ipython3",
   "version": "3.6.0b2"
  }
 },
 "nbformat": 4,
 "nbformat_minor": 2
}
