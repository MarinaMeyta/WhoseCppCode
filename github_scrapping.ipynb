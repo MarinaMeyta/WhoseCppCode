{
 "cells": [
  {
   "cell_type": "markdown",
   "metadata": {},
   "source": [
    "# GitHub scrapping\n",
    "\n",
    "Form for scrapping GitHub data"
   ]
  },
  {
   "cell_type": "code",
   "execution_count": 1,
   "metadata": {},
   "outputs": [
    {
     "data": {
      "application/vnd.jupyter.widget-view+json": {
       "model_id": "ae749915fe5f40678355a8223f80a294"
      }
     },
     "metadata": {},
     "output_type": "display_data"
    },
    {
     "data": {
      "application/vnd.jupyter.widget-view+json": {
       "model_id": "3f22dc5e8755445ba613013f3892b1b8"
      }
     },
     "metadata": {},
     "output_type": "display_data"
    }
   ],
   "source": [
    "# %load_ext autoreload\n",
    "%reload_ext autoreload\n",
    "%autoreload\n",
    "\n",
    "\n",
    "from ipywidgets import Text, IntSlider, Box, Layout, Label, Dropdown, Textarea, Button\n",
    "from IPython.display import display, HTML, clear_output\n",
    "\n",
    "from core.github_scrapper import scrap\n",
    "\n",
    "userlist = ['paroj', 'asmorkalov', 'edgarriba', 'mariarti91', 'GoodRon', \n",
    "            'Mooophy', 'pezy', 'Soyn', 'sipa', 'gavinandresen',\n",
    "            'theuni', 'luke-jr', 'ddunbar', 'redboltz', 'frsyuki',\n",
    "            'tanakh', 'danmar', 'orbitcowboy', 'XhmikosR', 'zblair',\n",
    "            'ghewgill', 'singku', 'eriklax', 'HeisSpiter', 'JIghtuse',\n",
    "            'rpavlik', 'gavofyork', 'chfast', 'debris', 'lballabio']\n",
    "\n",
    "form_layout = Layout(\n",
    "    display='flex',\n",
    "    flex_flow='column',\n",
    "    align_items='stretch',\n",
    "    width='50%'\n",
    ")\n",
    "\n",
    "form_item_layout = Layout(\n",
    "    display='flex',\n",
    "    flex_flow='row',\n",
    "    justify_content='space-between'\n",
    ")\n",
    "\n",
    "\n",
    "username = Text()\n",
    "password = Text()\n",
    "\n",
    "\n",
    "# Text(value='Username')\n",
    "\n",
    "\n",
    "scrap_form_items = [\n",
    "    Box([Label(value='Username:'), username], layout=form_item_layout),\n",
    "    Box([Label(value='Password:'), password], layout=form_item_layout),\n",
    "\n",
    "]\n",
    "\n",
    "def scrap_github(b):\n",
    "    clear_output()\n",
    "    if username.value and password.value:\n",
    "        print('Getting files, please, wait...')\n",
    "        scrap(userlist, username.value, password.value)\n",
    "        print('Done')\n",
    "    else:\n",
    "        print('Please, enter data')\n",
    "\n",
    "scrap_form = Box(scrap_form_items, layout=form_layout)\n",
    "\n",
    "scrap_button = Button(description='Scrap GitHub', tooltip='Click me', icon='check', button_style='success')\n",
    "scrap_button.on_click(scrap_github)\n",
    "\n",
    "display(scrap_form, scrap_button)"
   ]
  }
 ],
 "metadata": {
  "kernelspec": {
   "display_name": "Python 3.6 (whose_env)",
   "language": "python",
   "name": "whose_env"
  },
  "language_info": {
   "codemirror_mode": {
    "name": "ipython",
    "version": 3
   },
   "file_extension": ".py",
   "mimetype": "text/x-python",
   "name": "python",
   "nbconvert_exporter": "python",
   "pygments_lexer": "ipython3",
   "version": "3.6.0b2"
  }
 },
 "nbformat": 4,
 "nbformat_minor": 2
}
