{
 "cells": [
  {
   "cell_type": "code",
   "execution_count": 1,
   "metadata": {
    "scrolled": true
   },
   "outputs": [
    {
     "data": {
      "text/html": [
       "<script>\n",
       "code_show=true; \n",
       "function code_toggle() {\n",
       " if (code_show){\n",
       " $('div.input').hide();\n",
       " } else {\n",
       " $('div.input').show();\n",
       " }\n",
       " code_show = !code_show\n",
       "} \n",
       "$( document ).ready(code_toggle);\n",
       "</script>\n",
       "<a href=\"javascript:code_toggle()\">Show/hide code</a>"
      ],
      "text/plain": [
       "<IPython.core.display.HTML object>"
      ]
     },
     "execution_count": 1,
     "metadata": {},
     "output_type": "execute_result"
    }
   ],
   "source": [
    "from IPython.display import HTML\n",
    "\n",
    "HTML('''<script>\n",
    "code_show=true; \n",
    "function code_toggle() {\n",
    " if (code_show){\n",
    " $('div.input').hide();\n",
    " } else {\n",
    " $('div.input').show();\n",
    " }\n",
    " code_show = !code_show\n",
    "} \n",
    "$( document ).ready(code_toggle);\n",
    "</script>\n",
    "<a href=\"javascript:code_toggle()\">Show/hide code</a>''')"
   ]
  },
  {
   "cell_type": "markdown",
   "metadata": {},
   "source": [
    "### main functions"
   ]
  },
  {
   "cell_type": "code",
   "execution_count": 2,
   "metadata": {
    "collapsed": true
   },
   "outputs": [],
   "source": [
    "# %load_ext autoreload\n",
    "%reload_ext autoreload\n",
    "%autoreload\n",
    "\n",
    "from ipywidgets import IntSlider, Box, Layout, Label, Dropdown, Button\n",
    "from IPython.display import display, HTML, clear_output\n",
    "from core.whose_cpp_code import classify_authors\n",
    "from numpy import mean, std\n",
    "import pandas as pd\n",
    "import matplotlib.pyplot as plt\n",
    "import warnings\n",
    "\n",
    "warnings.filterwarnings(\"ignore\")   \n",
    "\n",
    "\n",
    "def get_confidence(array):\n",
    "    alpha = 0.95\n",
    "    m = mean(array)  # general average\n",
    "    sigma = std(array)  # standard deviation \n",
    "\n",
    "    # confidence interval\n",
    "    print('mean accuracy: ', m)\n",
    "    print('standart deviation: ', sigma)\n",
    "    print('confidence interval: (', m - alpha * sigma, ';', m + alpha * sigma, ')')\n",
    "\n",
    "\n",
    "form_layout = Layout(\n",
    "    display='flex',\n",
    "    flex_flow='column',\n",
    "    align_items='stretch',\n",
    "    width='50%'\n",
    ")\n",
    "\n",
    "form_item_layout = Layout(\n",
    "    display='flex',\n",
    "    flex_flow='row',\n",
    "    justify_content='space-between'\n",
    ")\n",
    "\n",
    "\n",
    "# loops = IntSlider(min=1, max=10)\n",
    "data = Dropdown(options={'students' : '/media/marina/hdd/diploma/data/c++/data/', \n",
    "                           'GoogleCodeJam' : '/media/marina/hdd/diploma/data/c++/data3/', \n",
    "                           'GitHub' : './data'})\n",
    "classifier =  Dropdown(options={'RandomForest' : 'RandomForestClassifier', \n",
    "                                'GradientBoosting' : 'GradientBoostingClassifier',\n",
    "                                'ExtraTrees' : 'ExtraTreesClassifier',\n",
    "                                'AdaBoost' : 'AdaBoostClassifier'})"
   ]
  },
  {
   "cell_type": "code",
   "execution_count": 3,
   "metadata": {
    "scrolled": false
   },
   "outputs": [
    {
     "data": {
      "text/html": [
       "<script>requirejs.config({paths: { 'plotly': ['https://cdn.plot.ly/plotly-latest.min']},});if(!window.Plotly) {{require(['plotly'],function(plotly) {window.Plotly=plotly;});}}</script>"
      ],
      "text/vnd.plotly.v1+html": [
       "<script>requirejs.config({paths: { 'plotly': ['https://cdn.plot.ly/plotly-latest.min']},});if(!window.Plotly) {{require(['plotly'],function(plotly) {window.Plotly=plotly;});}}</script>"
      ]
     },
     "metadata": {},
     "output_type": "display_data"
    }
   ],
   "source": [
    "# %load_ext autoreload\n",
    "%reload_ext autoreload\n",
    "%autoreload\n",
    "\n",
    "from plotly import __version__\n",
    "from plotly.offline import download_plotlyjs, init_notebook_mode, plot, iplot\n",
    "import plotly.graph_objs as go\n",
    "\n",
    "init_notebook_mode(connected=True)\n",
    "\n",
    "def make_metrics_bar(metrics, loops_num):\n",
    "    \n",
    "    trace0 = go.Bar(\n",
    "        x=list(range(1, loops_num+1)),\n",
    "        y=metrics['f1_score'],\n",
    "        name='F1-score',\n",
    "        marker=dict(\n",
    "            color='rgb(136, 142, 150)'\n",
    "        )\n",
    "    )\n",
    "    trace1 = go.Bar(\n",
    "        x=list(range(1, loops_num+1)),\n",
    "        y=metrics['precision'],\n",
    "        name='Precision',\n",
    "        marker=dict(\n",
    "            color='rgb(204,204,204)',\n",
    "        )\n",
    "    )\n",
    "    trace2 = go.Bar(\n",
    "        x=list(range(1, loops_num+1)),\n",
    "        y=metrics['recall'],\n",
    "        name='Recall',\n",
    "        marker=dict(\n",
    "            color='rgb(144, 177, 229)',\n",
    "        )\n",
    "    )\n",
    "    trace3 = go.Bar(\n",
    "        x=list(range(1, loops_num+1)),\n",
    "        y=metrics['accuracy'],\n",
    "        name='Accuracy',\n",
    "        marker=dict(\n",
    "            color='rgb(49,130,189)',\n",
    "        )\n",
    "    )\n",
    "\n",
    "    data = [trace0, trace1, trace2, trace3]\n",
    "    layout = go.Layout(\n",
    "        xaxis=dict(\n",
    "            tickangle=-45,\n",
    "            title='Number of experiment',\n",
    "            titlefont=dict(\n",
    "                size=16,\n",
    "                color='rgb(107, 107, 107)'\n",
    "            ),\n",
    "            tickfont=dict(\n",
    "                size=14,\n",
    "                color='rgb(107, 107, 107)'\n",
    "            )\n",
    "        ),\n",
    "        yaxis=dict(\n",
    "            title='Value, %',\n",
    "            titlefont=dict(\n",
    "                size=16,\n",
    "                color='rgb(107, 107, 107)'\n",
    "            ),\n",
    "            tickfont=dict(\n",
    "                size=14,\n",
    "                color='rgb(107, 107, 107)'\n",
    "            )\n",
    "        ),\n",
    "        barmode='group',\n",
    "        title='Classification metrics',\n",
    "    )\n",
    "\n",
    "    fig = go.Figure(data=data, layout=layout)\n",
    "    iplot(fig, filename='metrics-bar')\n",
    "    \n",
    "\n",
    "def make_pie(mean_accuracy):\n",
    "    fig = {\n",
    "      \"data\": [\n",
    "        {\n",
    "          \"values\": [1-mean_accuracy, mean_accuracy],\n",
    "          \"labels\": ['Wrong predicted samples, %', 'True predictes samples, %'],\n",
    "          \"type\": \"pie\",\n",
    "          \"text\": \"Accuracy\",\n",
    "          \"textposition\":\"inside\",\n",
    "          \"hole\": .4,\n",
    "    #       \"domain\": {\"x\": [.52, 1]},\n",
    "        }],\n",
    "      \"layout\": {\n",
    "            \"title\": 'Total mean accuracy',\n",
    "\n",
    "            \"annotations\": [\n",
    "                {\n",
    "                    \"font\": {\n",
    "                        \"size\": 20\n",
    "                    },\n",
    "                    \"showarrow\": False,\n",
    "                    \"text\": \"Accuracy\",\n",
    "                }\n",
    "            ]\n",
    "        }\n",
    "    }\n",
    "    iplot(fig)"
   ]
  },
  {
   "cell_type": "code",
   "execution_count": 4,
   "metadata": {
    "collapsed": true
   },
   "outputs": [],
   "source": [
    "# %load_ext autoreload\n",
    "%reload_ext autoreload\n",
    "%autoreload\n",
    "\n",
    "import numpy as np\n",
    "import time\n",
    "\n",
    "loops = IntSlider(min=1, max=10)\n",
    "\n",
    "form_items = [\n",
    "    Box([Label(value='Loops:'), loops], layout=form_item_layout),\n",
    "    Box([Label(value='Data:'), data], layout=form_item_layout),\n",
    "    Box([Label(value='Classifier:'), classifier], layout=form_item_layout),\n",
    "]\n",
    "\n",
    "\n",
    "def classify_mul(b):\n",
    "    clear_output()\n",
    "    accuracy, precision, recall, f1_score = [],[],[],[]\n",
    "    start_time = time.time()\n",
    "    for loop in range(loops.value):\n",
    "        print('Loop ', loop + 1, ': Please, wait...')\n",
    "        report = classify_authors(data.value, classifier.value)\n",
    "        df = pd.DataFrame(report)\n",
    "        accuracy.append(mean(df['accuracy'].tolist()))\n",
    "        precision.append(mean(df['precision'].tolist()))\n",
    "        recall.append(mean(df['recall'].tolist()))\n",
    "        f1_score.append(mean(df['f1_score'].tolist()))\n",
    "\n",
    "    run_time = round(time.time() - start_time, 2)\n",
    "    print('Run time in sec: ', run_time)\n",
    "    \n",
    "    metrics = {'f1_score' : f1_score, \n",
    "               'precision' : precision, \n",
    "               'recall': recall,\n",
    "               'accuracy' : accuracy\n",
    "              }\n",
    "    make_metrics_bar(metrics, loops.value)\n",
    "\n",
    "    mean_accuracy = mean(accuracy)\n",
    "    make_pie(mean_accuracy)\n",
    "    \n",
    "    # saving results to csv\n",
    "    metrics.update({'classifier' : classifier.value})\n",
    "    result_df = pd.DataFrame(metrics)\n",
    "    result_df.to_csv('results.csv', mode='w')\n",
    "\n",
    "   \n",
    "\n",
    "form = Box(form_items, layout=form_layout)\n",
    "classify_mul_btn = Button(description='Classify', tooltip='Click me', icon='check', button_style='success')\n",
    "classify_mul_btn.on_click(classify_mul)"
   ]
  },
  {
   "cell_type": "markdown",
   "metadata": {},
   "source": [
    "## main module"
   ]
  },
  {
   "cell_type": "code",
   "execution_count": 5,
   "metadata": {
    "scrolled": true
   },
   "outputs": [
    {
     "name": "stdout",
     "output_type": "stream",
     "text": [
      "Loop  1 : Please, wait...\n",
      "1973\n",
      "1973\n",
      "features: [ [-7.322774599895113, -7.322774599895113, 0, 0, -1.6522042594450257, 0, -3.5709203466197885, 0.219756999471738, 186, 35.54929577464789, -7.545918151209323, -7.545918151209323, -5.936480238775222, -5.936480238775222, -7.545918151209323, -5.936480238775222]\n",
      " [-5.7439642642890325, -5.849324779946859, -8.046549357283078, 0, -1.5437593113674548, 0, -3.5356898507662287, 0.24271533781620236, 75, 34.31868131868132, -8.046549357283078, -8.046549357283078, -5.7439642642890325, -5.967107815603243, -7.353402176723133, -5.648654084484708]\n",
      " [-4.482374608508164, -4.482374608508164, 0, 0, -2.0744289998562917, 0, -3.096080247388273, 0.1708542713567839, 27, 22.11111111111111, -6.679599185844383, -6.679599185844383, -6.679599185844383, 0, -6.679599185844383, -6.679599185844383]\n",
      " ...,\n",
      " [-7.423866907177365, -7.423866907177365, 0, 0, -2.6574285735931515, -3.2728270012787193, -3.140280345316736, 0.1512981199641898, 123, 23.110344827586207, -5.344425365497529, -5.71911881493894, -5.283800743681095, -5.344425365497529, -5.71911881493894, -5.283800743681095]\n",
      " [-8.4071550862073, -8.4071550862073, 0, 0, -3.289161273790545, -3.9645038297169837, -3.6886562149122057, 0.08126814020986828, 100, 39.99107142857143, -6.00925981340893, -6.327713544527464, -6.00925981340893, -6.00925981340893, -6.327713544527464, -6.00925981340893]\n",
      " [0, 0, 0, 0, -2.967332799032293, -3.7013019741124937, -2.6897010624340134, 0.1440329218106996, 26, 14.727272727272727, -6.186208623900494, -6.186208623900494, -5.493061443340548, -6.186208623900494, -5.493061443340548, -6.186208623900494]]\n",
      "keywords: [[ 0.  0.  0. ...,  0.  0.  0.]\n",
      " [ 0.  0.  0. ...,  0.  0.  0.]\n",
      " [ 0.  0.  0. ...,  0.  0.  0.]\n",
      " ..., \n",
      " [ 0.  0.  0. ...,  0.  0.  0.]\n",
      " [ 0.  0.  0. ...,  0.  0.  0.]\n",
      " [ 0.  0.  0. ...,  0.  0.  0.]]\n"
     ]
    },
    {
     "ename": "ValueError",
     "evalue": "all the input arrays must have same number of dimensions",
     "output_type": "error",
     "traceback": [
      "\u001b[0;31m---------------------------------------------------------------------------\u001b[0m",
      "\u001b[0;31mValueError\u001b[0m                                Traceback (most recent call last)",
      "\u001b[0;32m<ipython-input-4-358ce3db4962>\u001b[0m in \u001b[0;36mclassify_mul\u001b[0;34m(b)\u001b[0m\n\u001b[1;32m     21\u001b[0m     \u001b[0;32mfor\u001b[0m \u001b[0mloop\u001b[0m \u001b[0;32min\u001b[0m \u001b[0mrange\u001b[0m\u001b[0;34m(\u001b[0m\u001b[0mloops\u001b[0m\u001b[0;34m.\u001b[0m\u001b[0mvalue\u001b[0m\u001b[0;34m)\u001b[0m\u001b[0;34m:\u001b[0m\u001b[0;34m\u001b[0m\u001b[0m\n\u001b[1;32m     22\u001b[0m         \u001b[0mprint\u001b[0m\u001b[0;34m(\u001b[0m\u001b[0;34m'Loop '\u001b[0m\u001b[0;34m,\u001b[0m \u001b[0mloop\u001b[0m \u001b[0;34m+\u001b[0m \u001b[0;36m1\u001b[0m\u001b[0;34m,\u001b[0m \u001b[0;34m': Please, wait...'\u001b[0m\u001b[0;34m)\u001b[0m\u001b[0;34m\u001b[0m\u001b[0m\n\u001b[0;32m---> 23\u001b[0;31m         \u001b[0mreport\u001b[0m \u001b[0;34m=\u001b[0m \u001b[0mclassify_authors\u001b[0m\u001b[0;34m(\u001b[0m\u001b[0mdata\u001b[0m\u001b[0;34m.\u001b[0m\u001b[0mvalue\u001b[0m\u001b[0;34m,\u001b[0m \u001b[0mclassifier\u001b[0m\u001b[0;34m.\u001b[0m\u001b[0mvalue\u001b[0m\u001b[0;34m)\u001b[0m\u001b[0;34m\u001b[0m\u001b[0m\n\u001b[0m\u001b[1;32m     24\u001b[0m         \u001b[0mdf\u001b[0m \u001b[0;34m=\u001b[0m \u001b[0mpd\u001b[0m\u001b[0;34m.\u001b[0m\u001b[0mDataFrame\u001b[0m\u001b[0;34m(\u001b[0m\u001b[0mreport\u001b[0m\u001b[0;34m)\u001b[0m\u001b[0;34m\u001b[0m\u001b[0m\n\u001b[1;32m     25\u001b[0m         \u001b[0maccuracy\u001b[0m\u001b[0;34m.\u001b[0m\u001b[0mappend\u001b[0m\u001b[0;34m(\u001b[0m\u001b[0mmean\u001b[0m\u001b[0;34m(\u001b[0m\u001b[0mdf\u001b[0m\u001b[0;34m[\u001b[0m\u001b[0;34m'accuracy'\u001b[0m\u001b[0;34m]\u001b[0m\u001b[0;34m.\u001b[0m\u001b[0mtolist\u001b[0m\u001b[0;34m(\u001b[0m\u001b[0;34m)\u001b[0m\u001b[0;34m)\u001b[0m\u001b[0;34m)\u001b[0m\u001b[0;34m\u001b[0m\u001b[0m\n",
      "\u001b[0;32m/media/marina/hdd/diploma/whose_cpp_code/core/whose_cpp_code.py\u001b[0m in \u001b[0;36mclassify_authors\u001b[0;34m(path_to_data, method)\u001b[0m\n\u001b[1;32m     94\u001b[0m     \u001b[0;31m# X is a whole original dataset of samples\u001b[0m\u001b[0;34m\u001b[0m\u001b[0;34m\u001b[0m\u001b[0m\n\u001b[1;32m     95\u001b[0m     \u001b[0;31m# y is corresponding authors\u001b[0m\u001b[0;34m\u001b[0m\u001b[0;34m\u001b[0m\u001b[0m\n\u001b[0;32m---> 96\u001b[0;31m     \u001b[0mX\u001b[0m \u001b[0;34m=\u001b[0m \u001b[0mget_sample_matrix\u001b[0m\u001b[0;34m(\u001b[0m\u001b[0mfilenames\u001b[0m\u001b[0;34m)\u001b[0m\u001b[0;34m\u001b[0m\u001b[0m\n\u001b[0m\u001b[1;32m     97\u001b[0m     \u001b[0my\u001b[0m \u001b[0;34m=\u001b[0m \u001b[0mauthors\u001b[0m\u001b[0;34m\u001b[0m\u001b[0m\n\u001b[1;32m     98\u001b[0m \u001b[0;34m\u001b[0m\u001b[0m\n",
      "\u001b[0;32m/media/marina/hdd/diploma/whose_cpp_code/core/whose_cpp_code.py\u001b[0m in \u001b[0;36mget_sample_matrix\u001b[0;34m(filenames)\u001b[0m\n\u001b[1;32m     48\u001b[0m     \u001b[0mprint\u001b[0m\u001b[0;34m(\u001b[0m\u001b[0;34m'features:'\u001b[0m\u001b[0;34m,\u001b[0m \u001b[0mfeatures\u001b[0m\u001b[0;34m)\u001b[0m\u001b[0;34m\u001b[0m\u001b[0m\n\u001b[1;32m     49\u001b[0m     \u001b[0mprint\u001b[0m\u001b[0;34m(\u001b[0m\u001b[0;34m'keywords:'\u001b[0m\u001b[0;34m,\u001b[0m \u001b[0mkeywords\u001b[0m\u001b[0;34m)\u001b[0m\u001b[0;34m\u001b[0m\u001b[0m\n\u001b[0;32m---> 50\u001b[0;31m     \u001b[0mmatrix\u001b[0m \u001b[0;34m=\u001b[0m \u001b[0mnp\u001b[0m\u001b[0;34m.\u001b[0m\u001b[0mhstack\u001b[0m\u001b[0;34m(\u001b[0m\u001b[0;34m(\u001b[0m\u001b[0mfeatures\u001b[0m\u001b[0;34m,\u001b[0m \u001b[0mkeywords\u001b[0m\u001b[0;34m)\u001b[0m\u001b[0;34m)\u001b[0m\u001b[0;34m\u001b[0m\u001b[0m\n\u001b[0m\u001b[1;32m     51\u001b[0m     \u001b[0;32mreturn\u001b[0m \u001b[0mmatrix\u001b[0m\u001b[0;34m\u001b[0m\u001b[0m\n\u001b[1;32m     52\u001b[0m \u001b[0;34m\u001b[0m\u001b[0m\n",
      "\u001b[0;32m/media/marina/hdd/diploma/whose_cpp_code/whose_env/lib/python3.6/site-packages/numpy/core/shape_base.py\u001b[0m in \u001b[0;36mhstack\u001b[0;34m(tup)\u001b[0m\n\u001b[1;32m    284\u001b[0m     \u001b[0;31m# As a special case, dimension 0 of 1-dimensional arrays is \"horizontal\"\u001b[0m\u001b[0;34m\u001b[0m\u001b[0;34m\u001b[0m\u001b[0m\n\u001b[1;32m    285\u001b[0m     \u001b[0;32mif\u001b[0m \u001b[0marrs\u001b[0m\u001b[0;34m[\u001b[0m\u001b[0;36m0\u001b[0m\u001b[0;34m]\u001b[0m\u001b[0;34m.\u001b[0m\u001b[0mndim\u001b[0m \u001b[0;34m==\u001b[0m \u001b[0;36m1\u001b[0m\u001b[0;34m:\u001b[0m\u001b[0;34m\u001b[0m\u001b[0m\n\u001b[0;32m--> 286\u001b[0;31m         \u001b[0;32mreturn\u001b[0m \u001b[0m_nx\u001b[0m\u001b[0;34m.\u001b[0m\u001b[0mconcatenate\u001b[0m\u001b[0;34m(\u001b[0m\u001b[0marrs\u001b[0m\u001b[0;34m,\u001b[0m \u001b[0;36m0\u001b[0m\u001b[0;34m)\u001b[0m\u001b[0;34m\u001b[0m\u001b[0m\n\u001b[0m\u001b[1;32m    287\u001b[0m     \u001b[0;32melse\u001b[0m\u001b[0;34m:\u001b[0m\u001b[0;34m\u001b[0m\u001b[0m\n\u001b[1;32m    288\u001b[0m         \u001b[0;32mreturn\u001b[0m \u001b[0m_nx\u001b[0m\u001b[0;34m.\u001b[0m\u001b[0mconcatenate\u001b[0m\u001b[0;34m(\u001b[0m\u001b[0marrs\u001b[0m\u001b[0;34m,\u001b[0m \u001b[0;36m1\u001b[0m\u001b[0;34m)\u001b[0m\u001b[0;34m\u001b[0m\u001b[0m\n",
      "\u001b[0;31mValueError\u001b[0m: all the input arrays must have same number of dimensions"
     ]
    }
   ],
   "source": [
    "display(form, classify_mul_btn)"
   ]
  }
 ],
 "metadata": {
  "kernelspec": {
   "display_name": "Python 3.6 (whose_env)",
   "language": "python",
   "name": "whose_env"
  },
  "language_info": {
   "codemirror_mode": {
    "name": "ipython",
    "version": 3
   },
   "file_extension": ".py",
   "mimetype": "text/x-python",
   "name": "python",
   "nbconvert_exporter": "python",
   "pygments_lexer": "ipython3",
   "version": "3.6.0b2"
  }
 },
 "nbformat": 4,
 "nbformat_minor": 2
}
