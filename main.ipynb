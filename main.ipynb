{
 "cells": [
  {
   "cell_type": "code",
   "execution_count": 3,
   "metadata": {},
   "outputs": [
    {
     "data": {
      "text/html": [
       "<script>\n",
       "code_show=true; \n",
       "function code_toggle() {\n",
       " if (code_show){\n",
       " $('div.input').hide();\n",
       " } else {\n",
       " $('div.input').show();\n",
       " }\n",
       " code_show = !code_show\n",
       "} \n",
       "$( document ).ready(code_toggle);\n",
       "</script>\n",
       "The raw code for this IPython notebook is by default hidden for easier reading.\n",
       "To toggle on/off the raw code, click <a href=\"javascript:code_toggle()\">here</a>."
      ],
      "text/plain": [
       "<IPython.core.display.HTML object>"
      ]
     },
     "execution_count": 3,
     "metadata": {},
     "output_type": "execute_result"
    }
   ],
   "source": [
    "from IPython.display import HTML\n",
    "\n",
    "HTML('''<script>\n",
    "code_show=true; \n",
    "function code_toggle() {\n",
    " if (code_show){\n",
    " $('div.input').hide();\n",
    " } else {\n",
    " $('div.input').show();\n",
    " }\n",
    " code_show = !code_show\n",
    "} \n",
    "$( document ).ready(code_toggle);\n",
    "</script>\n",
    "The raw code for this IPython notebook is by default hidden for easier reading.\n",
    "To toggle on/off the raw code, click <a href=\"javascript:code_toggle()\">here</a>.''')"
   ]
  },
  {
   "cell_type": "markdown",
   "metadata": {
    "heading_collapsed": true
   },
   "source": [
    "## Lexical features"
   ]
  },
  {
   "cell_type": "code",
   "execution_count": 3,
   "metadata": {
    "hidden": true
   },
   "outputs": [
    {
     "data": {
      "text/plain": [
       "[0,\n",
       " 0,\n",
       " -2.665032816018519,\n",
       " -3.530030253505124,\n",
       " -2.9704144655697013,\n",
       " 0.15018315018315018,\n",
       " 15]"
      ]
     },
     "execution_count": 3,
     "metadata": {},
     "output_type": "execute_result"
    }
   ],
   "source": [
    "from core import lexical_features\n",
    "\n",
    "lexical_features.get_lexical_features('/media/marina/hdd/diploma/data/c++/data/1/1_1.cpp')"
   ]
  },
  {
   "cell_type": "code",
   "execution_count": 24,
   "metadata": {
    "hidden": true
   },
   "outputs": [
    {
     "name": "stdout",
     "output_type": "stream",
     "text": [
      "The autoreload extension is already loaded. To reload it, use:\n",
      "  %reload_ext autoreload\n"
     ]
    }
   ],
   "source": [
    "%load_ext autoreload"
   ]
  },
  {
   "cell_type": "code",
   "execution_count": 31,
   "metadata": {
    "collapsed": true,
    "hidden": true
   },
   "outputs": [],
   "source": [
    "%reload_ext autoreload"
   ]
  },
  {
   "cell_type": "markdown",
   "metadata": {
    "heading_collapsed": true
   },
   "source": [
    "## Syntactic features"
   ]
  },
  {
   "cell_type": "code",
   "execution_count": 20,
   "metadata": {
    "hidden": true,
    "scrolled": true
   },
   "outputs": [
    {
     "name": "stderr",
     "output_type": "stream",
     "text": [
      "INFO Parsing source file \"/media/marina/hdd/diploma/data/c++/data/1/1_1.cpp\" ... \n",
      "INFO:pygccxml.cxx_parser:Parsing source file \"/media/marina/hdd/diploma/data/c++/data/1/1_1.cpp\" ... \n"
     ]
    },
    {
     "data": {
      "text/plain": [
       "[-5.60947179518496, 4.0, 0, 0, 1]"
      ]
     },
     "execution_count": 20,
     "metadata": {},
     "output_type": "execute_result"
    }
   ],
   "source": [
    "from core.syntactic_features import get_syntactic_features\n",
    "\n",
    "get_syntactic_features('/media/marina/hdd/diploma/data/c++/data/1/1_1.cpp')"
   ]
  },
  {
   "cell_type": "markdown",
   "metadata": {},
   "source": [
    "## Cpp keywords\n",
    "\n",
    "- **module**: cpp_keywords.py\n",
    "- **input**: filenames (numpy array)\n",
    "- **output**: keywords frequencies (numpy array)\n",
    "\n",
    "### Ключевые слова языка C/C++\n",
    "\n",
    "Могут быть найдены по ссылке в [официальной документации](http://ru.cppreference.com/w/cpp/keyword \"cppreference.com\")\n",
    "\n",
    "Частоты ключевых слов языка C/C++:\n",
    "\n",
    "| float | class | while | namespace | .. |\n",
    "-----| --- | -------| --- | --- | --- |\n",
    "file_1| 0.353 | 0.000 | 0.000 | 0.707 | ... |\n",
    "file_2| 0.401 | 0.213 | 0.000 | 0.708 | ... |\n",
    "... | ... | ... | ... | ... | ... |\n",
    "file_n | 0.303 | 0.000 | 0.678 | 0.807 | ... |\n"
   ]
  },
  {
   "cell_type": "code",
   "execution_count": 59,
   "metadata": {},
   "outputs": [
    {
     "name": "stdout",
     "output_type": "stream",
     "text": [
      "Returns numpy array of keywords frequencies in each file\n",
      "[     0\n",
      "0  0.0\n",
      "1  0.0\n",
      "2  0.0\n",
      "3  0.0\n",
      "4  0.0\n",
      "5  0.0\n",
      "6  0.0\n",
      "7  0.0\n",
      "8  0.0,       0\n",
      "9   0.0\n",
      "10  0.0\n",
      "11  0.0\n",
      "12  0.0\n",
      "13  0.0\n",
      "14  0.0\n",
      "15  0.0\n",
      "16  0.0\n",
      "17  0.0,       0\n",
      "18  0.0\n",
      "19  0.0\n",
      "20  0.0\n",
      "21  0.0\n",
      "22  0.0\n",
      "23  0.0\n",
      "24  0.0\n",
      "25  0.0\n",
      "26  0.0,            0\n",
      "27  0.000000\n",
      "28  0.000000\n",
      "29  0.000000\n",
      "30  0.000000\n",
      "31  0.000000\n",
      "32  0.000000\n",
      "33  0.353553\n",
      "34  0.000000\n",
      "35  0.000000,            0\n",
      "36  0.000000\n",
      "37  0.000000\n",
      "38  0.000000\n",
      "39  0.353553\n",
      "40  0.000000\n",
      "41  0.000000\n",
      "42  0.707107\n",
      "43  0.000000,       0\n",
      "44  0.0\n",
      "45  0.0\n",
      "46  0.0\n",
      "47  0.0\n",
      "48  0.0\n",
      "49  0.0\n",
      "50  0.0\n",
      "51  0.0,            0\n",
      "52  0.000000\n",
      "53  0.000000\n",
      "54  0.000000\n",
      "55  0.000000\n",
      "56  0.353553\n",
      "57  0.000000\n",
      "58  0.000000\n",
      "59  0.000000,       0\n",
      "60  0.0\n",
      "61  0.0\n",
      "62  0.0\n",
      "63  0.0\n",
      "64  0.0\n",
      "65  0.0\n",
      "66  0.0\n",
      "67  0.0,       0\n",
      "68  0.0\n",
      "69  0.0\n",
      "70  0.0\n",
      "71  0.0\n",
      "72  0.0\n",
      "73  0.0\n",
      "74  0.0\n",
      "75  0.0,            0\n",
      "76  0.353553\n",
      "77  0.000000\n",
      "78  0.000000\n",
      "79  0.000000\n",
      "80  0.000000\n",
      "81  0.000000\n",
      "82  0.000000\n",
      "83  0.000000]\n",
      "[     0\n",
      "0  0.0\n",
      "1  0.0\n",
      "2  0.0\n",
      "3  0.0\n",
      "4  0.0\n",
      "5  0.0\n",
      "6  0.0\n",
      "7  0.0\n",
      "8  0.0,       0\n",
      "9   0.0\n",
      "10  0.0\n",
      "11  0.0\n",
      "12  0.0\n",
      "13  0.0\n",
      "14  0.0\n",
      "15  0.0\n",
      "16  0.0\n",
      "17  0.0,       0\n",
      "18  0.0\n",
      "19  0.0\n",
      "20  0.0\n",
      "21  0.0\n",
      "22  0.0\n",
      "23  0.0\n",
      "24  0.0\n",
      "25  0.0\n",
      "26  0.0,            0\n",
      "27  0.000000\n",
      "28  0.000000\n",
      "29  0.000000\n",
      "30  0.000000\n",
      "31  0.000000\n",
      "32  0.000000\n",
      "33  0.353553\n",
      "34  0.000000\n",
      "35  0.000000,            0\n",
      "36  0.000000\n",
      "37  0.000000\n",
      "38  0.000000\n",
      "39  0.353553\n",
      "40  0.000000\n",
      "41  0.000000\n",
      "42  0.707107\n",
      "43  0.000000,       0\n",
      "44  0.0\n",
      "45  0.0\n",
      "46  0.0\n",
      "47  0.0\n",
      "48  0.0\n",
      "49  0.0\n",
      "50  0.0\n",
      "51  0.0,            0\n",
      "52  0.000000\n",
      "53  0.000000\n",
      "54  0.000000\n",
      "55  0.000000\n",
      "56  0.353553\n",
      "57  0.000000\n",
      "58  0.000000\n",
      "59  0.000000,       0\n",
      "60  0.0\n",
      "61  0.0\n",
      "62  0.0\n",
      "63  0.0\n",
      "64  0.0\n",
      "65  0.0\n",
      "66  0.0\n",
      "67  0.0,       0\n",
      "68  0.0\n",
      "69  0.0\n",
      "70  0.0\n",
      "71  0.0\n",
      "72  0.0\n",
      "73  0.0\n",
      "74  0.0\n",
      "75  0.0,            0\n",
      "76  0.353553\n",
      "77  0.000000\n",
      "78  0.000000\n",
      "79  0.000000\n",
      "80  0.000000\n",
      "81  0.000000\n",
      "82  0.000000\n",
      "83  0.000000]\n"
     ]
    },
    {
     "data": {
      "text/plain": [
       "[None, None]"
      ]
     },
     "execution_count": 59,
     "metadata": {},
     "output_type": "execute_result"
    }
   ],
   "source": [
    "%autoreload\n",
    "\n",
    "from core.cpp_keywords import count_cppkeywords_tf\n",
    "import pandas as pd\n",
    "import numpy as np\n",
    "\n",
    "\n",
    "cpp_keywords_tf = count_cppkeywords_tf(['/media/marina/hdd/diploma/data/c++/data/1/1_1.cpp','/media/marina/hdd/diploma/data/c++/data/1/1_2.cpp'])\n",
    "print(count_cppkeywords_tf.__doc__)\n",
    "\n",
    "# table = pd.pivot_table(cpp_keywords_tf)\n",
    "[print(np.array_split(pd.DataFrame(file), 10)) for file in cpp_keywords_tf]\n",
    "\n",
    "\n",
    "# import tabletext\n",
    "\n",
    "# tabletext.to_text(cpp_keywords_tf)\n",
    "\n",
    "# def remove_zeros(the_list):\n",
    "#    return [value for value in the_list if value != 0]\n",
    "\n",
    "# x = [1, 2, 3, 4, 2, 2, 3]\n",
    "# x = remove_zeros(x, 2)\n",
    "# print(x)"
   ]
  },
  {
   "cell_type": "markdown",
   "metadata": {},
   "source": [
    "### widgets"
   ]
  },
  {
   "cell_type": "code",
   "execution_count": 6,
   "metadata": {},
   "outputs": [
    {
     "data": {
      "application/vnd.jupyter.widget-view+json": {
       "model_id": "6bd5a0287e85491fa63a293d55ae2f58"
      }
     },
     "metadata": {},
     "output_type": "display_data"
    },
    {
     "data": {
      "application/vnd.jupyter.widget-view+json": {
       "model_id": "cdc06a6f598c40c69da963753e9795d0"
      }
     },
     "metadata": {},
     "output_type": "display_data"
    },
    {
     "data": {
      "application/vnd.jupyter.widget-view+json": {
       "model_id": "9f776b3256fa4dd3ab1f25faacf329ed"
      }
     },
     "metadata": {},
     "output_type": "display_data"
    }
   ],
   "source": [
    "from ipywidgets import interact\n",
    "\n",
    "def f(x):\n",
    "    return x\n",
    "\n",
    "interact(f, x=10);\n",
    "\n",
    "interact(f, x=True);\n",
    "\n",
    "\n",
    "@interact(x=True, y=1.0)\n",
    "def g(x, y):\n",
    "    return (x, y)"
   ]
  },
  {
   "cell_type": "code",
   "execution_count": 10,
   "metadata": {
    "collapsed": true
   },
   "outputs": [],
   "source": [
    "import scipy"
   ]
  },
  {
   "cell_type": "code",
   "execution_count": 18,
   "metadata": {
    "scrolled": true
   },
   "outputs": [
    {
     "name": "stdout",
     "output_type": "stream",
     "text": [
      "Please, wait...\n"
     ]
    },
    {
     "data": {
      "text/html": [
       "<table border=\"1\" class=\"dataframe\">\n",
       "  <thead>\n",
       "    <tr style=\"text-align: right;\">\n",
       "      <th></th>\n",
       "      <th>accuracy</th>\n",
       "      <th>f1-score</th>\n",
       "      <th>feature importancies</th>\n",
       "      <th>method</th>\n",
       "      <th>precision</th>\n",
       "      <th>recall</th>\n",
       "      <th>run time in sec</th>\n",
       "    </tr>\n",
       "  </thead>\n",
       "  <tbody>\n",
       "    <tr>\n",
       "      <th>0</th>\n",
       "      <td>1.00</td>\n",
       "      <td>1.000000</td>\n",
       "      <td>[(ln_spaces, 0.184084951597), (whitespace_rati...</td>\n",
       "      <td>RandomForestClassifier</td>\n",
       "      <td>1.000</td>\n",
       "      <td>1.00</td>\n",
       "      <td>1.05</td>\n",
       "    </tr>\n",
       "    <tr>\n",
       "      <th>1</th>\n",
       "      <td>0.60</td>\n",
       "      <td>0.746667</td>\n",
       "      <td>[(return, 0.141697337512), (ln_spaces, 0.12218...</td>\n",
       "      <td>RandomForestClassifier</td>\n",
       "      <td>1.000</td>\n",
       "      <td>0.60</td>\n",
       "      <td>2.07</td>\n",
       "    </tr>\n",
       "    <tr>\n",
       "      <th>2</th>\n",
       "      <td>0.75</td>\n",
       "      <td>0.666667</td>\n",
       "      <td>[(ln_spaces, 0.181781649015), (whitespace_rati...</td>\n",
       "      <td>RandomForestClassifier</td>\n",
       "      <td>0.625</td>\n",
       "      <td>0.75</td>\n",
       "      <td>3.09</td>\n",
       "    </tr>\n",
       "    <tr>\n",
       "      <th>3</th>\n",
       "      <td>0.75</td>\n",
       "      <td>0.833333</td>\n",
       "      <td>[(ln_spaces, 0.231393909243), (whitespace_rati...</td>\n",
       "      <td>RandomForestClassifier</td>\n",
       "      <td>1.000</td>\n",
       "      <td>0.75</td>\n",
       "      <td>4.13</td>\n",
       "    </tr>\n",
       "    <tr>\n",
       "      <th>4</th>\n",
       "      <td>0.75</td>\n",
       "      <td>0.766667</td>\n",
       "      <td>[(ln_spaces, 0.20827382834), (whitespace_ratio...</td>\n",
       "      <td>RandomForestClassifier</td>\n",
       "      <td>0.875</td>\n",
       "      <td>0.75</td>\n",
       "      <td>5.30</td>\n",
       "    </tr>\n",
       "    <tr>\n",
       "      <th>5</th>\n",
       "      <td>0.75</td>\n",
       "      <td>0.750000</td>\n",
       "      <td>[(whitespace_ratio, 0.198150730435), (ln_space...</td>\n",
       "      <td>RandomForestClassifier</td>\n",
       "      <td>0.875</td>\n",
       "      <td>0.75</td>\n",
       "      <td>6.35</td>\n",
       "    </tr>\n",
       "    <tr>\n",
       "      <th>6</th>\n",
       "      <td>0.50</td>\n",
       "      <td>0.416667</td>\n",
       "      <td>[(ln_spaces, 0.180593168139), (whitespace_rati...</td>\n",
       "      <td>RandomForestClassifier</td>\n",
       "      <td>0.375</td>\n",
       "      <td>0.50</td>\n",
       "      <td>7.37</td>\n",
       "    </tr>\n",
       "    <tr>\n",
       "      <th>7</th>\n",
       "      <td>0.75</td>\n",
       "      <td>0.766667</td>\n",
       "      <td>[(ln_spaces, 0.197083838709), (whitespace_rati...</td>\n",
       "      <td>RandomForestClassifier</td>\n",
       "      <td>0.875</td>\n",
       "      <td>0.75</td>\n",
       "      <td>8.40</td>\n",
       "    </tr>\n",
       "    <tr>\n",
       "      <th>8</th>\n",
       "      <td>0.50</td>\n",
       "      <td>0.333333</td>\n",
       "      <td>[(ln_spaces, 0.169915885279), (whitespace_rati...</td>\n",
       "      <td>RandomForestClassifier</td>\n",
       "      <td>0.250</td>\n",
       "      <td>0.50</td>\n",
       "      <td>9.44</td>\n",
       "    </tr>\n",
       "    <tr>\n",
       "      <th>9</th>\n",
       "      <td>1.00</td>\n",
       "      <td>1.000000</td>\n",
       "      <td>[(ln_spaces, 0.176619396799), (whitespace_rati...</td>\n",
       "      <td>RandomForestClassifier</td>\n",
       "      <td>1.000</td>\n",
       "      <td>1.00</td>\n",
       "      <td>10.48</td>\n",
       "    </tr>\n",
       "  </tbody>\n",
       "</table>"
      ],
      "text/plain": [
       "<IPython.core.display.HTML object>"
      ]
     },
     "metadata": {},
     "output_type": "display_data"
    },
    {
     "name": "stdout",
     "output_type": "stream",
     "text": [
      "mean accuracy:  0.735\n",
      "standart deviation:  0.164392822228\n",
      "confidence interval: ( 0.578826818884 ; 0.891173181116 )\n",
      "Done\n"
     ]
    }
   ],
   "source": [
    "# %load_ext autoreload\n",
    "%reload_ext autoreload\n",
    "%autoreload\n",
    "\n",
    "from ipywidgets import Text, IntSlider, Box, Layout, Label, Dropdown, Textarea, Button\n",
    "from IPython.display import display, HTML, clear_output\n",
    "\n",
    "from core.whose_cpp_code import classify_authors\n",
    "import pandas as pd\n",
    "\n",
    "import warnings\n",
    "warnings.filterwarnings(\"ignore\")\n",
    "\n",
    "\n",
    "\n",
    "\n",
    "\n",
    "def classify(b):\n",
    "    clear_output()\n",
    "    print('Please, wait...')\n",
    "    report = classify_authors(data.value, classifier.value)\n",
    "    \n",
    "    df = pd.DataFrame(report)\n",
    "    df.to_csv('output.csv', mode='w')\n",
    "    display(HTML(df.to_html()))\n",
    "    accuracy = df['accuracy'].tolist()\n",
    "    \n",
    "    get_confidence(accuracy)\n",
    "\n",
    "    print('Done')\n",
    "    \n",
    "#     report = classify_authors(data.value, loops.value)\n",
    "#     print(report['classification_report'])\n",
    "#     print(report['accuracy'])\n",
    "#     print(report['run_time'])\n",
    "#     display(save_button)\n",
    "#     \n",
    "#     filenames, authors = get_filenames(data.value)\n",
    "#     matrix = get_sample_matrix(filenames)\n",
    "#     print(matrix)\n",
    "    \n",
    "\n",
    "form_item_layout = Layout(\n",
    "    display='flex',\n",
    "    flex_flow='row',\n",
    "    justify_content='space-between'\n",
    ")\n",
    "\n",
    "loops = IntSlider(min=0, max=10)\n",
    "data = Dropdown(options={'students' : '/media/marina/hdd/diploma/data/c++/data/', \n",
    "                           'GoogleCodeJam' : '/media/marina/hdd/diploma/data/c++/data3/', \n",
    "                           'GitHub' : '/media/marina/hdd/diploma/data/c++/github_data/'})\n",
    "classifier =  Dropdown(options={'RandomForest' : 'RandomForestClassifier', \n",
    "                                'GradientBoosting' : 'GradientBoostingClassifier'})\n",
    "# username = Text()\n",
    "# password = Text()\n",
    "\n",
    "form_items = [\n",
    "#     Box([Label(value='Loops:'), loops], layout=form_item_layout),\n",
    "    Box([Label(value='Data:'), data], layout=form_item_layout),\n",
    "    Box([Label(value='Classifier:'), classifier], layout=form_item_layout),\n",
    "#     Box([Label(value='Username:'), username], layout=form_item_layout),\n",
    "#     Box([Label(value='Password:'), password], layout=form_item_layout),\n",
    "]\n",
    "\n",
    "form = Box(form_items, layout=Layout(\n",
    "    display='flex',\n",
    "    flex_flow='column',\n",
    "    align_items='stretch',\n",
    "    width='50%'\n",
    "))\n",
    "\n",
    "classify_button = Button(description='Classify', tooltip='Click me', icon='check', button_style='success')\n",
    "classify_button.on_click(classify)\n",
    "# \n",
    "display(form, classify_button)\n",
    "# Text(value='Username')\n",
    "\n"
   ]
  },
  {
   "cell_type": "code",
   "execution_count": 24,
   "metadata": {},
   "outputs": [
    {
     "name": "stdout",
     "output_type": "stream",
     "text": [
      "Loop  1 : Please, wait...\n"
     ]
    }
   ],
   "source": [
    "# %load_ext autoreload\n",
    "%reload_ext autoreload\n",
    "%autoreload\n",
    "\n",
    "from ipywidgets import IntSlider, Box, Layout, Label, Dropdown, Button\n",
    "from numpy import mean, std\n",
    "import pandas as pd\n",
    "from core.whose_cpp_code import classify_authors\n",
    "from IPython.display import display, clear_output\n",
    "\n",
    "\n",
    "loops = IntSlider(min=1, max=10)\n",
    "data = Dropdown(options={'students' : '/media/marina/hdd/diploma/data/c++/data/', \n",
    "                           'GoogleCodeJam' : '/media/marina/hdd/diploma/data/c++/data3/', \n",
    "                           'GitHub' : '/media/marina/hdd/diploma/data/c++/github_data/'})\n",
    "classifier =  Dropdown(options={'RandomForest' : 'RandomForestClassifier', \n",
    "                                'GradientBoosting' : 'GradientBoostingClassifier'})\n",
    "\n",
    "\n",
    "def get_confidence(array):\n",
    "    alpha = 0.95\n",
    "    m = mean(array)  # general average\n",
    "    sigma = std(array)  # standard deviation \n",
    "\n",
    "    # confidence interval\n",
    "    print('mean accuracy: ', m)\n",
    "    print('standart deviation: ', sigma)\n",
    "    print('confidence interval: (', m - alpha * sigma, ';', m + alpha * sigma, ')')\n",
    "    \n",
    "    \n",
    "    \n",
    "def classify_mul(b):\n",
    "    clear_output()\n",
    "    result = []\n",
    "    for loop in range(loops.value):\n",
    "        print('Loop ', loop + 1, ': Please, wait...')\n",
    "        report = classify_authors(data.value, classifier.value)\n",
    "\n",
    "        df = pd.DataFrame(report)\n",
    "        accuracy = df['accuracy'].tolist()\n",
    "\n",
    "        result.append(mean(accuracy))\n",
    "\n",
    "    print(result)\n",
    "    print('Done')\n",
    "\n",
    "    \n",
    "form_items = [\n",
    "    Box([Label(value='Loops:'), loops], layout=form_item_layout),\n",
    "    Box([Label(value='Data:'), data], layout=form_item_layout),\n",
    "    Box([Label(value='Classifier:'), classifier], layout=form_item_layout),\n",
    "]\n",
    "\n",
    "form = Box(form_items, layout=Layout(\n",
    "    display='flex',\n",
    "    flex_flow='column',\n",
    "    align_items='stretch',\n",
    "    width='50%'\n",
    "))\n",
    "\n",
    "classify_mul_btn = Button(description='Classify', tooltip='Click me', icon='check', button_style='success')\n",
    "classify_mul_btn.on_click(classify_mul)\n",
    "display(form, classify_mul_btn)"
   ]
  },
  {
   "cell_type": "code",
   "execution_count": 19,
   "metadata": {},
   "outputs": [
    {
     "data": {
      "application/vnd.jupyter.widget-view+json": {
       "model_id": "50ed530bdebd42cfbcd40f19ceebc0f9"
      }
     },
     "metadata": {},
     "output_type": "display_data"
    }
   ],
   "source": [
    "IntSlider(value=5, min=0, max=10, description='Loops:')"
   ]
  },
  {
   "cell_type": "code",
   "execution_count": 68,
   "metadata": {
    "scrolled": true
   },
   "outputs": [
    {
     "data": {
      "text/plain": [
       "<matplotlib.axes._subplots.AxesSubplot at 0x7f4914643a20>"
      ]
     },
     "execution_count": 68,
     "metadata": {},
     "output_type": "execute_result"
    }
   ],
   "source": [
    "import matplotlib as plt\n",
    "import pandas as pd\n",
    "import numpy as np\n",
    "\n",
    "df2 = pd.DataFrame(np.random.rand(10, 4), columns=['a', 'b', 'c', 'd'])\n",
    "# df2 = df2.cumsum()\n",
    "\n",
    "df2.plot.bar()"
   ]
  },
  {
   "cell_type": "code",
   "execution_count": 69,
   "metadata": {},
   "outputs": [
    {
     "ename": "TypeError",
     "evalue": "'module' object is not callable",
     "output_type": "error",
     "traceback": [
      "\u001b[0;31m---------------------------------------------------------------------------\u001b[0m",
      "\u001b[0;31mTypeError\u001b[0m                                 Traceback (most recent call last)",
      "\u001b[0;32m<ipython-input-69-98341ce8d8f7>\u001b[0m in \u001b[0;36m<module>\u001b[0;34m()\u001b[0m\n\u001b[1;32m      1\u001b[0m \u001b[0mdf\u001b[0m \u001b[0;34m=\u001b[0m \u001b[0mpd\u001b[0m\u001b[0;34m.\u001b[0m\u001b[0mDataFrame\u001b[0m\u001b[0;34m(\u001b[0m\u001b[0mnp\u001b[0m\u001b[0;34m.\u001b[0m\u001b[0mrandom\u001b[0m\u001b[0;34m.\u001b[0m\u001b[0mrandn\u001b[0m\u001b[0;34m(\u001b[0m\u001b[0;36m1000\u001b[0m\u001b[0;34m,\u001b[0m \u001b[0;36m4\u001b[0m\u001b[0;34m)\u001b[0m\u001b[0;34m,\u001b[0m \u001b[0mindex\u001b[0m\u001b[0;34m=\u001b[0m\u001b[0mts\u001b[0m\u001b[0;34m.\u001b[0m\u001b[0mindex\u001b[0m\u001b[0;34m,\u001b[0m \u001b[0mcolumns\u001b[0m\u001b[0;34m=\u001b[0m\u001b[0mlist\u001b[0m\u001b[0;34m(\u001b[0m\u001b[0;34m'ABCD'\u001b[0m\u001b[0;34m)\u001b[0m\u001b[0;34m)\u001b[0m\u001b[0;34m\u001b[0m\u001b[0m\n\u001b[1;32m      2\u001b[0m \u001b[0mdf\u001b[0m \u001b[0;34m=\u001b[0m \u001b[0mdf\u001b[0m\u001b[0;34m.\u001b[0m\u001b[0mcumsum\u001b[0m\u001b[0;34m(\u001b[0m\u001b[0;34m)\u001b[0m\u001b[0;34m\u001b[0m\u001b[0m\n\u001b[0;32m----> 3\u001b[0;31m \u001b[0mplt\u001b[0m\u001b[0;34m.\u001b[0m\u001b[0mfigure\u001b[0m\u001b[0;34m(\u001b[0m\u001b[0;34m)\u001b[0m\u001b[0;34m\u001b[0m\u001b[0m\n\u001b[0m\u001b[1;32m      4\u001b[0m \u001b[0mdf\u001b[0m\u001b[0;34m.\u001b[0m\u001b[0mplot\u001b[0m\u001b[0;34m(\u001b[0m\u001b[0;34m)\u001b[0m\u001b[0;34m\u001b[0m\u001b[0m\n",
      "\u001b[0;31mTypeError\u001b[0m: 'module' object is not callable"
     ]
    }
   ],
   "source": [
    "df = pd.DataFrame(np.random.randn(1000, 4), index=ts.index, columns=list('ABCD'))\n",
    "df = df.cumsum()\n",
    "plt.figure() \n",
    "df.plot()"
   ]
  },
  {
   "cell_type": "code",
   "execution_count": 88,
   "metadata": {},
   "outputs": [
    {
     "name": "stdout",
     "output_type": "stream",
     "text": [
      "[[ 98   0   0 ...,   0   0   0]\n",
      " [388   0   0 ...,   0   0   0]\n",
      " [558   2   2 ...,   0   0   0]\n",
      " ..., \n",
      " [ 64   0   0 ...,   0   0   0]\n",
      " [198   0   0 ...,   0   0   0]\n",
      " [114   0   0 ...,   0   0   0]]\n",
      "[' ', ' !', ' !=', ' \"', ' \" ', ' \")', ' \",', ' \";', ' \"<', ' \"\\\\', ' \"a', ' \"r', ' \"в', ' \"д', ' \"т', ' #', ' #i', ' %', ' % ', ' &', ' &&', ' &a', ' &n', ' (', ' ( ', ' (!', ' ((', ' ()', ' (0', ' (a', ' (b', ' (c', ' (d', ' (f', ' (g', ' (h', ' (i', ' (j', ' (k', ' (l', ' (m', ' (n', ' (o', ' (r', ' (s', ' (t', ' (x', ' (y', ' (ф', ' )', ' ) ', ' );', ' *', ' * ', ' **', ' *=', ' *[', ' *a', ' *d', ' +', ' + ', ' ++', ' +=', ' -', ' - ', ' --', ' /', ' / ', ' //', ' /n', ' 0', ' 0 ', ' 0)', ' 0,', ' 0.', ' 0;', ' 1', ' 1 ', ' 1)', ' 1-', ' 1.', ' 10', ' 12', ' 15', ' 1;', ' 1]', ' 1e', ' 2', ' 2 ', ' 2-', ' 20', ' 25', ' 2;', ' 3', ' 3 ', ' 30', ' 4', ' 4 ', ' 4;', ' 4i', ' 5', ' 5 ', ' 50', ' 5;', ' 6', ' 6;', ' 9', ' 9;', ' ;', ' ; ', ' <', ' < ', ' <6', ' <<', ' <=', ' <c', ' <f', ' <i', ' <m', ' <s', ' <t', ' =', ' = ', ' =\"', ' ==', ' =n', ' >', ' > ', ' >=', ' >>', ' [', ' [\"', ' []', ' [j', ' [m', ' [n', ' \\\\', ' \\\\n', ' a', ' a ', ' a\"', ' a)', ' a*', ' a,', ' a.', ' a2', ' a;', ' a=', ' a[', ' ab', ' ad', ' af', ' an', ' ar', ' au', ' b', ' b ', ' b)', ' b*', ' b.', ' b;', ' b=', ' ba', ' bo', ' br', ' bu', ' c', ' c ', ' c;', ' ca', ' cb', ' ce', ' ch', ' ci', ' cl', ' co', ' ct', ' d', ' d ', ' d,', ' d=', ' d[', ' da', ' de', ' di', ' do', ' dr', ' e', ' el', ' en', ' ep', ' eq', ' er', ' f', ' fa', ' fi', ' fl', ' fo', ' fu', ' g', ' g=', ' gl', ' h', ' h=', ' he', ' ho', ' i', ' i ', ' i)', ' i+', ' i,', ' i;', ' i<', ' i=', ' id', ' if', ' in', ' io', ' j', ' j ', ' j+', ' j,', ' j;', ' j<', ' j=', ' k', ' k ', ' k-', ' k=', ' kt', ' l', ' l=', ' la', ' le', ' lo', ' lu', ' m', ' m ', ' m)', ' m;', ' m\\\\', ' ma', ' mi', ' mo', ' mu', ' n', ' n ', ' n)', ' n+', ' n,', ' n-', ' n1', ' n2', ' n;', ' n=', ' na', ' ne', ' no', ' nu', ' o', ' of', ' ot', ' ou', ' p', ' p ', ' p)', ' p,', ' p=', ' pe', ' ph', ' po', ' pr', ' pu', ' r', ' r ', ' r1', ' r2', ' r3', ' r;', ' r=', ' r[', ' ra', ' re', ' s', ' s ', ' s)', ' s+', ' s,', ' s1', ' s2', ' s3', ' s5', ' s=', ' s[', ' sc', ' se', ' sh', ' sl', ' so', ' sq', ' sr', ' st', ' su', ' sy', ' t', ' t ', ' t+', ' t=', ' te', ' th', ' ti', ' tm', ' tr', ' u', ' um', ' us', ' v', ' va', ' vo', ' vt', ' vv', ' vy', ' w', ' w=', ' we', ' wh', ' wo', ' wr', ' x', ' x ', ' x,', ' x;', ' x=', ' x[', ' xn', ' y', ' y ', ' y)', ' y,', ' y2', ' y;', ' y=', ' ye', ' z', ' z)', ' z=', ' za', ' ze', ' {', ' { ', ' {0', ' {a', ' {c', ' {f', ' {i', ' {m', ' {s', ' |', ' ||', ' }', ' } ', ' };', ' }e', ' а', ' ар', ' б', ' ба', ' в', ' в ', ' вв', ' ве', ' вк', ' вс', ' г', ' го', ' д', ' да', ' дв', ' де', ' ди', ' дл', ' дн', ' до', ' з', ' за', ' зн', ' и', ' и ', ' из', ' им', ' их', ' к', ' кл', ' ко', ' ку', ' м', ' ма', ' ме', ' н', ' на', ' не', ' ни', ' но', ' ну', ' о', ' об', ' оп', ' от', ' оц', ' оч', ' п', ' па', ' по', ' пр', ' пу', ' р', ' ра', ' ре', ' с', ' с ', ' сн', ' су', ' сч', ' т', ' те', ' у', ' у\"', ' уп', ' ус', ' уч', ' ф', ' фа', ' фо', ' х', ' х ', ' хо', ' ц', ' це', ' ч', ' че', ' чи', ' чт', ' ш', ' шт', ' №', ' №1', ' №2', ' №3', '!', '! ', '!!', '!!!', '!!\"', '!!n', '!\"', '!\";', '!(', '!((', '!=', '!= ', '!=0', '!=1', '!=2', '!=3', '!=y', '!\\\\', '!\\\\n', '!f', '!fi', '!fo', '!n', '!no', '\"', '\" ', '\"!', '\"!!', '\"\"', '\"\")', '\"%', '\"%.', '\"%d', '\"%l', '\")', '\")\"', '\");', '\"*', '\"*\"', '\"+', '\"+\"', '\",', '\", ', '\",p', '\",s', '\"-', '\"-\"', '\"-о', '\".', '\".\"', '\"/', '\"/\"', '\"1', '\"10', '\"5', '\"50', '\":', '\":\"', '\";', '\"; ', '\";\"', '\";;', '\";c', '\";}', '\"<', '\"<<', '\"=', '\"=\"', '\"==', '\"?', '\"?\"', '\"\\\\', '\"\\\\n', '\"a', '\"a ', '\"an', '\"b', '\"bo', '\"c', '\"ch', '\"d', '\"db', '\"e', '\"en', '\"f', '\"fa', '\"n', '\"no', '\"nu', '\"o', '\"ou', '\"p', '\"pa', '\"pl', '\"pr', '\"pu', '\"r', '\"r ', '\"re', '\"ru', '\"s', '\"s=', '\"v', '\"vv', '\"в', '\"в ', '\"вв', '\"ве', '\"вы', '\"д', '\"да', '\"до', '\"др', '\"з', '\"за', '\"и', '\"им', '\"ит', '\"к', '\"кв', '\"ко', '\"ку', '\"н', '\"на', '\"не', '\"о', '\"от', '\"оч', '\"ош', '\"п', '\"по', '\"пр', '\"р', '\"ра', '\"с', '\"се', '\"си', '\"сн', '\"ср', '\"су', '\"т', '\"то', '\"у', '\"уп', '\"ч', '\"чи', '#', '#i', '#in', '%', '% ', '%.', '%.4', '%1', '%16', '%2', '%2 ', '%2)', '%20', '%21', '%d', '%d\"', '%d\\\\', '%l', '%lf', '%ll', '&', '& ', '&&', '&& ', '&&(', '&&i', '&(', '&((', '&(a', '&(d', '&(g', '&(j', '&(l', '&(r', '&(s', '&(x', '&a', '&a[', '&ar', '&i', '&i>', '&n', '&n)', '&t', '&t)', \"'\", \"')\", \"')&\", \"'))\", \"',\", \"','\", \"'0\", \"'0'\", \"'9\", \"'9'\", \"';\", \"'; \", \"';}\", \"'\\\\\", \"'\\\\n\", '(', '( ', '(!', '(!(', '(!f', '(\"', '(\"\"', '(\"%', '(\"\\\\', '(\"c', '(\"d', '(\"n', '(\"o', '(\"p', '(&', '(&t', '((', '(((', '((-', '((a', '((d', '((f', '((g', '((i', '((l', '((m', '((n', '((r', '((s', '((u', '((x', '()', '() ', '()%', '())', '();', '()>', '(){', '(-', '(-1', '(0', '(0)', '(1', '(10', '(2', '(2.', '(4', '(4)', '(a', '(a ', '(a!', '(a)', '(a,', '(a/', '(a<', '(a>', '(a[', '(ab', '(ar', '(b', '(b ', '(b)', '(c', '(c,', '(ch', '(ct', '(d', '(d)', '(d,', '(d/', '(d<', '(d>', '(d[', '(da', '(de', '(di', '(do', '(f', '(fa', '(fi', '(fl', '(g', '(g!', '(g)', '(g<', '(g=', '(g>', '(h', '(h>', '(i', '(i ', '(i)', '(i-', '(i=', '(in', '(j', '(j ', '(j+', '(j=', '(j>', '(k', '(k=', '(l', '(l!', '(l<', '(l=', '(l>', '(lc', '(m', '(m-', '(ma', '(mo', '(n', '(n ', '(n-', '(n/', '(ne', '(no', '(nu', '(o', '(ot', '(p', '(p*', '(p-', '(pe', '(r', '(r)', '(r,', '(r1', '(r[', '(ra', '(re', '(s', '(s)', '(s,', '(s1', '(s5', '(s=', '(s[', '(se', '(sh', '(so', '(sq', '(st', '(su', '(t', '(t=', '(ti', '(u', '(un', '(v', '(va', '(x', '(x ', '(x!', '(x)', '(x+', '(x,', '(x[', '(xn', '(y', '(y ', '(y<', '(д', '(де', '(дл', '(дн', '(ф', '(фа', ')', ') ', ')\"', ')\" ', ')\"<', ')%', ')%2', ')&', ')&&', ')(', ')((', ')(f', ')(r', ')(s', ')(x', '))', ')) ', '))%', '))&', ')))', '));', '))=', ')){', '))|', ')*', ')*(', ')*1', ')*5', ')*d', ')*k', ')*y', ')+', ')+4', ')+5', '),', '), ', ')-', ')-1', ')-4', ')-5', ')-c', ')-f', ')/', ')/(', ')/2', '):', '): ', ');', '); ', ');i', ');}', ')<', ')<1', ')<<', ')<f', ')=', ')==', ')>', ')>0', ')>a', ')>f', ')d', ')da', ')s', ')st', ')t', ')ti', '){', '){ ', '){b', ')|', ')||', '*', '* ', '*\"', '*\"<', '*(', '*(p', '**', '** ', '**a', '*1', '*10', '*16', '*2', '*2;', '*5', '*50', '*=', '*= ', '*=a', '*[', '*[n', '*a', '*a ', '*a=', '*a[', '*ar', '*b', '*b;', '*c', '*c;', '*d', '*d;', '*d=', '*d[', '*da', '*k', '*kt', '*n', '*nu', '*o', '*ot', '*p', '*pe', '*r', '*ra', '*s', '*s1', '*s5', '*se', '*y', '*y2', '*y;', '+', '+ ', '+\"', '+\"<', '+(', '+((', '+)', '+) ', '+){', '++', '++)', '++;', '++d', '++i', '++j', '++l', '+1', '+1)', '+1+', '+10', '+1;', '+1]', '+4', '+48', '+5', '+50', '+55', '+7', '+7;', '+8', '+8;', '+;', '+; ', '+=', '+= ', '+=(', '+=2', '+=a', '+a', '+a/', '+a;', '+a[', '+b', '+b;', '+c', '+cb', '+d', '+d)', '+d[', '+i', '+i)', '+j', '+j)', '+k', '+k]', '+l', '+la', '+n', '+nu', '+o', '+ot', '+r', '+re', '+s', '+s2', '+s3', '+s;', '+su', '+y', '+y+', '+z', '+z)', ',', ', ', ',\"', ',\"r', \",'\", \",';\", ',1', ',12', ',2', ',25', ',a', ',a,', ',a;', ',b', ',b,', ',b;', ',b=', ',c', ',c,', ',c=', ',d', ',d,', ',d=', ',de', ',f', ',f,', ',fl', ',g', ',g)', ',g,', ',h', ',h)', ',h,', ',h=', ',i', ',i,', ',i;', ',j', ',j,', ',j;', ',k', ',k=', ',l', ',l;', ',m', ',m,', ',m;', ',ma', ',mi', ',n', ',n,', ',n1', ',n2', ',n;', ',n=', ',nu', ',p', ',p,', ',p;', ',pr', ',r', ',r2', ',r3', ',r;', ',re', ',s', ',s)', ',s,', ',s1', ',s2', ',s3', ',s5', ',s;', ',sh', ',sr', ',x', ',x,', ',x=', ',y', ',y)', ',y,', ',y;', ',y=', ',z', ',z=', '-', '- ', '-\"', '-\"<', '-(', '-(1', '-(s', '-)', '-) ', '--', '--)', '--;', '--i', '--n', '-1', '-1)', '-10', '-1;', '-2', '-2)', '-4', '-48', '-5', '-55', '-8', '-8;', '-;', '-; ', '->', '->t', '-a', '-ab', '-c', '-ca', '-f', '-fl', '-g', '-go', '-i', '-i)', '-i-', '-i]', '-n', '-ne', '-o', '-ot', '-r', '-ra', '-re', '-x', '-x)', '-y', '-y)', '-z', '-z)', '-«', '-«п', '-в', '-во', '-о', '-ое', '.', '. ', '.\"', '.\"<', '.0', '.0,', '.0/', '.0;', '.2', '.2;', '.4', '.4f', '.4l', '.\\\\', '.\\\\n', '.a', '.a ', '.a!', '.a)', '.a*', '.a;', '.a<', '.a=', '.ad', '.au', '.b', '.b ', '.b!', '.b)', '.b+', '.b-', '.b;', '.b<', '.b=', '.ba', '.c', '.c!', '.c;', '.c<', '.c=', '.cl', '.d', '.da', '.de', '.di', '.e', '.eo', '.eq', '.f', '.fa', '.g', '.ge', '.h', '.h>', '.ho', '.i', '.in', '.m', '.mi', '.mo', '.mu', '.n', '.na', '.no', '.nu', '.o', '.op', '.ou', '.p', '.ph', '.pu', '.r', '.re', '.s', '.se', '.si', '.so', '.su', '.t', '.te', '.tx', '.v', '.vv', '.vy', '.w', '.we', '.wr', '.y', '.ye', '.э', '.э.', '/', '/ ', '/\"', '/\"<', '/(', '/(i', '/(r', '//', '// ', '//c', '//d', '//f', '//s', '//п', '/1', '/10', '/16', '/2', '/2)', '/2;', '/3', '/36', '/4', '/4)', '/5', '/50', '/c', '/ce', '/co', '/d', '/da', '/dr', '/f', '/fi', '/m', '/ma', '/n', '/n;', '/s', '/s)', '/sy', '/x', '/x;', '/xn', '/п', '/пр', '0', '0 ', \"0'\", \"0')\", '0)', '0) ', '0)&', '0))', '0)*', '0)-', '0):', '0);', '0){', '0)|', '0*', '0*1', '0*5', '0*s', '0+', '0+1', '0+5', '0+b', '0,', '0, ', '0,b', '0,c', '0,d', '0,n', '0,p', '0,x', '0,y', '0,z', '0-', '0-\"', '0-a', '0-r', '0.', '0.0', '0.2', '0/', '0/1', '0/2', '00', '00)', '00*', '00+', '00-', '000', '00;', '00<', '00=', '00>', '00р', '0:', '0:f', '0;', '0; ', '0;d', '0;i', '0;}', '0<', '0<<', '0=', '0=0', '0=2', '0=3', '0=5', '0=9', '0=s', '0>', '0>=', '0]', '0] ', '0])', '0];', '0]<', '0]>', '0р', '0ру', '1', '1 ', '1%', '1%1', '1%2', '1)', '1) ', '1)&', '1))', '1)*', '1),', '1);', '1)<', '1){', '1)|', '1*', '1*n', '1+', '1+(', '1+=', '1+k', '1+n', '1+r', '1+s', '1,', '1, ', '1,b', '1,n', '1,r', '1,s', '1-', '1-1', '1-g', '1.', '1.0', '1.2', '1.a', '1.b', '1.d', '1.e', '1.m', '1.r', '1.s', '1/', '1/1', '1/2', '10', '10)', '10*', '10+', '10-', '100', '10;', '10<', '10=', '10>', '10]', '10р', '11', '11)', '11]', '12', '12 ', '12)', '122', '128', '12;', '14', '14;', '15', '15;', '15]', '16', '16)', '16;', '16<', '16]', '1;', '1; ', '1;i', '1;j', '1;k', '1;}', '1=', '1=0', '1=1', '1==', '1=f', '1=r', '1=s', '1>', '1>0', '1]', '1] ', '1])', '1],', '1].', '1];', '1]<', '1]=', '1]>', '1][', '1e', '1e-', '2', '2 ', '2)', '2) ', '2)&', '2))', '2)+', '2);', '2)<', '2){', '2*', '2*1', '2*2', '2+', '2+(', '2+s', '2,', '2,r', '2,s', '2,y', '2-', '2-f', '2-g', '2.', '2.0', '2.a', '2.b', '2.r', '2.t', '2/', '2/1', '2/2', '20', '20 ', '20)', '20;', '20]', '21', '21,', '21;', '21]', '22', '22;', '25', '255', '256', '28', '28)', '28;', '28]', '29', '29;', '2:', '2::', '2;', '2; ', '2;i', '2=', '2=0', '2=1', '2=i', '2=n', '2=r', '2=s', '2=y', '2[', '2[2', '2[i', '2]', '2];', '2]<', '2}', '2}\"', '3', '3 ', '3\"', '3\" ', '3)', '3) ', '3)&', '3))', '3)/', '3);', '3)|', '3,', '3,r', '3,s', '30', '30;', '31', '31;', '36', '366', '3;', '3; ', '3=', '3=0', '3=s', '3]', '3];', '4', '4 ', '4)', '4) ', '4))', '4)-', '4)<', '4){', '4)|', '44', '44)', '45', '45)', '48', '48)', '4;', '4; ', '4]', '4];', '4f', '4f ', '4f\\\\', '4i', '4is', '4l', '4lf', '5', '5 ', '5)', '5) ', '5))', '5)*', '5);', '5)|', '5,', '5,m', '50', '50)', '50*', '50+', '50-', '500', '50;', '50<', '50=', '50>', '50р', '55', '55)', '56', '56]', '57', '57)', '5;', '5; ', '5;i', '5;k', '5=', '5=s', '5]', '5];', '5][', '6', '6)', '6)+', '6)|', '60', '600', '60]', '64', '64]', '65', '65;', '66', '660', '6;', '6; ', '6<', '6<1', '6]', '6];', '7', '7)', '7))', '7)|', '7;', '7; ', '7;i', '8', '8)', '8)&', '8)*', '8);', '8)|', '8;', '8; ', '8]', '8];', '9', \"9'\", \"9')\", '9)', '9)|', '90', '90;', '97', '97;', '9;', '9; ', '9]', '9];', ':', ': ', ':\"', ':\"<', '::', '::a', '::b', '::c', '::d', '::e', '::f', '::i', '::m', '::o', '::p', '::r', '::s', '::v', '::w', ':\\\\', ':\\\\n', ':a', ':ad', ':ap', ':b', ':ba', ':c', ':ca', ':ci', ':co', ':d', ':de', ':di', ':e', ':en', ':eq', ':f', ':f2', ':fi', ':i', ':in', ':m', ':mi', ':mu', ':o', ':ou', ':p', ':ph', ':pr', ':r', ':ra', ':re', ':s', ':sc', ':se', ':so', ':st', ':su', ':v', ':vv', ':vy', ':w', ':wr', ';', '; ', ';\"', ';\" ', ';;', ';; ', ';c', ';ci', ';d', ';do', ';i', ';i+', ';i-', ';i<', ';i>', ';j', ';j+', ';j<', ';k', ';k+', ';k<', ';x', ';x=', ';y', ';y=', ';}', ';} ', ';};', ';}}', '<', '< ', '<\"', '<\" ', '<\"!', '<\"*', '<\"+', '<\"-', '<\".', '<\"/', '<\"1', '<\"5', '<\":', '<\"=', '<\"?', '<\"\\\\', '<\"a', '<\"b', '<\"e', '<\"f', '<\"n', '<\"p', '<\"r', '<\"s', '<\"v', '<\"в', '<\"д', '<\"з', '<\"и', '<\"к', '<\"н', '<\"о', '<\"п', '<\"р', '<\"с', '<\"у', '<\"ч', \"<'\", \"<'\\\\\", '<(', '<(\"', '<((', '<(i', '<0', '<0)', '<1', '<10', '<4', '<4;', '<5', '<5;', '<6', '<6;', '<<', '<< ', '<<\"', \"<<'\", '<<(', '<<a', '<<c', '<<d', '<<e', '<<f', '<<i', '<<l', '<<m', '<<n', '<<p', '<<r', '<<s', '<<w', '<<x', '<<z', '<=', '<= ', \"<='\", '<=(', '<=0', '<=1', '<=2', '<=3', '<=5', '<=9', '<=a', '<=c', '<=d', '<=m', '<=n', '<=x', '<a', '<a2', '<a<', '<a[', '<ar', '<c', '<ca', '<ch', '<cm', '<cs', '<d', '<da', '<de', '<e', '<en', '<f', '<fa', '<fs', '<fu', '<i', '<i<', '<io', '<l', '<l<', '<la', '<m', '<ma', '<mi', '<n', '<n-', '<n2', '<n;', '<na', '<nu', '<p', '<ph', '<r', '<r;', '<re', '<s', '<s1', '<s5', '<s;', '<s<', '<sq', '<sr', '<st', '<su', '<t', '<ti', '<w', '<w<', '<x', '<x)', '<x[', '<z', '<z<', '=', '= ', '=\"', '=\" ', '=\";', '=\"<', \"='\", \"=',\", \"='0\", \"='9\", '=(', '=((', '=(1', '=(c', '=(m', '=(n', '=(r', '=(s', '=(x', '=0', '=0)', '=0,', '=0.', '=0;', '=1', '=1)', '=1,', '=1.', '=10', '=11', '=12', '=14', '=1;', '=2', '=2)', '=20', '=21', '=28', '=29', '=2;', '=3', '=3)', '=30', '=31', '=3;', '=4', '=4)', '=44', '=45', '=48', '=5', '=5)', '=5,', '=57', '=5;', '=6', '=6)', '=65', '=7', '=7)', '=8', '=8)', '=9', '=9)', '=90', '=97', '=9;', '==', '== ', '==\"', '==0', '==1', '==2', '==3', '==4', '==5', '==6', '==7', '==8', '==9', '=a', '=a*', '=a/', '=a;', '=a[', '=ab', '=ar', '=b', '=b*', '=b;', '=bu', '=c', '=ca', '=ch', '=d', '=d-', '=d;', '=d[', '=de', '=f', '=fa', '=fi', '=fl', '=h', '=h+', '=i', '=i+', '=i-', '=i;', '=in', '=k', '=k+', '=m', '=m;', '=ma', '=mi', '=n', '=n+', '=n-', '=n1', '=n;', '=ne', '=no', '=nu', '=p', '=p*', '=ph', '=pr', '=r', '=re', '=s', '=s+', '=s/', '=s1', '=s5', '=sq', '=st', '=su', '=t', '=tr', '=w', '=w/', '=x', '=x,', '=x;', '=y', '=y)', '=y*', '=y2', '=y;', '=z', '=z/', '>', '> ', '>0', '>0)', '>1', '>12', '>=', '>= ', \">='\", '>=0', '>=1', '>=4', '>=5', '>=a', '>=m', '>>', '>> ', '>>a', '>>b', '>>c', '>>d', '>>f', '>>g', '>>h', '>>k', '>>l', '>>m', '>>n', '>>p', '>>r', '>>s', '>>v', '>>x', '>>y', '>a', '>a;', '>a>', '>a[', '>ar', '>b', '>b;', '>b>', '>c', '>c>', '>cb', '>ct', '>d', '>d;', '>d>', '>d[', '>da', '>f', '>f>', '>fa', '>fi', '>g', '>g;', '>g>', '>h', '>h;', '>k', '>kt', '>l', '>l;', '>la', '>m', '>m)', '>m;', '>ma', '>mo', '>n', '>n;', '>n>', '>na', '>p', '>pe', '>ph', '>r', '>ra', '>s', '>se', '>st', '>t', '>tm', '>v', '>va', '>x', '>x&', '>x;', '>x[', '>y', '>y)', '>y;', '?', '?\"', '?\";', '?\"<', '[', '[\"', '[\" ', '[0', '[0]', '[1', '[10', '[11', '[12', '[15', '[16', '[1]', '[2', '[20', '[21', '[25', '[2]', '[3', '[3]', '[5', '[5]', '[6', '[60', '[64', '[6]', '[9', '[9]', '[]', '[] ', '[i', '[i+', '[i]', '[j', '[j ', '[j+', '[j]', '[k', '[k ', '[k]', '[l', '[le', '[m', '[m+', '[m]', '[n', '[n+', '[n-', '[n]', '[no', '[nu', '\\\\', '\\\\n', '\\\\n ', '\\\\n\"', \"\\\\n'\", '\\\\nр', ']', '] ', ']!', ']!=', '])', ']) ', '])&', ']))', '])-', ']);', '])>', ']){', ']+', ']++', ']+s', '],', '], ', '].', '].a', '].b', '].c', '].f', '].h', '].m', '].n', '].p', '].r', '].w', '].y', ']/', ']/m', '];', ']; ', '];}', ']<', ']<0', ']<<', ']<=', ']<m', ']=', \"]='\", ']=(', ']=0', ']=1', ']==', ']=a', ']=b', ']=c', ']=d', ']=m', ']=n', ']=r', ']>', ']>0', ']>=', ']>>', ']>d', ']>m', '][', '][0', '][1', '][2', '][5', '][j', '_', '_2', '_2.', '_a', '_al', '_f', '_fi', '_k', '_k+', '_k,', '_k2', '_k=', '_m', '_md', '_mo', '_t', '_t ', '_y', '_ye', 'a', 'a ', 'a!', 'a!=', 'a\"', 'a\" ', 'a(', 'a()', 'a)', 'a) ', 'a)\"', 'a);', 'a){', 'a*', 'a*b', 'a*c', 'a*o', 'a,', 'a, ', 'a,b', 'a,s', 'a.', 'a.b', 'a.d', 'a.i', 'a.m', 'a.o', 'a.r', 'a.s', 'a.t', 'a.v', 'a.y', 'a/', 'a/1', 'a/x', 'a2', 'a2.', 'a2[', 'a:', 'a::', 'a;', 'a; ', 'a;}', 'a<', 'a<0', 'a<<', 'a=', 'a=0', 'a=1', 'a==', 'a=a', 'a=c', 'a=d', 'a=n', 'a=p', 'a=y', 'a>', 'a>1', 'a>>', 'a[', 'a[0', 'a[1', 'a[2', 'a[9', 'a[i', 'a[j', 'a[k', 'a[n', 'ab', 'abs', 'ac', 'ace', 'act', 'ad', 'ad ', 'ad(', 'add', 'ade', 'af', 'aft', 'ag', 'age', 'ai', 'ain', 'aj', 'aja', 'ak', 'ak;', 'al', 'al ', 'al:', 'ala', 'alc', 'ale', 'all', 'als', 'alt', 'alu', 'am', 'am ', 'am,', 'am;', 'am<', 'am>', 'am[', 'ame', 'an', 'an\"', 'anc', 'and', 'anf', 'ang', 'ani', 'ank', 'ann', 'ano', 'ap', 'app', 'ar', 'ar ', 'ar(', 'ar)', 'ar*', 'ar-', 'ar/', 'ar;', 'ar<', 'ar=', 'ar>', 'ar?', 'ar[', 'arg', 'arp', 'arr', 'as', 'as ', 'as;', 'as[', 'ase', 'ash', 'ass', 'ast', 'at', 'at ', 'at(', 'at)', 'at,', 'at:', 'at=', 'ata', 'ate', 'ath', 'ati', 'at{', 'au', 'aus', 'aut', 'ax', 'ax ', 'ax)', 'ax,', 'ax;', 'ax=', 'axw', 'ay', 'ay!', 'ay(', 'ay)', 'ay*', 'ay-', 'ay;', 'ay<', 'ay=', 'ay>', 'a{', 'a{ ', 'b', 'b ', 'b!', 'b!=', 'b(', 'b(n', 'b(r', 'b)', 'b) ', 'b)*', 'b);', 'b*', 'b*d', 'b*o', 'b+', 'b+o', 'b,', 'b, ', 'b,c', 'b,h', 'b-', 'b-o', 'b.', 'b.d', 'b.h', 'b.i', 'b.m', 'b.o', 'b.r', 'b.s', 'b.t', 'b.v', 'b1', 'b1,', 'b1.', 'b2', 'b2)', 'b2.', 'b2;', 'b;', 'b; ', 'b;}', 'b<', 'b<<', 'b=', 'b=0', 'b==', 'b=a', 'b=c', 'b>', 'b> ', 'b>>', 'b]', 'b][', 'ba', 'bal', 'ban', 'bas', 'bb', 'bb.', 'be', 'ber', 'bl', 'ble', 'bli', 'bn', 'bna', 'bnu', 'bny', 'bo', 'boo', 'bp', 'bpa', 'br', 'bre', 'bs', 'bs ', 'bs(', 'bt', 'bth', 'bu', 'buf', 'c', 'c ', 'c!', 'c!=', 'c\"', 'c\" ', 'c(', 'c(i', 'c(v', 'c)', 'c) ', 'c,', 'c, ', 'c,d', 'c,h', 'c2', 'c2 ', 'c2:', 'c:', 'c: ', 'c;', 'c; ', 'c;}', 'c<', 'c<<', 'c=', 'c=0', 'c==', 'c>', 'c>>', 'c_', 'c_a', 'ca', 'cal', 'can', 'cas', 'cat', 'cb', 'cb ', 'cb)', 'cb,', 'cb>', 'ce', 'ce ', 'ce(', 'ce;', 'ce<', 'ce[', 'cel', 'ch', 'cha', 'che', 'chi', 'ci', 'cin', 'cis', 'ck', 'ck(', 'ckm', 'ckp', 'cl', 'cla', 'cle', 'clo', 'clu', 'cm', 'cma', 'cmp', 'co', 'con', 'cou', 'cr', 'cre', 'cs', 'cst', 'ct', 'ct ', 'ct+', 'ct,', 'ct;', 'ct>', 'cu', 'cul', 'd', 'd ', 'd\"', 'd\" ', 'd\",', 'd\"<', 'd(', 'd((', 'd()', 'd(i', 'd(n', 'd(r', 'd(t', 'd(x', 'd)', 'd) ', 'd);', 'd)<', 'd){', 'd,', 'd, ', 'd,1', 'd,f', 'd,i', 'd-', 'd-(', 'd-a', 'd/', 'd/1', 'd/3', 'd/5', 'd:', 'd::', 'd;', 'd; ', 'd;i', 'd<', 'd<=', 'd=', 'd=0', 'd=1', 'd=c', 'd=d', 'd=n', 'd=s', 'd>', 'd>=', 'd>>', 'd[', 'd[0', 'd[1', 'd[i', 'd[j', 'd\\\\', 'd\\\\n', 'da', 'dan', 'dat', 'day', 'db', 'dbb', 'dd', 'dd(', 'de', 'de ', 'de<', 'dec', 'del', 'di', 'di ', 'dig', 'dio', 'dis', 'dit', 'div', 'dl', 'dl;', 'dli', 'dn', 'dna', 'do', 'do ', 'dot', 'dou', 'dr', 'dr(', 'dro', 'e', 'e ', 'e\"', 'e\")', 'e(', 'e(!', 'e(&', 'e()', 'e(0', 'e(a', 'e(b', 'e(d', 'e(f', 'e(g', 'e(i', 'e(l', 'e(n', 'e(p', 'e(r', 'e(s', 'e(v', 'e(x', 'e)', 'e) ', 'e);', 'e){', 'e*', 'e* ', 'e*p', 'e*r', 'e,', 'e, ', 'e-', 'e-8', 'e.', 'e.c', 'e.d', 'e.h', 'e.o', 'e.r', 'e.t', 'e:', 'e: ', 'e::', 'e;', 'e; ', 'e<', 'e<<', 'e<f', 'e<i', 'e<s', 'e=', 'e=c', 'e>', 'e>>', 'e[', 'e[0', 'e[1', 'e[2', 'e[3', 'e[6', 'e[m', 'e[n', 'e_', 'e_t', 'ea', 'ead', 'eak', 'eam', 'ear', 'eb', 'eba', 'ebo', 'ec', 'ec2', 'ech', 'eci', 'eck', 'eco', 'ed', 'ed ', 'edi', 'ee', 'eek', 'een', 'ef', 'efi', 'eg', 'eg1', 'eg2', 'ei', 'eig', 'ek', 'ekg', 'el', 'el(', 'el;', 'el=', 'ela', 'ele', 'ell', 'els', 'elu', 'ely', 'em', 'em(', 'en', 'en ', 'en(', 'en;', 'en<', 'en>', 'en]', 'end', 'eni', 'eno', 'ent', 'eo', 'eof', 'ep', 'eps', 'eq', 'equ', 'er', 'er ', 'er)', 'er.', 'er;', 'er<', 'er[', 'er_', 'eri', 'err', 'ers', 'erv', 'es', 'es(', 'es[', 'esp', 'est', 'et', 'et(', 'ete', 'etl', 'etp', 'etu', 'etw', 'eu', 'eug', 'ew', 'ew ', 'ewn', 'ewt', 'ex', 'exa', 'ez', 'ez)', 'ez+', 'ez-', 'ez1', 'ez2', 'ez3', 'ez=', 'ez[', 'ezu', 'e{', 'e{ ', 'f', 'f ', 'f\"', 'f\",', 'f(', 'f(\"', 'f((', 'f()', 'f(a', 'f(d', 'f,', 'f,g', 'f2', 'f2}', 'f;', 'f; ', 'f=', 'f=r', 'f>', 'f>>', 'f\\\\', 'f\\\\n', 'fa', 'fab', 'fac', 'fal', 'fam', 'fat', 'fi', 'fil', 'fin', 'fir', 'fix', 'fl', 'flo', 'fo', 'for', 'fou', 'fs', 'fst', 'ft', 'fte', 'fu', 'fun', 'g', 'g ', 'g!', 'g!=', 'g(', 'g()', 'g(a', 'g(c', 'g(d', 'g(f', 'g(g', 'g)', 'g);', 'g){', 'g,', 'g,h', 'g.', 'g.h', 'g1', 'g1 ', 'g1;', 'g2', 'g2 ', 'g2;', 'g;', 'g; ', 'g<', 'g<=', 'g=', 'g=0', 'g=1', 'g==', 'g=f', 'g=t', 'g>', 'g> ', 'g>=', 'g>>', 'ga', 'gag', 'gc', 'gc,', 'ge', 'ge ', 'ge.', 'ge:', 'ge;', 'gec', 'get', 'gg', 'gga', 'gh', 'ght', 'gi', 'git', 'gl', 'gla', 'gn', 'gne', 'go', 'go ', 'gp', 'gpl', 'gs', 'gs ', 'gs)', 'gv', 'gv)', 'h', 'h!', 'h!=', 'h(', 'h(a', 'h(f', 'h(m', 'h)', 'h))', 'h);', 'h)<', 'h+', 'h+1', 'h,', 'h,g', 'h,s', 'h-', 'h-(', 'h--', 'h.', 'h.h', 'h;', 'h; ', 'h<', 'h<<', 'h=', 'h=(', 'h=0', 'h=1', 'h==', 'h=c', 'h=h', 'h>', 'h> ', 'h>=', 'ha', 'har', 'has', 'hat', 'he', 'he ', 'hec', 'hed', 'hen', 'her', 'hex', 'hi', 'hil', 'hin', 'his', 'ho', 'hon', 'hor', 'hou', 'ht', 'ht ', 'ht)', 'ht;', 'i', 'i ', 'i)', 'i) ', 'i))', 'i);', 'i)<', 'i){', 'i+', 'i++', 'i+1', 'i+=', 'i,', 'i, ', 'i,a', 'i,j', 'i,n', 'i,s', 'i-', 'i--', 'i-1', 'i;', 'i; ', 'i;}', 'i<', 'i<4', 'i<5', 'i<<', 'i<=', 'i<m', 'i<n', 'i=', 'i=0', 'i=1', 'i=2', 'i=6', 'i=9', 'i==', 'i=i', 'i=m', 'i=n', 'i=y', 'i>', 'i>=', 'i>y', 'i]', 'i] ', 'i]!', 'i])', 'i]+', 'i].', 'i];', 'i]<', 'i]=', 'i]>', 'i][', 'ia', 'ia ', 'ian', 'ib', 'ib.', 'ib>', 'ic', 'ic ', 'ic\"', 'ic)', 'ic:', 'ic;', 'ica', 'id', 'id ', 'id=', 'if', 'if ', 'if(', 'ifs', 'ig', 'igh', 'igi', 'ign', 'il', 'ile', 'im', 'ime', 'in', 'in ', 'in(', 'in)', 'in,', 'in.', 'in;', 'in=', 'in>', 'in]', 'in_', 'inc', 'ind', 'ine', 'inf', 'ing', 'inp', 'ins', 'int', 'inu', 'io', 'io.', 'io>', 'iod', 'iom', 'ion', 'ios', 'ip', 'ip>', 'ir', 'irs', 'is', 'ish', 'isi', 'isl', 'isp', 'it', 'ite', 'iti', 'itl', 'its', 'iv', 'iv(', 'iva', 'ive', 'ix', 'ixe', 'iy', 'iya', 'iz', 'ize', 'izv', 'j', 'j ', 'j)', 'j) ', 'j){', 'j+', 'j++', 'j+1', 'j,', 'j,n', 'j;', 'j; ', 'j<', 'j<=', 'j<n', 'j=', 'j=0', 'j=1', 'j==', 'j>', 'j>x', 'j]', 'j] ', 'j])', 'j].', 'j]/', 'j];', 'j]<', 'j]=', 'j]>', 'j][', 'ja', 'ja ', 'ju', 'ju ', 'k', 'k ', 'k!', 'k!!', 'k(', 'k()', 'k+', 'k++', 'k+1', 'k,', 'k,m', 'k-', 'k--', 'k2', 'k2;', 'k2=', 'k;', 'k; ', 'k;}', 'k<', 'k<<', 'k<=', 'k=', 'k=0', 'k=1', 'k==', 'k=i', 'k=k', 'k[', 'k[6', 'k]', 'k] ', 'k];', 'k]=', 'kg', 'kg(', 'km', 'kmo', 'ko', 'kom', 'kp', 'kpo', 'kpr', 'ks', 'ks ', 'ks:', 'kt', 'kt ', 'kt,', 'kt;', 'l', 'l ', 'l!', 'l!=', 'l(', 'l()', 'l(n', 'l(r', 'l)', 'l);', 'l+', 'l+1', 'l,', 'l, ', 'l,\"', 'l,j', 'l:', 'l::', 'l;', 'l; ', 'l<', 'l<<', 'l<=', 'l=', 'l=0', 'l=1', 'l==', 'l=a', 'l=n', 'l=s', 'l>', 'l>=', 'la', 'la ', 'la.', 'la2', 'lac', 'laj', 'lan', 'las', 'lat', 'lay', 'lc', 'lc_', 'lcu', 'ld', 'ld ', 'ld\"', 'le', 'le ', 'le(', 'le*', 'le.', 'le;', 'le[', 'lea', 'len', 'let', 'lf', 'lf ', 'lf\"', 'lf\\\\', 'lg', 'lg(', 'li', 'lib', 'lic', 'lin', 'lis', 'll', 'll)', 'll,', 'lld', 'llg', 'lo', 'lo ', 'loa', 'loc', 'lon', 'loo', 'los', 'loz', 'ls', 'lse', 'lt', 'lt(', 'lt2', 'lta', 'lti', 'lu', 'lud', 'lue', 'lug', 'luj', 'ly', 'lyu', 'm', 'm ', 'm(', 'm(\"', 'm)', 'm) ', 'm+', 'm+1', 'm+a', 'm,', 'm, ', 'm,h', 'm,x', 'm-', 'm-1', 'm-i', 'm/', 'm/s', 'm;', 'm; ', 'm;i', 'm;j', 'm<', 'm<<', 'm=', 'm=0', 'm=1', 'm=2', 'm=5', 'm=f', 'm=s', 'm>', 'm> ', 'm[', 'm[1', 'm\\\\', 'm\\\\n', 'm]', 'm];', 'm_', 'm_m', 'm_y', 'ma', 'ma(', 'mai', 'man', 'mas', 'mat', 'max', 'mb', 'mb ', 'mb1', 'mb2', 'mb;', 'mb]', 'mbe', 'mbp', 'mbt', 'md', 'mda', 'me', 'me ', 'me(', 'me)', 'me.', 'me;', 'me<', 'me>', 'me[', 'me_', 'meb', 'mer', 'mes', 'mi', 'min', 'mm', 'mma', 'mmi', 'mn', 'mno', 'mo', 'mon', 'mp', 'mp(', 'mr', 'mre', 'mu', 'mul', 'n', 'n ', 'n\"', 'n\")', 'n\",', 'n\";', 'n\"<', \"n'\", \"n';\", 'n(', 'n(\"', 'n()', 'n(0', 'n(4', 'n(a', 'n(f', 'n(i', 'n(r', 'n(s', 'n(v', 'n(x', 'n)', 'n) ', 'n)/', 'n);', 'n){', 'n+', 'n++', 'n+1', 'n+7', 'n+8', 'n+a', 'n,', 'n, ', 'n,b', 'n,i', 'n,k', 'n,l', 'n,m', 'n,s', 'n,x', 'n-', 'n-1', 'n-2', 'n-i', 'n.', 'n.c', 'n.e', 'n.g', 'n.o', 'n.s', 'n.t', 'n/', 'n/2', 'n1', 'n1,', 'n1-', 'n1=', 'n2', 'n2,', 'n2;', 'n2=', 'n;', 'n; ', 'n;i', 'n<', 'n<<', 'n=', 'n=\"', 'n=0', 'n=1', 'n=2', 'n=a', 'n=d', 'n=f', 'n=i', 'n=n', 'n>', 'n>>', 'n]', 'n]+', 'n];', 'n_', 'n_k', 'na', 'naj', 'nal', 'nam', 'nc', 'nc(', 'nce', 'ncl', 'nd', 'nd ', 'nd\"', 'nd(', 'nd)', 'nd,', 'nd;', 'nd=', 'nd[', 'ndl', 'ndn', 'ne', 'ne(', 'ned', 'nef', 'neg', 'nen', 'new', 'nf', 'nf(', 'nfi', 'ng', 'ng ', 'ng)', 'ng.', 'ng=', 'ng>', 'nge', 'ngp', 'ngs', 'ni', 'nia', 'nip', 'niy', 'nk', 'nko', 'nn', 'nny', 'no', 'no ', 'no!', 'nod', 'nom', 'not', 'now', 'noz', 'np', 'npu', 'ns', 'ns[', 'nsi', 'nst', 'nt', 'nt ', 'nt(', 'nt)', 'nt*', 'nt,', 'nt[', 'nte', 'ntf', 'nth', 'nu', 'nuj', 'nul', 'num', 'nus', 'nut', 'ny', 'nye', 'nyu', 'nр', 'nре', 'o', 'o ', 'o!', 'o!\"', 'o*', 'o*=', 'o+', 'o+=', 'o.', 'o.h', 'o=', 'o=0', 'o=1', 'o>', 'o> ', 'oa', 'oat', 'ob', 'obn', 'oc', 'oca', 'od', 'od ', 'od(', 'od)', 'od,', 'od/', 'od;', 'od=', 'odr', 'oe', 'oe ', 'of', 'of ', 'of(', 'ofs', 'oi', 'oid', 'oiz', 'ok', 'ok ', 'ok!', 'ok;', 'ok<', 'ok[', 'oks', 'ol', 'ol ', 'om', 'om;', 'oma', 'omi', 'omm', 'on', 'on ', 'on(', 'on)', 'ona', 'ond', 'one', 'ong', 'ons', 'ont', 'oo', 'ook', 'ool', 'oor', 'op', 'ope', 'or', 'or ', 'or!', 'or(', 'or)', 'or,', 'or;', 'or<', 'or[', 'ord', 'oro', 'ort', 'os', 'os ', 'os:', 'os;', 'ose', 'osi', 'ost', 'ot', 'ote', 'oth', 'ots', 'ou', 'oub', 'our', 'out', 'ow', 'ow ', 'ow(', 'ow-', 'oz', 'ozh', 'p', 'p ', 'p(', 'p(a', 'p(f', 'p)', 'p);', 'p*', 'p*(', 'p*d', 'p,', 'p, ', 'p,a', 'p,s', 'p-', 'p-1', 'p-x', 'p-y', 'p-z', 'p;', 'p; ', 'p<', 'p<=', 'p=', 'p=(', 'p=1', 'p=p', 'p>', 'p> ', 'pa', 'pac', 'pas', 'pau', 'pe', 'pen', 'per', 'ph', 'pho', 'pl', 'pla', 'po', 'pos', 'pow', 'pp', 'pp)', 'pr', 'pre', 'pri', 'pro', 'ps', 'ps ', 'ps)', 'pu', 'pub', 'put', 'q', 'qr', 'qrt', 'qu', 'qu(', 'r', 'r ', 'r!', 'r! ', 'r(', 'r((', 'r()', 'r(a', 'r(f', 'r(i', 'r(j', 'r(n', 'r(r', 'r)', 'r) ', 'r)(', 'r)-', 'r);', 'r)<', 'r)=', 'r)>', 'r){', 'r*', 'r**', 'r,', 'r, ', 'r,1', 'r-', 'r--', 'r.', 'r.a', 'r.b', 'r.s', 'r/', 'r/4', 'r1', 'r1 ', 'r1,', 'r2', 'r2 ', 'r2,', 'r3', 'r3 ', 'r3\"', 'r3)', 'r3,', 'r3;', 'r;', 'r; ', 'r<', 'r<<', 'r=', 'r= ', 'r=(', 'r=s', 'r>', 'r>m', 'r?', 'r?\"', 'r[', 'r[1', 'r[2', 'r[5', 'r[6', 'r[i', 'r[j', 'r[n', 'r_', 'r_f', 'ra', 'rai', 'ran', 'rat', 'rc', 'rcm', 'rd', 'rd\"', 're', 'rea', 'rec', 'ree', 'res', 'ret', 'reu', 'rez', 'rg', 'rgc', 'rgv', 'ri', 'ric', 'rim', 'rin', 'rio', 'rit', 'riv', 'rl', 'rle', 'rn', 'rn ', 'rn(', 'ro', 'ro ', 'ro*', 'ro+', 'ro=', 'rob', 'roe', 'roi', 'ror', 'rp', 'rp,', 'rp-', 'rp<', 'rp=', 'rpl', 'rr', 'rr=', 'rr[', 'rro', 'rs', 'rs.', 'rs2', 'rst', 'rt', 'rt(', 'rt[', 'ru', 'ruc', 'rue', 'rus', 'rv', 'rvo', 's', 's ', 's!', 's!=', 's(', 's()', 's(a', 's(d', 's(f', 's(m', 's(n', 's(s', 's)', 's) ', 's))', 's);', 's+', 's++', 's+1', 's+a', 's+d', 's,', 's,2', 's,a', 's,i', 's,m', 's.', 's.t', 's/', 's/(', 's/2', 's1', 's1+', 's1,', 's10', 's1=', 's2', 's2+', 's2,', 's2.', 's2=', 's3', 's3,', 's3;', 's3=', 's5', 's50', 's5;', 's5=', 's:', 's::', 's;', 's; ', 's<', 's<<', 's=', 's=\"', 's=(', 's=0', 's==', 's=c', 's=s', 's[', 's[0', 's[2', 's[5', 's[6', 's[i', 's]', 's];', 'sc', 'sca', 'scr', 'se', 'se ', 'se\"', 'se(', 'se.', 'se;', 'sec', 'see', 'set', 'se{', 'sh', 'sh)', 'sh-', 'sh;', 'sh<', 'sh=', 'sha', 'she', 'shi', 'si', 'sia', 'sig', 'sin', 'sio', 'sit', 'siz', 'sl', 'sla', 'slo', 'so', 'sor', 'sp', 'spa', 'spl', 'sq', 'sqr', 'sr', 'sr;', 'sr<', 'sr=', 'sra', 'ss', 'ss ', 'ss;', 'ss]', 'ssi', 'st', 'st ', 'st\"', 'st(', 'st)', 'st,', 'st/', 'st;', 'st=', 'st[', 'sta', 'std', 'ste', 'stn', 'stp', 'str', 'su', 'sub', 'sum', 'sy', 'sys', 't', 't ', 't\"', 't\")', 't\",', 't\"<', 't(', 't()', 't(a', 't(f', 't(p', 't(s', 't)', 't) ', 't)(', 't))', 't);', 't)d', 't)s', 't)t', 't){', 't*', 't* ', 't*[', 't+', 't++', 't+c', 't,', 't, ', 't,1', 't.', 't.c', 't.o', 't.t', 't/', 't/d', 't2', 't2 ', 't2:', 't:', 't::', 't;', 't; ', 't<', 't<<', 't=', 't=\"', 't=0', 't==', 't=c', 't>', 't>>', 't[', 't[1', 't[5', 't[i', 't[j', 't[l', 't_', 't_2', 'ta', 'ta ', 'ta.', 'ta:', 'ta;', 'tal', 'tat', 'ta{', 'td', 'td:', 'td;', 'tdi', 'tdl', 'te', 'te ', 'te(', 'te)', 'te*', 'te,', 'te:', 'te;', 'te=', 'te[', 'teb', 'tel', 'tem', 'ten', 'ter', 'tes', 'te{', 'tf', 'tf(', 'tfi', 'th', 'th!', 'th(', 'th)', 'th-', 'th.', 'th;', 'th<', 'th=', 'th>', 'the', 'thi', 'tho', 'ti', 'tic', 'tim', 'tio', 'tit', 'tiv', 'tl', 'tle', 'tli', 'tlo', 'tm', 'tm ', 'tm_', 'tn', 'tna', 'to', 'tor', 'tp', 'tpo', 'tpr', 'tpu', 'tr', 'tr)', 'tr,', 'tr.', 'tr;', 'tr<', 'tr[', 'tra', 'trc', 'tre', 'tri', 'trl', 'tru', 'ts', 'ts!', 'ts+', 'ts=', 'tu', 'tur', 'tw', 'tw(', 'tx', 'txt', 't{', 't{ ', 'u', 'u ', 'u(', 'u(n', 'u(r', 'ub', 'ub(', 'ubl', 'uc', 'uct', 'ud', 'ude', 'ue', 'ue)', 'ue*', 'ue,', 'ue;', 'ue=', 'uf', 'uf;', 'uf=', 'ug', 'ug(', 'ugg', 'uj', 'uju', 'ul', 'ul(', 'ul+', 'ul,', 'ul<', 'ul=', 'ula', 'ull', 'ult', 'um', 'um ', 'um+', 'um-', 'um/', 'um;', 'um<', 'um=', 'umb', 'ume', 'umm', 'umn', 'umr', 'un', 'unc', 'uns', 'ur', 'ur ', 'ur)', 'ur;', 'urn', 'us', 'us(', 'use', 'usi', 'uss', 'ut', 'ut ', 'ut(', 'ut)', 'ut.', 'ut;', 'ut<', 'ut_', 'utf', 'uth', 'utp', 'v', 'v ', 'v(', 'v(n', 'v(r', 'v)', 'v) ', 'v*', 'v*a', 'v=', 'v=1', 'v=p', 'va', 'val', 'vat', 've', 've(', 'ved', 'vo', 'vod', 'voe', 'voi', 'vt', 'vto', 'vv', 'vve', 'vvo', 'vy', 'vyv', 'w', 'w ', 'w(', 'w(2', 'w(4', 'w-', 'w->', 'w/', 'w/x', 'w<', 'w<<', 'w=', 'w=w', 'w=y', 'we', 'wei', 'wh', 'wha', 'whi', 'wn', 'wna', 'wno', 'wo', 'wor', 'wr', 'wri', 'wt', 'wtr', 'x', 'x ', 'x!', 'x!=', 'x&', 'x&&', 'x)', 'x) ', 'x)*', 'x);', 'x)<', 'x+', 'x+y', 'x,', 'x, ', 'x,1', 'x,f', 'x,p', 'x,y', 'x;', 'x; ', 'x;i', 'x;x', 'x=', 'x=0', 'x=1', 'x=a', 'x=d', 'x=f', 'x=i', 'x[', 'x[1', 'x[i', 'xa', 'xad', 'xe', 'xed', 'xn', 'xn)', 'xn+', 'xt', 'xt\"', 'xw', 'xwe', 'y', 'y ', 'y!', 'y!=', 'y(', 'y()', 'y)', 'y) ', 'y)*', 'y);', 'y)<', 'y){', 'y*', 'y*1', 'y*2', 'y*s', 'y+', 'y+z', 'y,', 'y, ', 'y,i', 'y,s', 'y-', 'y--', 'y2', 'y2,', 'y2/', 'y2;', 'y2=', 'y;', 'y; ', 'y;i', 'y;y', 'y<', 'y<<', 'y<x', 'y=', 'y=(', 'y=0', 'y=1', 'y=2', 'y=3', 'y=b', 'y=i', 'y=x', 'y=y', 'y>', 'y>=', 'ya', 'ya ', 'ye', 'ye ', 'yea', 'ys', 'yst', 'yu', 'yu ', 'yv', 'yvo', 'z', 'z)', 'z) ', 'z))', 'z)/', 'z);', 'z+', 'z+n', 'z-', 'z-r', 'z/', 'z/x', 'z1', 'z1%', 'z1*', 'z1+', 'z1/', 'z1;', 'z1=', 'z1>', 'z2', 'z2)', 'z2*', 'z2+', 'z2-', 'z2;', 'z2=', 'z3', 'z3=', 'z<', 'z<<', 'z=', 'z=0', 'z=a', 'z=n', 'z=x', 'z=z', 'z[', 'z[2', 'z[i', 'z[n', 'za', 'zar', 'ze', 'ze(', 'zel', 'zh', 'zhe', 'zu', 'zul', 'zv', 'zv ', 'zv*', 'zv=', '{', '{ ', '{0', '{0:', '{a', '{a=', '{b', '{b=', '{c', '{ch', '{f', '{fi', '{fo', '{i', '{if', '{in', '{m', '{ma', '{mi', '{s', '{su', '|', '| ', '|(', '|((', '|(a', '|(d', '|(m', '|(x', '||', '|| ', '||(', '}', '} ', '}\"', '}\";', '};', '}; ', '}e', '}el', '}}', '}} ', '«', '«п', '«пе', '»', '» ', 'а', 'а ', 'а!', 'а!\"', 'а!\\\\', 'а\"', 'а\"<', 'а(', 'а(д', 'а-', 'а-«', 'а.', 'а. ', 'ав', 'ави', 'авк', 'авн', 'авр', 'ад', 'ада', 'адб', 'аде', 'адл', 'адр', 'аду', 'ае', 'ает', 'аж', 'ажи', 'аз', 'аз(', 'аза', 'азв', 'азм', 'азн', 'азо', 'азу', 'аи', 'аиб', 'ай', 'айт', 'ак', 'ако', 'ал', 'ала', 'ам', 'аме', 'ами', 'амм', 'ан', 'ани', 'анк', 'анн', 'ано', 'анс', 'ап', 'апа', 'ар', 'ара', 'ари', 'ас', 'асс', 'аст', 'ат', 'ат ', 'ат=', 'ата', 'ате', 'атн', 'ать', 'ах', 'ахо', 'ац', 'аци', 'ач', 'аче', 'б', 'б:', 'б: ', 'ба', 'бав', 'баз', 'бал', 'бан', 'бк', 'бка', 'бл', 'бла', 'бло', 'бля', 'бн', 'бно', 'бо', 'бол', 'бор', 'бх', 'бхо', 'бщ', 'бще', 'бщи', 'бы', 'бы ', 'быв', 'был', 'в', 'в ', 'в\"', 'в\"<', 'в.', 'в. ', 'ва', 'ва\"', 'вад', 'вае', 'ван', 'ват', 'вв', 'вве', 'ввн', 'вво', 'ве', 'ве ', 'вед', 'век', 'вел', 'вер', 'вес', 'вещ', 'ви', 'вие', 'вит', 'вк', 'вкл', 'вку', 'вн', 'внд', 'внн', 'вно', 'вны', 'во', 'во ', 'во\"', 'вов', 'вод', 'вол', 'воч', 'вр', 'врш', 'вс', 'все', 'вы', 'выв', 'г', 'ги', 'ги ', 'гн', 'гну', 'го', 'го ', 'го:', 'год', 'гр', 'гра', 'д', 'д ', 'д)', 'д))', 'да', 'да ', 'да\"', 'да(', 'дан', 'дат', 'дб', 'дбы', 'дв', 'двн', 'де', 'дей', 'дел', 'ден', 'ди', 'ди ', 'диа', 'дик', 'дим', 'дин', 'дит', 'дич', 'диэ', 'дл', 'дле', 'для', 'дм', 'дме', 'дн', 'дне', 'дни', 'дня', 'до', 'доб', 'дон', 'дос', 'дох', 'дп', 'дпо', 'дпр', 'др', 'дра', 'дро', 'ду', 'ду ', 'е', 'е ', 'е\"', 'е\";', 'еб', 'ебл', 'ев', 'ев.', 'еве', 'ег', 'его', 'ед', 'еде', 'еди', 'едм', 'едн', 'едр', 'ее', 'ее ', 'еет', 'еж', 'ежи', 'ез', 'еза', 'езд', 'езу', 'ей', 'ей ', 'ей,', 'ейи', 'ейн', 'ек', 'ека', 'еко', 'екс', 'еку', 'ел', 'ел ', 'еле', 'ели', 'ело', 'ель', 'еля', 'ем', 'еме', 'ен', 'ена', 'ени', 'енк', 'ено', 'ент', 'ену', 'ень', 'ео', 'еоб', 'еп', 'епо', 'епр', 'ер', 'ер ', 'ера', 'ере', 'ерм', 'ерн', 'ерп', 'ерт', 'ес', 'ес ', 'еск', 'есо', 'еср', 'ест', 'еся', 'ет', 'ет ', 'етв', 'ете', 'ети', 'етр', 'етс', 'ету', 'еть', 'еф', 'ефа', 'ефо', 'ех', 'ех ', 'еч', 'ечи', 'ещ', 'еще', 'ещь', 'ж', 'жд', 'жде', 'же', 'жен', 'жи', 'жир', 'жит', 'жк', 'жки', 'жн', 'жно', 'з', 'з ', 'з(', 'з(a', 'за', 'за ', 'зав', 'зад', 'зак', 'зан', 'зв', 'зва', 'зд', 'зда', 'здп', 'зм', 'зме', 'зн', 'зна', 'зо', 'зон', 'зу', 'зу ', 'зул', 'и', 'и ', 'и)', 'и) ', 'и:', 'и:\"', 'иа', 'иап', 'иб', 'ибк', 'ибо', 'ибы', 'ив', 'ива', 'иве', 'иг', 'игн', 'ие', 'ие ', 'иеп', 'из', 'из ', 'ии', 'ии ', 'ий', 'ий ', 'ик', 'ика', 'ико', 'ил', 'или', 'им', 'имв', 'име', 'имы', 'имя', 'ин', 'ина', 'ино', 'ину', 'ир', 'ир ', 'иро', 'ис', 'исе', 'исл', 'ист', 'ит', 'ит ', 'ита', 'итд', 'ите', 'ито', 'ить', 'иф', 'ифм', 'их', 'их ', 'ич', 'иче', 'ичи', 'ищ', 'ище', 'иэ', 'иэл', 'ию', 'ию ', 'ию:', 'июу', 'ия', 'ия ', 'ия\"', 'й', 'й ', 'й,', 'й, ', 'йи', 'йив', 'йн', 'йна', 'йт', 'йти', 'к', 'ка', 'ка ', 'ка!', 'ка\"', 'кв', 'ква', 'квк', 'ки', 'ки ', 'кл', 'кла', 'ко', 'кое', 'кол', 'ком', 'кон', 'кор', 'кот', 'кс', 'кст', 'кт', 'кта', 'ку', 'ку ', 'куп', 'кур', 'л', 'л ', 'л-', 'л-в', 'ла', 'ла ', 'ла(', 'ла.', 'лад', 'лан', 'лар', 'лас', 'ле', 'леж', 'лей', 'лем', 'лен', 'леф', 'ли', 'ли:', 'лит', 'лич', 'лию', 'лия', 'лл', 'лли', 'ло', 'ло ', 'лов', 'лож', 'лоп', 'лор', 'ль', 'ль ', 'ль\"', 'льт', 'льш', 'ля', 'ля ', 'ляе', 'м', 'м ', 'ма', 'ма ', 'ма-', 'мас', 'мат', 'мв', 'мво', 'ме', 'мее', 'мен', 'мер', 'мес', 'мет', 'ми', 'мил', 'мм', 'мма', 'мму', 'мо', 'мот', 'мощ', 'му', 'му ', 'мы', 'мых', 'мя', 'мя ', 'н', 'н ', 'н.', 'н.э', 'на', 'над', 'наз', 'наи', 'най', 'нам', 'нат', 'нах', 'нач', 'нд', 'нди', 'не', 'не ', 'нев', 'нед', 'нее', 'ней', 'нео', 'нет', 'ни', 'ни)', 'ние', 'ник', 'них', 'ния', 'нк', 'нко', 'нкт', 'нку', 'нн', 'нно', 'нны', 'но', 'но ', 'но!', 'но:', 'ног', 'ное', 'ном', 'нс', 'нс ', 'нт', 'нтн', 'нты', 'ну', 'ну ', 'нуж', 'нут', 'ную', 'нч', 'нчи', 'ны', 'ны\"', 'ные', 'ный', 'ных', 'нь', 'нь ', 'ньг', 'ня', 'ня:', 'нят', 'о', 'о ', 'о!', 'о! ', 'о\"', 'о\"<', 'о:', 'о: ', 'о:\"', 'о\\\\', 'о\\\\n', 'об', 'оба', 'обл', 'обн', 'обо', 'обх', 'общ', 'обы', 'ов', 'ов ', 'ов\"', 'ова', 'ове', 'ови', 'овк', 'ог', 'ого', 'огр', 'од', 'од ', 'од)', 'оди', 'одн', 'одп', 'оду', 'ое', 'ое ', 'ое\"', 'оез', 'оеч', 'ож', 'ожд', 'оже', 'ожи', 'ожк', 'ок', 'окв', 'ол', 'ол ', 'ол-', 'оли', 'олл', 'оло', 'оль', 'ом', 'ом ', 'ома', 'оме', 'омо', 'он', 'он ', 'он.', 'ону', 'онч', 'оп', 'опе', 'опр', 'ор', 'ора', 'оре', 'орм', 'оро', 'орт', 'ору', 'ос', 'осм', 'ост', 'от', 'оти', 'ото', 'отр', 'отс', 'ох', 'охо', 'оц', 'оце', 'оч', 'очи', 'очк', 'ош', 'оши', 'ощ', 'ощь', 'п', 'па', 'паз', 'пас', 'пе', 'пер', 'по', 'по ', 'пов', 'пое', 'пол', 'пом', 'пос', 'пот', 'пр', 'пре', 'при', 'про', 'пу', 'пун', 'пю', 'пюр', 'р', 'р ', 'ра', 'рав', 'рад', 'раз', 'рам', 'рат', 'рац', 'ре', 'реб', 'рев', 'ред', 'рез', 'рек', 'рен', 'рет', 'ри', 'риб', 'рин', 'риф', 'рм', 'рма', 'рме', 'рн', 'рны', 'ро', 'роб', 'ров', 'рог', 'рок', 'рос', 'рот', 'роц', 'рош', 'рп', 'рпо', 'рс', 'рси', 'рт', 'рти', 'рты', 'ру', 'руб', 'рую', 'рш', 'рше', 'ры', 'ры:', 'с', 'с ', 'са', 'са ', 'саж', 'се', 'сег', 'сел', 'сех', 'си', 'сив', 'сии', 'сим', 'ск', 'ско', 'сл', 'сла', 'сли', 'сло', 'см', 'смо', 'сн', 'сня', 'со', 'сом', 'сор', 'ср', 'сре', 'сро', 'сс', 'сса', 'сси', 'ст', 'ст ', 'ста', 'ств', 'сти', 'сты', 'су', 'сум', 'сч', 'счи', 'ся', 'ся ', 'сяп', 'сяц', 'т', 'т ', 'т=', 'т=\"', 'та', 'та ', 'та(', 'тав', 'тат', 'тв', 'тв ', 'тве', 'тво', 'тд', 'тди', 'те', 'те ', 'тез', 'тек', 'тел', 'теп', 'тес', 'тет', 'теф', 'ти', 'ти ', 'тиг', 'тир', 'тит', 'тич', 'тн', 'тну', 'тны', 'то', 'то:', 'то\\\\', 'тоб', 'тов', 'тог', 'тор', 'точ', 'тр', 'тра', 'тре', 'тс', 'тсо', 'тся', 'ту', 'ту ', 'ты', 'ты ', 'тые', 'тым', 'тых', 'тыш', 'ть', 'ть ', 'у', 'у ', 'у\"', 'у\" ', 'уб', 'уб:', 'уж', 'ужн', 'ул', 'уль', 'ум', 'умм', 'ун', 'унк', 'уп', 'упо', 'упю', 'ур', 'урс', 'ус', 'усл', 'ут', 'уто', 'уч', 'уче', 'ую', 'ую ', 'уюс', 'ф', 'фа', 'фам', 'фм', 'фме', 'фо', 'фон', 'фор', 'х', 'х ', 'х:', 'х: ', 'хо', 'ход', 'хож', 'хор', 'хот', 'ц', 'ц ', 'ца', 'ца ', 'це', 'цев', 'цен', 'ци', 'цию', 'ч', 'че', 'чел', 'чен', 'чес', 'чи', 'чин', 'чис', 'чит', 'чищ', 'чк', 'чка', 'чт', 'что', 'ш', 'ш»', 'ш» ', 'ше', 'шег', 'шен', 'ши', 'шиб', 'ший', 'шис', 'шт', 'шт ', 'щ', 'ще', 'щег', 'щее', 'щей', 'щен', 'щи', 'щий', 'щь', 'щью', 'ы', 'ы ', 'ы\"', 'ы\"<', 'ы:', 'ы:\\\\', 'ыв', 'ыва', 'ыво', 'ые', 'ые ', 'ыед', 'ый', 'ый ', 'ыл', 'ыло', 'ым', 'ыма', 'ых', 'ых ', 'ых:', 'ыш', 'ыш»', 'ь', 'ь ', 'ь\"', 'ь\"<', 'ьг', 'ьги', 'ьт', 'ьта', 'ьш', 'ьше', 'ьши', 'ью', 'ью ', 'ью,', 'э', 'э.', 'э.\\\\', 'эл', 'эле', 'ю', 'ю ', 'ю,', 'ю, ', 'ю:', 'ю: ', 'юр', 'юр ', 'юры', 'юс', 'юст', 'юу', 'юуч', 'я', 'я ', 'я\"', 'я\" ', 'я\"<', 'я:', 'я: ', 'яе', 'яет', 'яп', 'япа', 'ят', 'ято', 'ять', 'яц', 'яц ', 'яца', 'яце', '№', '№1', '№1 ', '№2', '№2 ', '№3', '№3 ']\n"
     ]
    }
   ],
   "source": [
    "from sklearn.feature_extraction.text import CountVectorizer\n",
    "\n",
    "from core.whose_cpp_code import get_filenames\n",
    "\n",
    "filenames, authors = get_filenames('/media/marina/hdd/diploma/data/c++/data/')\n",
    "\n",
    "vectorizer = CountVectorizer(input='filename', analyzer='char_wb', ngram_range=(1,3), min_df = 0)\n",
    "dtm = vectorizer.fit_transform(filenames).toarray()  # a sparse matrix\n",
    "vocab = vectorizer.get_feature_names()  # a list\n",
    "\n",
    "print(dtm)\n",
    "print(vocab)"
   ]
  },
  {
   "cell_type": "code",
   "execution_count": 56,
   "metadata": {},
   "outputs": [
    {
     "data": {
      "text/plain": [
       "9"
      ]
     },
     "execution_count": 56,
     "metadata": {},
     "output_type": "execute_result"
    }
   ],
   "source": [
    "def f(x):\n",
    "    return {\n",
    "        'a': 1,\n",
    "        'b': 2,\n",
    "    }.get(x, 9) # default if not defined\n",
    "\n",
    "f('c')"
   ]
  }
 ],
 "metadata": {
  "kernelspec": {
   "display_name": "Python 3.6 (whose_env)",
   "language": "python",
   "name": "whose_env"
  },
  "language_info": {
   "codemirror_mode": {
    "name": "ipython",
    "version": 3
   },
   "file_extension": ".py",
   "mimetype": "text/x-python",
   "name": "python",
   "nbconvert_exporter": "python",
   "pygments_lexer": "ipython3",
   "version": "3.6.0b2"
  }
 },
 "nbformat": 4,
 "nbformat_minor": 2
}
