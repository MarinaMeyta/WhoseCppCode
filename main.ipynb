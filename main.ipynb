{
 "cells": [
  {
   "cell_type": "markdown",
   "metadata": {},
   "source": [
    "# Hello there!"
   ]
  },
  {
   "cell_type": "code",
   "execution_count": 3,
   "metadata": {},
   "outputs": [
    {
     "data": {
      "text/plain": [
       "[0,\n",
       " 0,\n",
       " -2.665032816018519,\n",
       " -3.530030253505124,\n",
       " -2.9704144655697013,\n",
       " 0.15018315018315018,\n",
       " 15]"
      ]
     },
     "execution_count": 3,
     "metadata": {},
     "output_type": "execute_result"
    }
   ],
   "source": [
    "from core import lexical_features\n",
    "\n",
    "lexical_features.get_lexical_features('/media/marina/hdd/diploma/data/c++/data/1/1_1.cpp')"
   ]
  },
  {
   "cell_type": "code",
   "execution_count": 20,
   "metadata": {},
   "outputs": [
    {
     "name": "stderr",
     "output_type": "stream",
     "text": [
      "INFO Parsing source file \"/media/marina/hdd/diploma/data/c++/data/1/1_1.cpp\" ... \n",
      "INFO:pygccxml.cxx_parser:Parsing source file \"/media/marina/hdd/diploma/data/c++/data/1/1_1.cpp\" ... \n"
     ]
    },
    {
     "data": {
      "text/plain": [
       "[-5.60947179518496, 4.0, 0, 0, 1]"
      ]
     },
     "execution_count": 20,
     "metadata": {},
     "output_type": "execute_result"
    }
   ],
   "source": [
    "from core.syntactic_features import get_syntactic_features\n",
    "\n",
    "get_syntactic_features('/media/marina/hdd/diploma/data/c++/data/1/1_1.cpp')"
   ]
  },
  {
   "cell_type": "code",
   "execution_count": 8,
   "metadata": {},
   "outputs": [],
   "source": [
    "from core.cpp_keywords_TF import count_cppkeywords_tf\n",
    "\n",
    "count_cppkeywords_tf(['/media/marina/hdd/diploma/data/c++/data/1/1_1.cpp'])\n",
    "count_cppkeywords_tf.__doc__"
   ]
  }
 ],
 "metadata": {
  "kernelspec": {
   "display_name": "Python 3.6 (whose_env)",
   "language": "python",
   "name": "whose_env"
  },
  "language_info": {
   "codemirror_mode": {
    "name": "ipython",
    "version": 3
   },
   "file_extension": ".py",
   "mimetype": "text/x-python",
   "name": "python",
   "nbconvert_exporter": "python",
   "pygments_lexer": "ipython3",
   "version": "3.6.0b2"
  }
 },
 "nbformat": 4,
 "nbformat_minor": 2
}
