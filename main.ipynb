{
 "cells": [
  {
   "cell_type": "code",
   "execution_count": 3,
   "metadata": {},
   "outputs": [
    {
     "data": {
      "text/html": [
       "<script>\n",
       "code_show=true; \n",
       "function code_toggle() {\n",
       " if (code_show){\n",
       " $('div.input').hide();\n",
       " } else {\n",
       " $('div.input').show();\n",
       " }\n",
       " code_show = !code_show\n",
       "} \n",
       "$( document ).ready(code_toggle);\n",
       "</script>\n",
       "The raw code for this IPython notebook is by default hidden for easier reading.\n",
       "To toggle on/off the raw code, click <a href=\"javascript:code_toggle()\">here</a>."
      ],
      "text/plain": [
       "<IPython.core.display.HTML object>"
      ]
     },
     "execution_count": 3,
     "metadata": {},
     "output_type": "execute_result"
    }
   ],
   "source": [
    "from IPython.display import HTML\n",
    "\n",
    "HTML('''<script>\n",
    "code_show=true; \n",
    "function code_toggle() {\n",
    " if (code_show){\n",
    " $('div.input').hide();\n",
    " } else {\n",
    " $('div.input').show();\n",
    " }\n",
    " code_show = !code_show\n",
    "} \n",
    "$( document ).ready(code_toggle);\n",
    "</script>\n",
    "The raw code for this IPython notebook is by default hidden for easier reading.\n",
    "To toggle on/off the raw code, click <a href=\"javascript:code_toggle()\">here</a>.''')"
   ]
  },
  {
   "cell_type": "markdown",
   "metadata": {
    "heading_collapsed": true
   },
   "source": [
    "## Lexical features"
   ]
  },
  {
   "cell_type": "code",
   "execution_count": 3,
   "metadata": {
    "hidden": true
   },
   "outputs": [
    {
     "data": {
      "text/plain": [
       "[0,\n",
       " 0,\n",
       " -2.665032816018519,\n",
       " -3.530030253505124,\n",
       " -2.9704144655697013,\n",
       " 0.15018315018315018,\n",
       " 15]"
      ]
     },
     "execution_count": 3,
     "metadata": {},
     "output_type": "execute_result"
    }
   ],
   "source": [
    "from core import lexical_features\n",
    "\n",
    "lexical_features.get_lexical_features('/media/marina/hdd/diploma/data/c++/data/1/1_1.cpp')"
   ]
  },
  {
   "cell_type": "code",
   "execution_count": 24,
   "metadata": {
    "hidden": true
   },
   "outputs": [
    {
     "name": "stdout",
     "output_type": "stream",
     "text": [
      "The autoreload extension is already loaded. To reload it, use:\n",
      "  %reload_ext autoreload\n"
     ]
    }
   ],
   "source": [
    "%load_ext autoreload"
   ]
  },
  {
   "cell_type": "code",
   "execution_count": 31,
   "metadata": {
    "collapsed": true,
    "hidden": true
   },
   "outputs": [],
   "source": [
    "%reload_ext autoreload"
   ]
  },
  {
   "cell_type": "markdown",
   "metadata": {
    "heading_collapsed": true
   },
   "source": [
    "## Syntactic features"
   ]
  },
  {
   "cell_type": "code",
   "execution_count": 20,
   "metadata": {
    "hidden": true,
    "scrolled": true
   },
   "outputs": [
    {
     "name": "stderr",
     "output_type": "stream",
     "text": [
      "INFO Parsing source file \"/media/marina/hdd/diploma/data/c++/data/1/1_1.cpp\" ... \n",
      "INFO:pygccxml.cxx_parser:Parsing source file \"/media/marina/hdd/diploma/data/c++/data/1/1_1.cpp\" ... \n"
     ]
    },
    {
     "data": {
      "text/plain": [
       "[-5.60947179518496, 4.0, 0, 0, 1]"
      ]
     },
     "execution_count": 20,
     "metadata": {},
     "output_type": "execute_result"
    }
   ],
   "source": [
    "from core.syntactic_features import get_syntactic_features\n",
    "\n",
    "get_syntactic_features('/media/marina/hdd/diploma/data/c++/data/1/1_1.cpp')"
   ]
  },
  {
   "cell_type": "markdown",
   "metadata": {},
   "source": [
    "## Cpp keywords\n",
    "\n",
    "- **module**: cpp_keywords.py\n",
    "- **input**: filenames (numpy array)\n",
    "- **output**: keywords frequencies (numpy array)\n",
    "\n",
    "### Ключевые слова языка C/C++\n",
    "\n",
    "Могут быть найдены по ссылке в [официальной документации](http://ru.cppreference.com/w/cpp/keyword \"cppreference.com\")\n",
    "\n",
    "Частоты ключевых слов языка C/C++:\n",
    "\n",
    "| float | class | while | namespace | .. |\n",
    "-----| --- | -------| --- | --- | --- |\n",
    "file_1| 0.353 | 0.000 | 0.000 | 0.707 | ... |\n",
    "file_2| 0.401 | 0.213 | 0.000 | 0.708 | ... |\n",
    "... | ... | ... | ... | ... | ... |\n",
    "file_n | 0.303 | 0.000 | 0.678 | 0.807 | ... |\n"
   ]
  },
  {
   "cell_type": "code",
   "execution_count": 59,
   "metadata": {},
   "outputs": [
    {
     "name": "stdout",
     "output_type": "stream",
     "text": [
      "Returns numpy array of keywords frequencies in each file\n",
      "[     0\n",
      "0  0.0\n",
      "1  0.0\n",
      "2  0.0\n",
      "3  0.0\n",
      "4  0.0\n",
      "5  0.0\n",
      "6  0.0\n",
      "7  0.0\n",
      "8  0.0,       0\n",
      "9   0.0\n",
      "10  0.0\n",
      "11  0.0\n",
      "12  0.0\n",
      "13  0.0\n",
      "14  0.0\n",
      "15  0.0\n",
      "16  0.0\n",
      "17  0.0,       0\n",
      "18  0.0\n",
      "19  0.0\n",
      "20  0.0\n",
      "21  0.0\n",
      "22  0.0\n",
      "23  0.0\n",
      "24  0.0\n",
      "25  0.0\n",
      "26  0.0,            0\n",
      "27  0.000000\n",
      "28  0.000000\n",
      "29  0.000000\n",
      "30  0.000000\n",
      "31  0.000000\n",
      "32  0.000000\n",
      "33  0.353553\n",
      "34  0.000000\n",
      "35  0.000000,            0\n",
      "36  0.000000\n",
      "37  0.000000\n",
      "38  0.000000\n",
      "39  0.353553\n",
      "40  0.000000\n",
      "41  0.000000\n",
      "42  0.707107\n",
      "43  0.000000,       0\n",
      "44  0.0\n",
      "45  0.0\n",
      "46  0.0\n",
      "47  0.0\n",
      "48  0.0\n",
      "49  0.0\n",
      "50  0.0\n",
      "51  0.0,            0\n",
      "52  0.000000\n",
      "53  0.000000\n",
      "54  0.000000\n",
      "55  0.000000\n",
      "56  0.353553\n",
      "57  0.000000\n",
      "58  0.000000\n",
      "59  0.000000,       0\n",
      "60  0.0\n",
      "61  0.0\n",
      "62  0.0\n",
      "63  0.0\n",
      "64  0.0\n",
      "65  0.0\n",
      "66  0.0\n",
      "67  0.0,       0\n",
      "68  0.0\n",
      "69  0.0\n",
      "70  0.0\n",
      "71  0.0\n",
      "72  0.0\n",
      "73  0.0\n",
      "74  0.0\n",
      "75  0.0,            0\n",
      "76  0.353553\n",
      "77  0.000000\n",
      "78  0.000000\n",
      "79  0.000000\n",
      "80  0.000000\n",
      "81  0.000000\n",
      "82  0.000000\n",
      "83  0.000000]\n",
      "[     0\n",
      "0  0.0\n",
      "1  0.0\n",
      "2  0.0\n",
      "3  0.0\n",
      "4  0.0\n",
      "5  0.0\n",
      "6  0.0\n",
      "7  0.0\n",
      "8  0.0,       0\n",
      "9   0.0\n",
      "10  0.0\n",
      "11  0.0\n",
      "12  0.0\n",
      "13  0.0\n",
      "14  0.0\n",
      "15  0.0\n",
      "16  0.0\n",
      "17  0.0,       0\n",
      "18  0.0\n",
      "19  0.0\n",
      "20  0.0\n",
      "21  0.0\n",
      "22  0.0\n",
      "23  0.0\n",
      "24  0.0\n",
      "25  0.0\n",
      "26  0.0,            0\n",
      "27  0.000000\n",
      "28  0.000000\n",
      "29  0.000000\n",
      "30  0.000000\n",
      "31  0.000000\n",
      "32  0.000000\n",
      "33  0.353553\n",
      "34  0.000000\n",
      "35  0.000000,            0\n",
      "36  0.000000\n",
      "37  0.000000\n",
      "38  0.000000\n",
      "39  0.353553\n",
      "40  0.000000\n",
      "41  0.000000\n",
      "42  0.707107\n",
      "43  0.000000,       0\n",
      "44  0.0\n",
      "45  0.0\n",
      "46  0.0\n",
      "47  0.0\n",
      "48  0.0\n",
      "49  0.0\n",
      "50  0.0\n",
      "51  0.0,            0\n",
      "52  0.000000\n",
      "53  0.000000\n",
      "54  0.000000\n",
      "55  0.000000\n",
      "56  0.353553\n",
      "57  0.000000\n",
      "58  0.000000\n",
      "59  0.000000,       0\n",
      "60  0.0\n",
      "61  0.0\n",
      "62  0.0\n",
      "63  0.0\n",
      "64  0.0\n",
      "65  0.0\n",
      "66  0.0\n",
      "67  0.0,       0\n",
      "68  0.0\n",
      "69  0.0\n",
      "70  0.0\n",
      "71  0.0\n",
      "72  0.0\n",
      "73  0.0\n",
      "74  0.0\n",
      "75  0.0,            0\n",
      "76  0.353553\n",
      "77  0.000000\n",
      "78  0.000000\n",
      "79  0.000000\n",
      "80  0.000000\n",
      "81  0.000000\n",
      "82  0.000000\n",
      "83  0.000000]\n"
     ]
    },
    {
     "data": {
      "text/plain": [
       "[None, None]"
      ]
     },
     "execution_count": 59,
     "metadata": {},
     "output_type": "execute_result"
    }
   ],
   "source": [
    "%autoreload\n",
    "\n",
    "from core.cpp_keywords import count_cppkeywords_tf\n",
    "import pandas as pd\n",
    "import numpy as np\n",
    "\n",
    "\n",
    "cpp_keywords_tf = count_cppkeywords_tf(['/media/marina/hdd/diploma/data/c++/data/1/1_1.cpp','/media/marina/hdd/diploma/data/c++/data/1/1_2.cpp'])\n",
    "print(count_cppkeywords_tf.__doc__)\n",
    "\n",
    "# table = pd.pivot_table(cpp_keywords_tf)\n",
    "[print(np.array_split(pd.DataFrame(file), 10)) for file in cpp_keywords_tf]\n",
    "\n",
    "\n",
    "# import tabletext\n",
    "\n",
    "# tabletext.to_text(cpp_keywords_tf)\n",
    "\n",
    "# def remove_zeros(the_list):\n",
    "#    return [value for value in the_list if value != 0]\n",
    "\n",
    "# x = [1, 2, 3, 4, 2, 2, 3]\n",
    "# x = remove_zeros(x, 2)\n",
    "# print(x)"
   ]
  },
  {
   "cell_type": "markdown",
   "metadata": {},
   "source": [
    "### widgets"
   ]
  },
  {
   "cell_type": "code",
   "execution_count": 6,
   "metadata": {},
   "outputs": [
    {
     "data": {
      "application/vnd.jupyter.widget-view+json": {
       "model_id": "6bd5a0287e85491fa63a293d55ae2f58"
      }
     },
     "metadata": {},
     "output_type": "display_data"
    },
    {
     "data": {
      "application/vnd.jupyter.widget-view+json": {
       "model_id": "cdc06a6f598c40c69da963753e9795d0"
      }
     },
     "metadata": {},
     "output_type": "display_data"
    },
    {
     "data": {
      "application/vnd.jupyter.widget-view+json": {
       "model_id": "9f776b3256fa4dd3ab1f25faacf329ed"
      }
     },
     "metadata": {},
     "output_type": "display_data"
    }
   ],
   "source": [
    "from ipywidgets import interact\n",
    "\n",
    "def f(x):\n",
    "    return x\n",
    "\n",
    "interact(f, x=10);\n",
    "\n",
    "interact(f, x=True);\n",
    "\n",
    "\n",
    "@interact(x=True, y=1.0)\n",
    "def g(x, y):\n",
    "    return (x, y)"
   ]
  },
  {
   "cell_type": "code",
   "execution_count": 25,
   "metadata": {},
   "outputs": [
    {
     "name": "stdout",
     "output_type": "stream",
     "text": [
      "The autoreload extension is already loaded. To reload it, use:\n",
      "  %reload_ext autoreload\n"
     ]
    },
    {
     "data": {
      "application/vnd.jupyter.widget-view+json": {
       "model_id": "815be565084a4c7ebdc3781a6d3d9af1"
      }
     },
     "metadata": {},
     "output_type": "display_data"
    },
    {
     "data": {
      "application/vnd.jupyter.widget-view+json": {
       "model_id": "db7011b180f2487d8ad034339a367f00"
      }
     },
     "metadata": {},
     "output_type": "display_data"
    },
    {
     "name": "stdout",
     "output_type": "stream",
     "text": [
      "             precision    recall  f1-score   support\n",
      "\n",
      "          1       0.33      0.25      0.29         4\n",
      "          2       0.50      0.33      0.40         3\n",
      "          3       0.50      0.75      0.60         4\n",
      "\n",
      "avg / total       0.44      0.45      0.43        11\n",
      "\n",
      "45.45\n",
      "0.62\n"
     ]
    }
   ],
   "source": [
    "%load_ext autoreload\n",
    "%autoreload\n",
    "\n",
    "from ipywidgets import Text, IntSlider, Box, Layout, Label, Dropdown, Textarea, Button\n",
    "from IPython.display import display\n",
    "\n",
    "from core.whose_cpp_code import classify_authors, get_filenames, get_sample_matrix\n",
    "\n",
    "def click(b):\n",
    "    report = classify_authors(data.value, loops.value)\n",
    "    print(report['classification_report'])\n",
    "    print(report['accuracy'])\n",
    "    print(report['run_time'])\n",
    "#     \n",
    "#     filenames, authors = get_filenames(data.value)\n",
    "#     matrix = get_sample_matrix(filenames)\n",
    "#     print(matrix)\n",
    "    \n",
    "\n",
    "form_item_layout = Layout(\n",
    "    display='flex',\n",
    "    flex_flow='row',\n",
    "    justify_content='space-between'\n",
    ")\n",
    "\n",
    "loops = IntSlider(min=0, max=10)\n",
    "data = Dropdown(options={'students':'/media/marina/hdd/diploma/data/c++/data/', \n",
    "                           'GoogleCodeJam':'/media/marina/hdd/diploma/data/c++/data3/', \n",
    "                           'GitHub':'/media/marina/hdd/diploma/data/c++/github_data/'})\n",
    "classifier =  Dropdown(options=['RandomForest', 'GradientBoosting'])\n",
    "username = Text()\n",
    "password = Text()\n",
    "\n",
    "form_items = [\n",
    "    Box([Label(value='Loops:'), loops], layout=form_item_layout),\n",
    "    Box([Label(value='Data:'),\n",
    "         data], \n",
    "        layout=form_item_layout),\n",
    "    Box([Label(value='Classifier:'), classifier], layout=form_item_layout),\n",
    "#     Box([Label(value='Username:'), username], layout=form_item_layout),\n",
    "#     Box([Label(value='Password:'), password], layout=form_item_layout),\n",
    "]\n",
    "\n",
    "form = Box(form_items, layout=Layout(\n",
    "    display='flex',\n",
    "    flex_flow='column',\n",
    "#     border='solid 1px',\n",
    "    align_items='stretch',\n",
    "    width='50%'\n",
    "))\n",
    "\n",
    "classify_button = Button(description='Classify', tooltip='Click me', icon='check', button_style='success')\n",
    "classify_button.on_click(click)\n",
    "# \n",
    "display(form, classify_button)\n",
    "# Text(value='Username')\n",
    "\n"
   ]
  },
  {
   "cell_type": "code",
   "execution_count": 14,
   "metadata": {},
   "outputs": [
    {
     "data": {
      "application/vnd.jupyter.widget-view+json": {
       "model_id": "1627a4effcca4df98c858b1de0bf4f9c"
      }
     },
     "metadata": {},
     "output_type": "display_data"
    }
   ],
   "source": [
    "IntSlider(value=5, min=0, max=10, description='Loops:')"
   ]
  },
  {
   "cell_type": "code",
   "execution_count": 11,
   "metadata": {},
   "outputs": [
    {
     "ename": "ModuleNotFoundError",
     "evalue": "No module named 'tqdm'",
     "output_type": "error",
     "traceback": [
      "\u001b[0;31m---------------------------------------------------------------------------\u001b[0m",
      "\u001b[0;31mModuleNotFoundError\u001b[0m                       Traceback (most recent call last)",
      "\u001b[0;32m<ipython-input-11-b8e397ce03c8>\u001b[0m in \u001b[0;36m<module>\u001b[0;34m()\u001b[0m\n\u001b[0;32m----> 1\u001b[0;31m \u001b[0;32mimport\u001b[0m \u001b[0mtqdm\u001b[0m\u001b[0;34m\u001b[0m\u001b[0m\n\u001b[0m",
      "\u001b[0;31mModuleNotFoundError\u001b[0m: No module named 'tqdm'"
     ]
    }
   ],
   "source": [
    "import tqdm"
   ]
  }
 ],
 "metadata": {
  "kernelspec": {
   "display_name": "Python 3.6 (whose_env)",
   "language": "python",
   "name": "whose_env"
  },
  "language_info": {
   "codemirror_mode": {
    "name": "ipython",
    "version": 3
   },
   "file_extension": ".py",
   "mimetype": "text/x-python",
   "name": "python",
   "nbconvert_exporter": "python",
   "pygments_lexer": "ipython3",
   "version": "3.6.0b2"
  }
 },
 "nbformat": 4,
 "nbformat_minor": 2
}
