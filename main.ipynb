{
 "cells": [
  {
   "cell_type": "code",
   "execution_count": 2,
   "metadata": {
    "scrolled": true
   },
   "outputs": [
    {
     "data": {
      "text/html": [
       "<script>\n",
       "code_show=true; \n",
       "function code_toggle() {\n",
       " if (code_show){\n",
       " $('div.input').hide();\n",
       " } else {\n",
       " $('div.input').show();\n",
       " }\n",
       " code_show = !code_show\n",
       "} \n",
       "$( document ).ready(code_toggle);\n",
       "</script>\n",
       "<a href=\"javascript:code_toggle()\">Show/hide code</a>"
      ],
      "text/plain": [
       "<IPython.core.display.HTML object>"
      ]
     },
     "execution_count": 2,
     "metadata": {},
     "output_type": "execute_result"
    }
   ],
   "source": [
    "from IPython.display import HTML\n",
    "\n",
    "HTML('''<script>\n",
    "code_show=true; \n",
    "function code_toggle() {\n",
    " if (code_show){\n",
    " $('div.input').hide();\n",
    " } else {\n",
    " $('div.input').show();\n",
    " }\n",
    " code_show = !code_show\n",
    "} \n",
    "$( document ).ready(code_toggle);\n",
    "</script>\n",
    "<a href=\"javascript:code_toggle()\">Show/hide code</a>''')"
   ]
  },
  {
   "cell_type": "markdown",
   "metadata": {},
   "source": [
    "### main functions"
   ]
  },
  {
   "cell_type": "code",
   "execution_count": 3,
   "metadata": {
    "collapsed": true
   },
   "outputs": [],
   "source": [
    "%load_ext autoreload\n",
    "# %reload_ext autoreload\n",
    "%autoreload\n",
    "\n",
    "from ipywidgets import IntSlider, Box, Layout, Label, Dropdown, Button\n",
    "from IPython.display import display, HTML, clear_output\n",
    "from core.whose_cpp_code import classify_authors\n",
    "from numpy import mean, std\n",
    "import pandas as pd\n",
    "import matplotlib.pyplot as plt\n",
    "import warnings\n",
    "\n",
    "warnings.filterwarnings(\"ignore\")   \n",
    "\n",
    "\n",
    "def get_confidence(array):\n",
    "    alpha = 0.95\n",
    "    m = mean(array)  # general average\n",
    "    sigma = std(array)  # standard deviation \n",
    "\n",
    "    # confidence interval\n",
    "    print('mean accuracy: ', m)\n",
    "    print('standart deviation: ', sigma)\n",
    "    print('confidence interval: (', m - alpha * sigma, ';', m + alpha * sigma, ')')\n",
    "\n",
    "\n",
    "form_layout = Layout(\n",
    "    display='flex',\n",
    "    flex_flow='column',\n",
    "    align_items='stretch',\n",
    "    width='50%'\n",
    ")\n",
    "\n",
    "form_item_layout = Layout(\n",
    "    display='flex',\n",
    "    flex_flow='row',\n",
    "    justify_content='space-between'\n",
    ")\n",
    "\n",
    "\n",
    "# loops = IntSlider(min=1, max=10)\n",
    "data = Dropdown(options={'students' : '/media/marina/hdd/diploma/whose_cpp_code/matricies/students/', \n",
    "                           'GoogleCodeJam' : '/media/marina/hdd/diploma/whose_cpp_code/matricies/GoogleCodeJam/', \n",
    "                           'GitHub' : '/media/marina/hdd/diploma/whose_cpp_code/matricies/GitHub_short/'})\n",
    "classifier =  Dropdown(options={'RandomForest' : 'RandomForestClassifier', \n",
    "                                'ExtraTrees' : 'ExtraTreesClassifier',\n",
    "                                'AdaBoost' : 'AdaBoostClassifier'})"
   ]
  },
  {
   "cell_type": "code",
   "execution_count": 4,
   "metadata": {
    "scrolled": false
   },
   "outputs": [
    {
     "name": "stdout",
     "output_type": "stream",
     "text": [
      "The autoreload extension is already loaded. To reload it, use:\n",
      "  %reload_ext autoreload\n"
     ]
    },
    {
     "data": {
      "text/html": [
       "<script>requirejs.config({paths: { 'plotly': ['https://cdn.plot.ly/plotly-latest.min']},});if(!window.Plotly) {{require(['plotly'],function(plotly) {window.Plotly=plotly;});}}</script>"
      ],
      "text/vnd.plotly.v1+html": [
       "<script>requirejs.config({paths: { 'plotly': ['https://cdn.plot.ly/plotly-latest.min']},});if(!window.Plotly) {{require(['plotly'],function(plotly) {window.Plotly=plotly;});}}</script>"
      ]
     },
     "metadata": {},
     "output_type": "display_data"
    }
   ],
   "source": [
    "%load_ext autoreload\n",
    "# %reload_ext autoreload\n",
    "%autoreload\n",
    "\n",
    "from plotly import __version__\n",
    "from plotly.offline import download_plotlyjs, init_notebook_mode, plot, iplot\n",
    "import plotly.graph_objs as go\n",
    "\n",
    "init_notebook_mode(connected=True)\n",
    "\n",
    "def make_metrics_bar(metrics, loops_num):\n",
    "    \n",
    "    trace0 = go.Bar(\n",
    "        x=list(range(1, loops_num+1)),\n",
    "        y=metrics['f1_score'],\n",
    "        name='F1-score',\n",
    "        marker=dict(\n",
    "            color='rgb(136, 142, 150)'\n",
    "        )\n",
    "    )\n",
    "    trace1 = go.Bar(\n",
    "        x=list(range(1, loops_num+1)),\n",
    "        y=metrics['precision'],\n",
    "        name='Precision',\n",
    "        marker=dict(\n",
    "            color='rgb(204,204,204)',\n",
    "        )\n",
    "    )\n",
    "    trace2 = go.Bar(\n",
    "        x=list(range(1, loops_num+1)),\n",
    "        y=metrics['recall'],\n",
    "        name='Recall',\n",
    "        marker=dict(\n",
    "            color='rgb(144, 177, 229)',\n",
    "        )\n",
    "    )\n",
    "    trace3 = go.Bar(\n",
    "        x=list(range(1, loops_num+1)),\n",
    "        y=metrics['accuracy'],\n",
    "        name='Accuracy',\n",
    "        marker=dict(\n",
    "            color='rgb(49,130,189)',\n",
    "        )\n",
    "    )\n",
    "\n",
    "    data = [trace0, trace1, trace2, trace3]\n",
    "    layout = go.Layout(\n",
    "        xaxis=dict(\n",
    "            tickangle=-45,\n",
    "            title='Number of experiment',\n",
    "            titlefont=dict(\n",
    "                size=16,\n",
    "                color='rgb(107, 107, 107)'\n",
    "            ),\n",
    "            tickfont=dict(\n",
    "                size=14,\n",
    "                color='rgb(107, 107, 107)'\n",
    "            )\n",
    "        ),\n",
    "        yaxis=dict(\n",
    "            title='Value, %',\n",
    "            titlefont=dict(\n",
    "                size=16,\n",
    "                color='rgb(107, 107, 107)'\n",
    "            ),\n",
    "            tickfont=dict(\n",
    "                size=14,\n",
    "                color='rgb(107, 107, 107)'\n",
    "            )\n",
    "        ),\n",
    "        barmode='group',\n",
    "        title='Classification metrics',\n",
    "    )\n",
    "\n",
    "    fig = go.Figure(data=data, layout=layout)\n",
    "    iplot(fig, filename='metrics-bar')\n",
    "    \n",
    "\n",
    "def make_pie(mean_accuracy):\n",
    "    fig = {\n",
    "      \"data\": [\n",
    "        {\n",
    "          \"values\": [1-mean_accuracy, mean_accuracy],\n",
    "          \"labels\": ['Wrong predicted samples, %', 'True predictes samples, %'],\n",
    "          \"type\": \"pie\",\n",
    "          \"text\": \"Accuracy\",\n",
    "          \"textposition\":\"inside\",\n",
    "          \"hole\": .4,\n",
    "    #       \"domain\": {\"x\": [.52, 1]},\n",
    "        }],\n",
    "      \"layout\": {\n",
    "            \"title\": 'Total mean accuracy',\n",
    "\n",
    "            \"annotations\": [\n",
    "                {\n",
    "                    \"font\": {\n",
    "                        \"size\": 20\n",
    "                    },\n",
    "                    \"showarrow\": False,\n",
    "                    \"text\": \"Accuracy\",\n",
    "                }\n",
    "            ]\n",
    "        }\n",
    "    }\n",
    "    iplot(fig)"
   ]
  },
  {
   "cell_type": "code",
   "execution_count": 5,
   "metadata": {
    "collapsed": true
   },
   "outputs": [],
   "source": [
    "# %load_ext autoreload\n",
    "%reload_ext autoreload\n",
    "%autoreload\n",
    "\n",
    "import numpy as np\n",
    "import time\n",
    "\n",
    "loops = IntSlider(min=1, max=10)\n",
    "\n",
    "form_items = [\n",
    "    Box([Label(value='Loops:'), loops], layout=form_item_layout),\n",
    "    Box([Label(value='Data:'), data], layout=form_item_layout),\n",
    "    Box([Label(value='Classifier:'), classifier], layout=form_item_layout),\n",
    "]\n",
    "\n",
    "\n",
    "def classify_mul(b):\n",
    "    clear_output()\n",
    "    accuracy, precision, recall, f1_score = [],[],[],[]\n",
    "    start_time = time.time()\n",
    "    for loop in range(loops.value):\n",
    "        print('Loop ', loop + 1, ': Please, wait...')\n",
    "        report = classify_authors(data.value, classifier.value)\n",
    "        df = pd.DataFrame(report)\n",
    "        accuracy.append(mean(df['accuracy'].tolist()))\n",
    "        precision.append(mean(df['precision'].tolist()))\n",
    "        recall.append(mean(df['recall'].tolist()))\n",
    "        f1_score.append(mean(df['f1_score'].tolist()))\n",
    "\n",
    "    run_time = round(time.time() - start_time, 2)\n",
    "    print('Run time in sec: ', run_time)\n",
    "    \n",
    "    metrics = {'f1_score' : f1_score, \n",
    "               'precision' : precision, \n",
    "               'recall': recall,\n",
    "               'accuracy' : accuracy\n",
    "              }\n",
    "    make_metrics_bar(metrics, loops.value)\n",
    "\n",
    "    mean_accuracy = mean(accuracy)\n",
    "    make_pie(mean_accuracy)\n",
    "    \n",
    "    # saving results to csv\n",
    "    metrics.update({'classifier' : classifier.value})\n",
    "    result_df = pd.DataFrame(metrics)\n",
    "    result_df.to_csv('./results/results.csv', mode='w')\n",
    "\n",
    "   \n",
    "\n",
    "form = Box(form_items, layout=form_layout)\n",
    "classify_mul_btn = Button(description='Classify', tooltip='Click me', icon='check', button_style='success')\n",
    "classify_mul_btn.on_click(classify_mul)"
   ]
  },
  {
   "cell_type": "markdown",
   "metadata": {},
   "source": [
    "## Main Classification Module\n",
    "\n",
    "Main form for classifying source code authors.\n",
    "\n",
    "Input:\n",
    "* Loops --- number of experiments\n",
    "* Data --- type of data to classify (students, Google Code Jam 2016 participants or GitHub users)\n",
    "* Classifier --- choose classification algorithm"
   ]
  },
  {
   "cell_type": "code",
   "execution_count": 6,
   "metadata": {
    "scrolled": false
   },
   "outputs": [
    {
     "data": {
      "application/vnd.jupyter.widget-view+json": {
       "model_id": "d43fd0abd3f54f889ed6534b267c7c1e"
      }
     },
     "metadata": {},
     "output_type": "display_data"
    },
    {
     "data": {
      "application/vnd.jupyter.widget-view+json": {
       "model_id": "a6d3878ed8ac4ad9aecb79f07c53121c"
      }
     },
     "metadata": {},
     "output_type": "display_data"
    }
   ],
   "source": [
    "display(form, classify_mul_btn)"
   ]
  }
 ],
 "metadata": {
  "kernelspec": {
   "display_name": "Python 3.6 (whose_env)",
   "language": "python",
   "name": "whose_env"
  },
  "language_info": {
   "codemirror_mode": {
    "name": "ipython",
    "version": 3
   },
   "file_extension": ".py",
   "mimetype": "text/x-python",
   "name": "python",
   "nbconvert_exporter": "python",
   "pygments_lexer": "ipython3",
   "version": "3.6.0b2"
  }
 },
 "nbformat": 4,
 "nbformat_minor": 2
}
