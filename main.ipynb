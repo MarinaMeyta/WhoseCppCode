{
 "cells": [
  {
   "cell_type": "code",
   "execution_count": 1,
   "metadata": {
    "scrolled": true
   },
   "outputs": [
    {
     "data": {
      "text/html": [
       "<script>\n",
       "code_show=true; \n",
       "function code_toggle() {\n",
       " if (code_show){\n",
       " $('div.input').hide();\n",
       " } else {\n",
       " $('div.input').show();\n",
       " }\n",
       " code_show = !code_show\n",
       "} \n",
       "$( document ).ready(code_toggle);\n",
       "</script>\n",
       "The raw code for this IPython notebook is by default hidden for easier reading.\n",
       "To toggle on/off the raw code, click <a href=\"javascript:code_toggle()\">here</a>."
      ],
      "text/plain": [
       "<IPython.core.display.HTML object>"
      ]
     },
     "execution_count": 1,
     "metadata": {},
     "output_type": "execute_result"
    }
   ],
   "source": [
    "from IPython.display import HTML\n",
    "\n",
    "HTML('''<script>\n",
    "code_show=true; \n",
    "function code_toggle() {\n",
    " if (code_show){\n",
    " $('div.input').hide();\n",
    " } else {\n",
    " $('div.input').show();\n",
    " }\n",
    " code_show = !code_show\n",
    "} \n",
    "$( document ).ready(code_toggle);\n",
    "</script>\n",
    "The raw code for this IPython notebook is by default hidden for easier reading.\n",
    "To toggle on/off the raw code, click <a href=\"javascript:code_toggle()\">here</a>.''')"
   ]
  },
  {
   "cell_type": "markdown",
   "metadata": {},
   "source": [
    "# GitHub scrapping\n",
    "\n",
    "Form for scrapping GitHub data"
   ]
  },
  {
   "cell_type": "code",
   "execution_count": 2,
   "metadata": {},
   "outputs": [
    {
     "data": {
      "application/vnd.jupyter.widget-view+json": {
       "model_id": "14c7646324de4ce8af825b6e49abb33a"
      }
     },
     "metadata": {},
     "output_type": "display_data"
    },
    {
     "data": {
      "application/vnd.jupyter.widget-view+json": {
       "model_id": "c0d569f09ac544f29ddc08d3a2251414"
      }
     },
     "metadata": {},
     "output_type": "display_data"
    }
   ],
   "source": [
    "# %load_ext autoreload\n",
    "%reload_ext autoreload\n",
    "%autoreload\n",
    "\n",
    "\n",
    "from ipywidgets import Text, IntSlider, Box, Layout, Label, Dropdown, Textarea, Button\n",
    "from IPython.display import display, HTML, clear_output\n",
    "\n",
    "from core.github_scrapper import scrap\n",
    "\n",
    "userlist = ['paroj', 'asmorkalov', 'edgarriba', 'mariarti91', 'GoodRon', \n",
    "            'Mooophy', 'pezy', 'Soyn', 'sipa', 'gavinandresen',\n",
    "            'theuni', 'luke-jr', 'ddunbar', 'redboltz', 'frsyuki',\n",
    "            'tanakh', 'danmar', 'orbitcowboy', 'XhmikosR', 'zblair',\n",
    "            'ghewgill', 'singku', 'eriklax', 'HeisSpiter', 'JIghtuse',\n",
    "            'rpavlik', 'gavofyork', 'chfast', 'debris', 'lballabio']\n",
    "\n",
    "form_layout = Layout(\n",
    "    display='flex',\n",
    "    flex_flow='column',\n",
    "    align_items='stretch',\n",
    "    width='50%'\n",
    ")\n",
    "\n",
    "form_item_layout = Layout(\n",
    "    display='flex',\n",
    "    flex_flow='row',\n",
    "    justify_content='space-between'\n",
    ")\n",
    "\n",
    "\n",
    "username = Text()\n",
    "password = Text()\n",
    "\n",
    "\n",
    "# Text(value='Username')\n",
    "\n",
    "\n",
    "scrap_form_items = [\n",
    "    Box([Label(value='Username:'), username], layout=form_item_layout),\n",
    "    Box([Label(value='Password:'), password], layout=form_item_layout),\n",
    "\n",
    "]\n",
    "\n",
    "def scrap_github(b):\n",
    "    clear_output()\n",
    "    if username.value and password.value:\n",
    "        print('Getting files, please, wait...')\n",
    "        scrap(userlist, username.value, password.value)\n",
    "        print('Done')\n",
    "    else:\n",
    "        print('Please, enter data')\n",
    "\n",
    "scrap_form = Box(scrap_form_items, layout=form_layout)\n",
    "\n",
    "scrap_button = Button(description='Scrap GitHub', tooltip='Click me', icon='check', button_style='success')\n",
    "scrap_button.on_click(scrap_github)\n",
    "\n",
    "display(scrap_form, scrap_button)"
   ]
  },
  {
   "cell_type": "markdown",
   "metadata": {},
   "source": [
    "## Lexical features"
   ]
  },
  {
   "cell_type": "code",
   "execution_count": 3,
   "metadata": {
    "collapsed": true
   },
   "outputs": [],
   "source": [
    "## Syntactic features"
   ]
  },
  {
   "cell_type": "markdown",
   "metadata": {},
   "source": [
    "## Cpp keywords\n",
    "\n",
    "- **module**: cpp_keywords.py\n",
    "- **input**: filenames (numpy array)\n",
    "- **output**: keywords frequencies (numpy array)\n",
    "\n",
    "### Ключевые слова языка C/C++\n",
    "\n",
    "Могут быть найдены по ссылке в [официальной документации](http://ru.cppreference.com/w/cpp/keyword \"cppreference.com\")\n",
    "\n",
    "Частоты ключевых слов языка C/C++:\n",
    "\n",
    "| float | class | while | namespace | .. |\n",
    "-----| --- | -------| --- | --- | --- |\n",
    "file_1| 0.353 | 0.000 | 0.000 | 0.707 | ... |\n",
    "file_2| 0.401 | 0.213 | 0.000 | 0.708 | ... |\n",
    "... | ... | ... | ... | ... | ... |\n",
    "file_n | 0.303 | 0.000 | 0.678 | 0.807 | ... |\n"
   ]
  },
  {
   "cell_type": "markdown",
   "metadata": {
    "heading_collapsed": true
   },
   "source": [
    "### widgets"
   ]
  },
  {
   "cell_type": "code",
   "execution_count": 4,
   "metadata": {
    "hidden": true
   },
   "outputs": [
    {
     "data": {
      "application/vnd.jupyter.widget-view+json": {
       "model_id": "1fa173bb7d2d4a2abf045ac6ea110c2a"
      }
     },
     "metadata": {},
     "output_type": "display_data"
    },
    {
     "data": {
      "application/vnd.jupyter.widget-view+json": {
       "model_id": "2a8b480057974616bf346a61c51932df"
      }
     },
     "metadata": {},
     "output_type": "display_data"
    },
    {
     "data": {
      "application/vnd.jupyter.widget-view+json": {
       "model_id": "bcd64cdf49ab49c08b3196cdfd3b2c49"
      }
     },
     "metadata": {},
     "output_type": "display_data"
    }
   ],
   "source": [
    "from ipywidgets import interact\n",
    "\n",
    "def f(x):\n",
    "    return x\n",
    "\n",
    "interact(f, x=10);\n",
    "\n",
    "interact(f, x=True);\n",
    "\n",
    "\n",
    "@interact(x=True, y=1.0)\n",
    "def g(x, y):\n",
    "    return (x, y)"
   ]
  },
  {
   "cell_type": "markdown",
   "metadata": {},
   "source": [
    "### main functions"
   ]
  },
  {
   "cell_type": "code",
   "execution_count": 5,
   "metadata": {
    "collapsed": true
   },
   "outputs": [],
   "source": [
    "# %load_ext autoreload\n",
    "%reload_ext autoreload\n",
    "%autoreload\n",
    "\n",
    "from ipywidgets import IntSlider, Box, Layout, Label, Dropdown, Button\n",
    "from IPython.display import display, HTML, clear_output\n",
    "from core.whose_cpp_code import classify_authors\n",
    "from numpy import mean, std\n",
    "import pandas as pd\n",
    "import matplotlib.pyplot as plt\n",
    "import warnings\n",
    "\n",
    "warnings.filterwarnings(\"ignore\")   \n",
    "\n",
    "\n",
    "def get_confidence(array):\n",
    "    alpha = 0.95\n",
    "    m = mean(array)  # general average\n",
    "    sigma = std(array)  # standard deviation \n",
    "\n",
    "    # confidence interval\n",
    "    print('mean accuracy: ', m)\n",
    "    print('standart deviation: ', sigma)\n",
    "    print('confidence interval: (', m - alpha * sigma, ';', m + alpha * sigma, ')')\n",
    "\n",
    "\n",
    "form_layout = Layout(\n",
    "    display='flex',\n",
    "    flex_flow='column',\n",
    "    align_items='stretch',\n",
    "    width='50%'\n",
    ")\n",
    "\n",
    "form_item_layout = Layout(\n",
    "    display='flex',\n",
    "    flex_flow='row',\n",
    "    justify_content='space-between'\n",
    ")\n",
    "\n",
    "\n",
    "# loops = IntSlider(min=1, max=10)\n",
    "data = Dropdown(options={'students' : '/media/marina/hdd/diploma/data/c++/data/', \n",
    "                           'GoogleCodeJam' : '/media/marina/hdd/diploma/data/c++/data3/', \n",
    "                           'GitHub' : './data'})\n",
    "classifier =  Dropdown(options={'RandomForest' : 'RandomForestClassifier', \n",
    "                                'GradientBoosting' : 'GradientBoostingClassifier',\n",
    "                                'ExtraTrees' : 'ExtraTreesClassifier',\n",
    "                                'AdaBoost' : 'AdaBoostClassifier'})"
   ]
  },
  {
   "cell_type": "code",
   "execution_count": 6,
   "metadata": {
    "scrolled": false
   },
   "outputs": [
    {
     "data": {
      "text/html": [
       "<script>requirejs.config({paths: { 'plotly': ['https://cdn.plot.ly/plotly-latest.min']},});if(!window.Plotly) {{require(['plotly'],function(plotly) {window.Plotly=plotly;});}}</script>"
      ],
      "text/vnd.plotly.v1+html": [
       "<script>requirejs.config({paths: { 'plotly': ['https://cdn.plot.ly/plotly-latest.min']},});if(!window.Plotly) {{require(['plotly'],function(plotly) {window.Plotly=plotly;});}}</script>"
      ]
     },
     "metadata": {},
     "output_type": "display_data"
    }
   ],
   "source": [
    "from plotly import __version__\n",
    "from plotly.offline import download_plotlyjs, init_notebook_mode, plot, iplot\n",
    "import plotly.graph_objs as go\n",
    "\n",
    "init_notebook_mode(connected=True)\n",
    "\n",
    "def make_metrics_bar(metrics, loops_num):\n",
    "    \n",
    "    trace0 = go.Bar(\n",
    "        x=list(range(1, loops_num+1)),\n",
    "        y=metrics['f1_score'],\n",
    "        name='F1-score',\n",
    "        marker=dict(\n",
    "            color='rgb(136, 142, 150)'\n",
    "        )\n",
    "    )\n",
    "    trace1 = go.Bar(\n",
    "        x=list(range(1, loops_num+1)),\n",
    "        y=metrics['precision'],\n",
    "        name='Precision',\n",
    "        marker=dict(\n",
    "            color='rgb(204,204,204)',\n",
    "        )\n",
    "    )\n",
    "    trace2 = go.Bar(\n",
    "        x=list(range(1, loops_num+1)),\n",
    "        y=metrics['recall'],\n",
    "        name='Recall',\n",
    "        marker=dict(\n",
    "            color='rgb(144, 177, 229)',\n",
    "        )\n",
    "    )\n",
    "    trace3 = go.Bar(\n",
    "        x=list(range(1, loops_num+1)),\n",
    "        y=metrics['accuracy'],\n",
    "        name='Accuracy',\n",
    "        marker=dict(\n",
    "            color='rgb(49,130,189)',\n",
    "        )\n",
    "    )\n",
    "\n",
    "    data = [trace0, trace1, trace2, trace3]\n",
    "    layout = go.Layout(\n",
    "        xaxis=dict(\n",
    "            tickangle=-45,\n",
    "            title='Number of experiment',\n",
    "            titlefont=dict(\n",
    "                size=16,\n",
    "                color='rgb(107, 107, 107)'\n",
    "            ),\n",
    "            tickfont=dict(\n",
    "                size=14,\n",
    "                color='rgb(107, 107, 107)'\n",
    "            )\n",
    "        ),\n",
    "        yaxis=dict(\n",
    "            title='Value, %',\n",
    "            titlefont=dict(\n",
    "                size=16,\n",
    "                color='rgb(107, 107, 107)'\n",
    "            ),\n",
    "            tickfont=dict(\n",
    "                size=14,\n",
    "                color='rgb(107, 107, 107)'\n",
    "            )\n",
    "        ),\n",
    "        barmode='group',\n",
    "        title='Classification metrics',\n",
    "    )\n",
    "\n",
    "    fig = go.Figure(data=data, layout=layout)\n",
    "    iplot(fig, filename='metrics-bar')\n",
    "    \n",
    "\n",
    "def make_pie(mean_accuracy):\n",
    "    fig = {\n",
    "      \"data\": [\n",
    "        {\n",
    "          \"values\": [1-mean_accuracy, mean_accuracy],\n",
    "          \"labels\": ['Wrong predicted samples, %', 'True predictes samples, %'],\n",
    "          \"type\": \"pie\",\n",
    "          \"text\": \"Accuracy\",\n",
    "          \"textposition\":\"inside\",\n",
    "          \"hole\": .4,\n",
    "    #       \"domain\": {\"x\": [.52, 1]},\n",
    "        }],\n",
    "      \"layout\": {\n",
    "            \"title\": 'Total mean accuracy',\n",
    "\n",
    "            \"annotations\": [\n",
    "                {\n",
    "                    \"font\": {\n",
    "                        \"size\": 20\n",
    "                    },\n",
    "                    \"showarrow\": False,\n",
    "                    \"text\": \"Accuracy\",\n",
    "                }\n",
    "            ]\n",
    "        }\n",
    "    }\n",
    "    iplot(fig)"
   ]
  },
  {
   "cell_type": "code",
   "execution_count": 7,
   "metadata": {
    "scrolled": false
   },
   "outputs": [
    {
     "data": {
      "application/vnd.jupyter.widget-view+json": {
       "model_id": "2cc7501a08df42889b23add304e6f3b5"
      }
     },
     "metadata": {},
     "output_type": "display_data"
    },
    {
     "data": {
      "application/vnd.jupyter.widget-view+json": {
       "model_id": "8f73dcc7064e433d9e1610b5c3327245"
      }
     },
     "metadata": {},
     "output_type": "display_data"
    }
   ],
   "source": [
    "def classify(b):\n",
    "    clear_output()\n",
    "    print('Please, wait...')\n",
    "    report = classify_authors(data.value, classifier.value)\n",
    "    df = pd.DataFrame(report)\n",
    "    df.to_csv('output.csv', mode='a')\n",
    "    display(HTML(df.to_html()))\n",
    "    print('Done')\n",
    "\n",
    "table_form_items = [\n",
    "    Box([Label(value='Data:'), data], layout=form_item_layout),\n",
    "    Box([Label(value='Classifier:'), classifier], layout=form_item_layout),\n",
    "\n",
    "]\n",
    "\n",
    "table_form = Box(table_form_items, layout=form_layout)\n",
    "\n",
    "classify_button = Button(description='Classify', tooltip='Click me', icon='check', button_style='success')\n",
    "classify_button.on_click(classify)\n",
    "\n",
    "display(table_form, classify_button)"
   ]
  },
  {
   "cell_type": "code",
   "execution_count": 8,
   "metadata": {
    "collapsed": true
   },
   "outputs": [],
   "source": [
    "import numpy as np\n",
    "import time\n",
    "\n",
    "loops = IntSlider(min=1, max=10)\n",
    "\n",
    "form_items = [\n",
    "    Box([Label(value='Loops:'), loops], layout=form_item_layout),\n",
    "    Box([Label(value='Data:'), data], layout=form_item_layout),\n",
    "    Box([Label(value='Classifier:'), classifier], layout=form_item_layout),\n",
    "]\n",
    "\n",
    "\n",
    "def classify_mul(b):\n",
    "    clear_output()\n",
    "    accuracy, precision, recall, f1_score = [],[],[],[]\n",
    "    start_time = time.time()\n",
    "    for loop in range(loops.value):\n",
    "        print('Loop ', loop + 1, ': Please, wait...')\n",
    "        report = classify_authors(data.value, classifier.value)\n",
    "        df = pd.DataFrame(report)\n",
    "        accuracy.append(mean(df['accuracy'].tolist()))\n",
    "        precision.append(mean(df['precision'].tolist()))\n",
    "        recall.append(mean(df['recall'].tolist()))\n",
    "        f1_score.append(mean(df['f1_score'].tolist()))\n",
    "\n",
    "    run_time = round(time.time() - start_time, 2)\n",
    "    print('Run time in sec: ', run_time)\n",
    "    \n",
    "    metrics = {'f1_score' : f1_score, \n",
    "               'precision' : precision, \n",
    "               'recall': recall,\n",
    "               'accuracy' : accuracy\n",
    "              }\n",
    "    make_metrics_bar(metrics, loops.value)\n",
    "\n",
    "    mean_accuracy = mean(accuracy)\n",
    "    make_pie(mean_accuracy)\n",
    "    \n",
    "    # saving results to csv\n",
    "    metrics.update({'classifier' : classifier.value})\n",
    "    result_df = pd.DataFrame(metrics)\n",
    "    result_df.to_csv('results.csv', mode='w')\n",
    "\n",
    "   \n",
    "\n",
    "form = Box(form_items, layout=form_layout)\n",
    "classify_mul_btn = Button(description='Classify', tooltip='Click me', icon='check', button_style='success')\n",
    "classify_mul_btn.on_click(classify_mul)"
   ]
  },
  {
   "cell_type": "markdown",
   "metadata": {},
   "source": [
    "## main module"
   ]
  },
  {
   "cell_type": "code",
   "execution_count": 9,
   "metadata": {
    "scrolled": false
   },
   "outputs": [
    {
     "name": "stdout",
     "output_type": "stream",
     "text": [
      "Loop  1 : Please, wait...\n",
      "Loop  2 : Please, wait...\n",
      "Loop  3 : Please, wait...\n",
      "Loop  4 : Please, wait...\n",
      "Loop  5 : Please, wait...\n",
      "Loop  6 : Please, wait...\n",
      "Loop  7 : Please, wait...\n",
      "Loop  8 : Please, wait...\n",
      "Loop  9 : Please, wait...\n",
      "Loop  10 : Please, wait...\n",
      "Run time in sec:  54.0\n"
     ]
    },
    {
     "data": {
      "application/vnd.plotly.v1+json": {
       "data": [
        {
         "marker": {
          "color": "rgb(136, 142, 150)"
         },
         "name": "F1-score",
         "type": "bar",
         "x": [
          1,
          2,
          3,
          4,
          5,
          6,
          7,
          8,
          9,
          10
         ],
         "y": [
          0.7516666666666667,
          0.6775,
          0.7283333333333333,
          0.6224999999999999,
          0.8066666666666666,
          0.8696666666666667,
          0.8205714285714285,
          0.7327619047619047,
          0.8244999999999999,
          0.6895238095238095
         ]
        },
        {
         "marker": {
          "color": "rgb(204,204,204)"
         },
         "name": "Precision",
         "type": "bar",
         "x": [
          1,
          2,
          3,
          4,
          5,
          6,
          7,
          8,
          9,
          10
         ],
         "y": [
          0.7620833333333333,
          0.6908333333333333,
          0.7483333333333333,
          0.6495833333333333,
          0.8474999999999999,
          0.8949999999999999,
          0.8804166666666667,
          0.8508333333333333,
          0.9116666666666667,
          0.7305833333333334
         ]
        },
        {
         "marker": {
          "color": "rgb(144, 177, 229)"
         },
         "name": "Recall",
         "type": "bar",
         "x": [
          1,
          2,
          3,
          4,
          5,
          6,
          7,
          8,
          9,
          10
         ],
         "y": [
          0.7849999999999999,
          0.705,
          0.725,
          0.6599999999999999,
          0.795,
          0.865,
          0.8099999999999999,
          0.735,
          0.805,
          0.7150000000000001
         ]
        },
        {
         "marker": {
          "color": "rgb(49,130,189)"
         },
         "name": "Accuracy",
         "type": "bar",
         "x": [
          1,
          2,
          3,
          4,
          5,
          6,
          7,
          8,
          9,
          10
         ],
         "y": [
          0.7849999999999999,
          0.705,
          0.725,
          0.6599999999999999,
          0.795,
          0.865,
          0.8099999999999999,
          0.735,
          0.805,
          0.7150000000000001
         ]
        }
       ],
       "layout": {
        "barmode": "group",
        "title": "Classification metrics",
        "xaxis": {
         "tickangle": -45,
         "tickfont": {
          "color": "rgb(107, 107, 107)",
          "size": 14
         },
         "title": "Number of experiment",
         "titlefont": {
          "color": "rgb(107, 107, 107)",
          "size": 16
         }
        },
        "yaxis": {
         "tickfont": {
          "color": "rgb(107, 107, 107)",
          "size": 14
         },
         "title": "Value, %",
         "titlefont": {
          "color": "rgb(107, 107, 107)",
          "size": 16
         }
        }
       }
      },
      "text/html": [
       "<div id=\"f4ed6f9d-753b-4c55-a20c-1153f18715cd\" style=\"height: 525px; width: 100%;\" class=\"plotly-graph-div\"></div><script type=\"text/javascript\">require([\"plotly\"], function(Plotly) { window.PLOTLYENV=window.PLOTLYENV || {};window.PLOTLYENV.BASE_URL=\"https://plot.ly\";Plotly.newPlot(\"f4ed6f9d-753b-4c55-a20c-1153f18715cd\", [{\"type\": \"bar\", \"x\": [1, 2, 3, 4, 5, 6, 7, 8, 9, 10], \"y\": [0.7516666666666667, 0.6775, 0.7283333333333333, 0.6224999999999999, 0.8066666666666666, 0.8696666666666667, 0.8205714285714285, 0.7327619047619047, 0.8244999999999999, 0.6895238095238095], \"name\": \"F1-score\", \"marker\": {\"color\": \"rgb(136, 142, 150)\"}}, {\"type\": \"bar\", \"x\": [1, 2, 3, 4, 5, 6, 7, 8, 9, 10], \"y\": [0.7620833333333333, 0.6908333333333333, 0.7483333333333333, 0.6495833333333333, 0.8474999999999999, 0.8949999999999999, 0.8804166666666667, 0.8508333333333333, 0.9116666666666667, 0.7305833333333334], \"name\": \"Precision\", \"marker\": {\"color\": \"rgb(204,204,204)\"}}, {\"type\": \"bar\", \"x\": [1, 2, 3, 4, 5, 6, 7, 8, 9, 10], \"y\": [0.7849999999999999, 0.705, 0.725, 0.6599999999999999, 0.795, 0.865, 0.8099999999999999, 0.735, 0.805, 0.7150000000000001], \"name\": \"Recall\", \"marker\": {\"color\": \"rgb(144, 177, 229)\"}}, {\"type\": \"bar\", \"x\": [1, 2, 3, 4, 5, 6, 7, 8, 9, 10], \"y\": [0.7849999999999999, 0.705, 0.725, 0.6599999999999999, 0.795, 0.865, 0.8099999999999999, 0.735, 0.805, 0.7150000000000001], \"name\": \"Accuracy\", \"marker\": {\"color\": \"rgb(49,130,189)\"}}], {\"xaxis\": {\"tickangle\": -45, \"title\": \"Number of experiment\", \"titlefont\": {\"size\": 16, \"color\": \"rgb(107, 107, 107)\"}, \"tickfont\": {\"size\": 14, \"color\": \"rgb(107, 107, 107)\"}}, \"yaxis\": {\"title\": \"Value, %\", \"titlefont\": {\"size\": 16, \"color\": \"rgb(107, 107, 107)\"}, \"tickfont\": {\"size\": 14, \"color\": \"rgb(107, 107, 107)\"}}, \"barmode\": \"group\", \"title\": \"Classification metrics\"}, {\"showLink\": true, \"linkText\": \"Export to plot.ly\"})});</script>"
      ],
      "text/vnd.plotly.v1+html": [
       "<div id=\"f4ed6f9d-753b-4c55-a20c-1153f18715cd\" style=\"height: 525px; width: 100%;\" class=\"plotly-graph-div\"></div><script type=\"text/javascript\">require([\"plotly\"], function(Plotly) { window.PLOTLYENV=window.PLOTLYENV || {};window.PLOTLYENV.BASE_URL=\"https://plot.ly\";Plotly.newPlot(\"f4ed6f9d-753b-4c55-a20c-1153f18715cd\", [{\"type\": \"bar\", \"x\": [1, 2, 3, 4, 5, 6, 7, 8, 9, 10], \"y\": [0.7516666666666667, 0.6775, 0.7283333333333333, 0.6224999999999999, 0.8066666666666666, 0.8696666666666667, 0.8205714285714285, 0.7327619047619047, 0.8244999999999999, 0.6895238095238095], \"name\": \"F1-score\", \"marker\": {\"color\": \"rgb(136, 142, 150)\"}}, {\"type\": \"bar\", \"x\": [1, 2, 3, 4, 5, 6, 7, 8, 9, 10], \"y\": [0.7620833333333333, 0.6908333333333333, 0.7483333333333333, 0.6495833333333333, 0.8474999999999999, 0.8949999999999999, 0.8804166666666667, 0.8508333333333333, 0.9116666666666667, 0.7305833333333334], \"name\": \"Precision\", \"marker\": {\"color\": \"rgb(204,204,204)\"}}, {\"type\": \"bar\", \"x\": [1, 2, 3, 4, 5, 6, 7, 8, 9, 10], \"y\": [0.7849999999999999, 0.705, 0.725, 0.6599999999999999, 0.795, 0.865, 0.8099999999999999, 0.735, 0.805, 0.7150000000000001], \"name\": \"Recall\", \"marker\": {\"color\": \"rgb(144, 177, 229)\"}}, {\"type\": \"bar\", \"x\": [1, 2, 3, 4, 5, 6, 7, 8, 9, 10], \"y\": [0.7849999999999999, 0.705, 0.725, 0.6599999999999999, 0.795, 0.865, 0.8099999999999999, 0.735, 0.805, 0.7150000000000001], \"name\": \"Accuracy\", \"marker\": {\"color\": \"rgb(49,130,189)\"}}], {\"xaxis\": {\"tickangle\": -45, \"title\": \"Number of experiment\", \"titlefont\": {\"size\": 16, \"color\": \"rgb(107, 107, 107)\"}, \"tickfont\": {\"size\": 14, \"color\": \"rgb(107, 107, 107)\"}}, \"yaxis\": {\"title\": \"Value, %\", \"titlefont\": {\"size\": 16, \"color\": \"rgb(107, 107, 107)\"}, \"tickfont\": {\"size\": 14, \"color\": \"rgb(107, 107, 107)\"}}, \"barmode\": \"group\", \"title\": \"Classification metrics\"}, {\"showLink\": true, \"linkText\": \"Export to plot.ly\"})});</script>"
      ]
     },
     "metadata": {},
     "output_type": "display_data"
    },
    {
     "data": {
      "application/vnd.plotly.v1+json": {
       "data": [
        {
         "hole": 0.4,
         "labels": [
          "Wrong predicted samples, %",
          "True predictes samples, %"
         ],
         "text": "Accuracy",
         "textposition": "inside",
         "type": "pie",
         "values": [
          0.24,
          0.76
         ]
        }
       ],
       "layout": {
        "annotations": [
         {
          "font": {
           "size": 20
          },
          "showarrow": false,
          "text": "Accuracy"
         }
        ],
        "title": "Total mean accuracy"
       }
      },
      "text/html": [
       "<div id=\"b952e7ec-b78d-4a49-9b4f-8841d9cb54ba\" style=\"height: 525px; width: 100%;\" class=\"plotly-graph-div\"></div><script type=\"text/javascript\">require([\"plotly\"], function(Plotly) { window.PLOTLYENV=window.PLOTLYENV || {};window.PLOTLYENV.BASE_URL=\"https://plot.ly\";Plotly.newPlot(\"b952e7ec-b78d-4a49-9b4f-8841d9cb54ba\", [{\"values\": [0.24, 0.76], \"labels\": [\"Wrong predicted samples, %\", \"True predictes samples, %\"], \"type\": \"pie\", \"text\": \"Accuracy\", \"textposition\": \"inside\", \"hole\": 0.4}], {\"title\": \"Total mean accuracy\", \"annotations\": [{\"font\": {\"size\": 20}, \"showarrow\": false, \"text\": \"Accuracy\"}]}, {\"showLink\": true, \"linkText\": \"Export to plot.ly\"})});</script>"
      ],
      "text/vnd.plotly.v1+html": [
       "<div id=\"b952e7ec-b78d-4a49-9b4f-8841d9cb54ba\" style=\"height: 525px; width: 100%;\" class=\"plotly-graph-div\"></div><script type=\"text/javascript\">require([\"plotly\"], function(Plotly) { window.PLOTLYENV=window.PLOTLYENV || {};window.PLOTLYENV.BASE_URL=\"https://plot.ly\";Plotly.newPlot(\"b952e7ec-b78d-4a49-9b4f-8841d9cb54ba\", [{\"values\": [0.24, 0.76], \"labels\": [\"Wrong predicted samples, %\", \"True predictes samples, %\"], \"type\": \"pie\", \"text\": \"Accuracy\", \"textposition\": \"inside\", \"hole\": 0.4}], {\"title\": \"Total mean accuracy\", \"annotations\": [{\"font\": {\"size\": 20}, \"showarrow\": false, \"text\": \"Accuracy\"}]}, {\"showLink\": true, \"linkText\": \"Export to plot.ly\"})});</script>"
      ]
     },
     "metadata": {},
     "output_type": "display_data"
    }
   ],
   "source": [
    "display(form, classify_mul_btn)"
   ]
  }
 ],
 "metadata": {
  "kernelspec": {
   "display_name": "Python 3.6 (whose_env)",
   "language": "python",
   "name": "whose_env"
  },
  "language_info": {
   "codemirror_mode": {
    "name": "ipython",
    "version": 3
   },
   "file_extension": ".py",
   "mimetype": "text/x-python",
   "name": "python",
   "nbconvert_exporter": "python",
   "pygments_lexer": "ipython3",
   "version": "3.6.0b2"
  }
 },
 "nbformat": 4,
 "nbformat_minor": 2
}
