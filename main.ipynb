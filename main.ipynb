{
 "cells": [
  {
   "cell_type": "code",
   "execution_count": 3,
   "metadata": {},
   "outputs": [
    {
     "data": {
      "text/html": [
       "<script>\n",
       "code_show=true; \n",
       "function code_toggle() {\n",
       " if (code_show){\n",
       " $('div.input').hide();\n",
       " } else {\n",
       " $('div.input').show();\n",
       " }\n",
       " code_show = !code_show\n",
       "} \n",
       "$( document ).ready(code_toggle);\n",
       "</script>\n",
       "The raw code for this IPython notebook is by default hidden for easier reading.\n",
       "To toggle on/off the raw code, click <a href=\"javascript:code_toggle()\">here</a>."
      ],
      "text/plain": [
       "<IPython.core.display.HTML object>"
      ]
     },
     "execution_count": 3,
     "metadata": {},
     "output_type": "execute_result"
    }
   ],
   "source": [
    "from IPython.display import HTML\n",
    "\n",
    "HTML('''<script>\n",
    "code_show=true; \n",
    "function code_toggle() {\n",
    " if (code_show){\n",
    " $('div.input').hide();\n",
    " } else {\n",
    " $('div.input').show();\n",
    " }\n",
    " code_show = !code_show\n",
    "} \n",
    "$( document ).ready(code_toggle);\n",
    "</script>\n",
    "The raw code for this IPython notebook is by default hidden for easier reading.\n",
    "To toggle on/off the raw code, click <a href=\"javascript:code_toggle()\">here</a>.''')"
   ]
  },
  {
   "cell_type": "markdown",
   "metadata": {
    "heading_collapsed": true
   },
   "source": [
    "## Lexical features"
   ]
  },
  {
   "cell_type": "markdown",
   "metadata": {},
   "source": [
    "## Syntactic features"
   ]
  },
  {
   "cell_type": "markdown",
   "metadata": {},
   "source": [
    "## Cpp keywords\n",
    "\n",
    "- **module**: cpp_keywords.py\n",
    "- **input**: filenames (numpy array)\n",
    "- **output**: keywords frequencies (numpy array)\n",
    "\n",
    "### Ключевые слова языка C/C++\n",
    "\n",
    "Могут быть найдены по ссылке в [официальной документации](http://ru.cppreference.com/w/cpp/keyword \"cppreference.com\")\n",
    "\n",
    "Частоты ключевых слов языка C/C++:\n",
    "\n",
    "| float | class | while | namespace | .. |\n",
    "-----| --- | -------| --- | --- | --- |\n",
    "file_1| 0.353 | 0.000 | 0.000 | 0.707 | ... |\n",
    "file_2| 0.401 | 0.213 | 0.000 | 0.708 | ... |\n",
    "... | ... | ... | ... | ... | ... |\n",
    "file_n | 0.303 | 0.000 | 0.678 | 0.807 | ... |\n"
   ]
  },
  {
   "cell_type": "markdown",
   "metadata": {},
   "source": [
    "### widgets"
   ]
  },
  {
   "cell_type": "code",
   "execution_count": 57,
   "metadata": {},
   "outputs": [
    {
     "data": {
      "application/vnd.jupyter.widget-view+json": {
       "model_id": "36e7222d2ce445beb04912c3ac64c195"
      }
     },
     "metadata": {},
     "output_type": "display_data"
    },
    {
     "data": {
      "application/vnd.jupyter.widget-view+json": {
       "model_id": "6f0a2fd63afd4523887f142e2677ce3f"
      }
     },
     "metadata": {},
     "output_type": "display_data"
    },
    {
     "data": {
      "application/vnd.jupyter.widget-view+json": {
       "model_id": "752d26bb83e845eea885a51143949423"
      }
     },
     "metadata": {},
     "output_type": "display_data"
    }
   ],
   "source": [
    "from ipywidgets import interact\n",
    "\n",
    "def f(x):\n",
    "    return x\n",
    "\n",
    "interact(f, x=10);\n",
    "\n",
    "interact(f, x=True);\n",
    "\n",
    "\n",
    "@interact(x=True, y=1.0)\n",
    "def g(x, y):\n",
    "    return (x, y)"
   ]
  },
  {
   "cell_type": "markdown",
   "metadata": {},
   "source": [
    "### main functions"
   ]
  },
  {
   "cell_type": "code",
   "execution_count": null,
   "metadata": {
    "collapsed": true
   },
   "outputs": [],
   "source": [
    "# username = Text()\n",
    "# password = Text()\n",
    "#     Box([Label(value='Username:'), username], layout=form_item_layout),\n",
    "#     Box([Label(value='Password:'), password], layout=form_item_layout),\n",
    "# Text(value='Username')\n",
    "# from ipywidgets import Text, IntSlider, Box, Layout, Label, Dropdown, Textarea, Button"
   ]
  },
  {
   "cell_type": "code",
   "execution_count": 82,
   "metadata": {
    "collapsed": true
   },
   "outputs": [],
   "source": [
    "# %load_ext autoreload\n",
    "%reload_ext autoreload\n",
    "%autoreload\n",
    "\n",
    "from ipywidgets import IntSlider, Box, Layout, Label, Dropdown, Button\n",
    "from IPython.display import display, HTML, clear_output\n",
    "from core.whose_cpp_code import classify_authors\n",
    "from numpy import mean, std\n",
    "import pandas as pd\n",
    "import matplotlib.pyplot as plt\n",
    "import warnings\n",
    "\n",
    "warnings.filterwarnings(\"ignore\")\n",
    "\n",
    "\n",
    "def make_pie(sizes, text, colors, labels):\n",
    "\n",
    "    col = [[i/255. for i in c] for c in colors]\n",
    "\n",
    "    fig, ax = plt.subplots()\n",
    "    ax.axis('equal')\n",
    "    width = 0.35\n",
    "    kwargs = dict(colors=col, startangle=180)\n",
    "    outside, _ = ax.pie(sizes, radius=1, pctdistance=1-width/2,labels=labels,**kwargs)\n",
    "    plt.setp( outside, width=width, edgecolor='white')\n",
    "\n",
    "    kwargs = dict(size=20, fontweight='bold', va='center')\n",
    "    ax.text(0, 0, text, ha='center', **kwargs)\n",
    "    plt.show()\n",
    "    \n",
    "\n",
    "def get_confidence(array):\n",
    "    alpha = 0.95\n",
    "    m = mean(array)  # general average\n",
    "    sigma = std(array)  # standard deviation \n",
    "\n",
    "    # confidence interval\n",
    "    print('mean accuracy: ', m)\n",
    "    print('standart deviation: ', sigma)\n",
    "    print('confidence interval: (', m - alpha * sigma, ';', m + alpha * sigma, ')')\n",
    "\n",
    "\n",
    "form_layout = Layout(\n",
    "    display='flex',\n",
    "    flex_flow='column',\n",
    "    align_items='stretch',\n",
    "    width='50%'\n",
    ")\n",
    "\n",
    "form_item_layout = Layout(\n",
    "    display='flex',\n",
    "    flex_flow='row',\n",
    "    justify_content='space-between'\n",
    ")\n",
    "\n",
    "\n",
    "# loops = IntSlider(min=1, max=10)\n",
    "data = Dropdown(options={'students' : '/media/marina/hdd/diploma/data/c++/data/', \n",
    "                           'GoogleCodeJam' : '/media/marina/hdd/diploma/data/c++/data3/', \n",
    "                           'GitHub' : '/media/marina/hdd/diploma/data/c++/github_data/'})\n",
    "classifier =  Dropdown(options={'RandomForest' : 'RandomForestClassifier', \n",
    "                                'GradientBoosting' : 'GradientBoostingClassifier'})"
   ]
  },
  {
   "cell_type": "code",
   "execution_count": 66,
   "metadata": {
    "scrolled": true
   },
   "outputs": [
    {
     "name": "stdout",
     "output_type": "stream",
     "text": [
      "Please, wait...\n"
     ]
    },
    {
     "data": {
      "text/html": [
       "<table border=\"1\" class=\"dataframe\">\n",
       "  <thead>\n",
       "    <tr style=\"text-align: right;\">\n",
       "      <th></th>\n",
       "      <th>accuracy</th>\n",
       "      <th>f1-score</th>\n",
       "      <th>feature importancies</th>\n",
       "      <th>method</th>\n",
       "      <th>precision</th>\n",
       "      <th>recall</th>\n",
       "      <th>run time in sec</th>\n",
       "    </tr>\n",
       "  </thead>\n",
       "  <tbody>\n",
       "    <tr>\n",
       "      <th>0</th>\n",
       "      <td>0.60</td>\n",
       "      <td>0.520000</td>\n",
       "      <td>[(ln_spaces, 0.157289680583), (return, 0.11326...</td>\n",
       "      <td>RandomForestClassifier</td>\n",
       "      <td>0.466667</td>\n",
       "      <td>0.60</td>\n",
       "      <td>1.01</td>\n",
       "    </tr>\n",
       "    <tr>\n",
       "      <th>1</th>\n",
       "      <td>0.80</td>\n",
       "      <td>0.880000</td>\n",
       "      <td>[(ln_spaces, 0.195235519718), (whitespace_rati...</td>\n",
       "      <td>RandomForestClassifier</td>\n",
       "      <td>1.000000</td>\n",
       "      <td>0.80</td>\n",
       "      <td>2.04</td>\n",
       "    </tr>\n",
       "    <tr>\n",
       "      <th>2</th>\n",
       "      <td>1.00</td>\n",
       "      <td>1.000000</td>\n",
       "      <td>[(ln_spaces, 0.172251780349), (whitespace_rati...</td>\n",
       "      <td>RandomForestClassifier</td>\n",
       "      <td>1.000000</td>\n",
       "      <td>1.00</td>\n",
       "      <td>3.21</td>\n",
       "    </tr>\n",
       "    <tr>\n",
       "      <th>3</th>\n",
       "      <td>0.75</td>\n",
       "      <td>0.666667</td>\n",
       "      <td>[(ln_spaces, 0.170847024217), (whitespace_rati...</td>\n",
       "      <td>RandomForestClassifier</td>\n",
       "      <td>0.625000</td>\n",
       "      <td>0.75</td>\n",
       "      <td>4.57</td>\n",
       "    </tr>\n",
       "    <tr>\n",
       "      <th>4</th>\n",
       "      <td>1.00</td>\n",
       "      <td>1.000000</td>\n",
       "      <td>[(ln_spaces, 0.16171651228), (whitespace_ratio...</td>\n",
       "      <td>RandomForestClassifier</td>\n",
       "      <td>1.000000</td>\n",
       "      <td>1.00</td>\n",
       "      <td>5.91</td>\n",
       "    </tr>\n",
       "    <tr>\n",
       "      <th>5</th>\n",
       "      <td>0.75</td>\n",
       "      <td>0.750000</td>\n",
       "      <td>[(ln_spaces, 0.19646345845), (whitespace_ratio...</td>\n",
       "      <td>RandomForestClassifier</td>\n",
       "      <td>0.875000</td>\n",
       "      <td>0.75</td>\n",
       "      <td>7.05</td>\n",
       "    </tr>\n",
       "    <tr>\n",
       "      <th>6</th>\n",
       "      <td>0.75</td>\n",
       "      <td>0.733333</td>\n",
       "      <td>[(whitespace_ratio, 0.161499153189), (ln_space...</td>\n",
       "      <td>RandomForestClassifier</td>\n",
       "      <td>0.833333</td>\n",
       "      <td>0.75</td>\n",
       "      <td>8.08</td>\n",
       "    </tr>\n",
       "    <tr>\n",
       "      <th>7</th>\n",
       "      <td>0.50</td>\n",
       "      <td>0.400000</td>\n",
       "      <td>[(ln_spaces, 0.204036596598), (whitespace_rati...</td>\n",
       "      <td>RandomForestClassifier</td>\n",
       "      <td>0.333333</td>\n",
       "      <td>0.50</td>\n",
       "      <td>9.52</td>\n",
       "    </tr>\n",
       "    <tr>\n",
       "      <th>8</th>\n",
       "      <td>1.00</td>\n",
       "      <td>1.000000</td>\n",
       "      <td>[(ln_spaces, 0.212912330178), (whitespace_rati...</td>\n",
       "      <td>RandomForestClassifier</td>\n",
       "      <td>1.000000</td>\n",
       "      <td>1.00</td>\n",
       "      <td>10.75</td>\n",
       "    </tr>\n",
       "    <tr>\n",
       "      <th>9</th>\n",
       "      <td>1.00</td>\n",
       "      <td>1.000000</td>\n",
       "      <td>[(ln_spaces, 0.199623448034), (whitespace_rati...</td>\n",
       "      <td>RandomForestClassifier</td>\n",
       "      <td>1.000000</td>\n",
       "      <td>1.00</td>\n",
       "      <td>11.79</td>\n",
       "    </tr>\n",
       "  </tbody>\n",
       "</table>"
      ],
      "text/plain": [
       "<IPython.core.display.HTML object>"
      ]
     },
     "metadata": {},
     "output_type": "display_data"
    },
    {
     "name": "stdout",
     "output_type": "stream",
     "text": [
      "Done\n"
     ]
    }
   ],
   "source": [
    "def classify(b):\n",
    "    clear_output()\n",
    "    print('Please, wait...')\n",
    "    report = classify_authors(data.value, classifier.value)\n",
    "    df = pd.DataFrame(report)\n",
    "    df.to_csv('output.csv', mode='w')\n",
    "    display(HTML(df.to_html()))\n",
    "    print('Done')\n",
    "    \n",
    "\n",
    "table_form_items = [\n",
    "    Box([Label(value='Data:'), data], layout=form_item_layout),\n",
    "    Box([Label(value='Classifier:'), classifier], layout=form_item_layout),\n",
    "\n",
    "]\n",
    "\n",
    "table_form = Box(table_form_items, layout=form_layout)\n",
    "\n",
    "classify_button = Button(description='Classify', tooltip='Click me', icon='check', button_style='success')\n",
    "classify_button.on_click(classify)\n",
    "\n",
    "display(table_form, classify_button)"
   ]
  },
  {
   "cell_type": "code",
   "execution_count": 107,
   "metadata": {},
   "outputs": [
    {
     "name": "stdout",
     "output_type": "stream",
     "text": [
      "Loop  1 : Please, wait...\n",
      "Loop  2 : Please, wait...\n"
     ]
    }
   ],
   "source": [
    "loops = IntSlider(min=1, max=10)\n",
    "\n",
    "form_items = [\n",
    "    Box([Label(value='Loops:'), loops], layout=form_item_layout),\n",
    "    Box([Label(value='Data:'), data], layout=form_item_layout),\n",
    "    Box([Label(value='Classifier:'), classifier], layout=form_item_layout),\n",
    "]\n",
    "\n",
    "\n",
    "form = Box(form_items, layout=form_layout)\n",
    "classify_mul_btn = Button(description='Classify', tooltip='Click me', icon='check', button_style='success')\n",
    "classify_mul_btn.on_click(classify_mul)\n",
    "\n",
    "def classify_mul(b):\n",
    "    clear_output()\n",
    "    result = []\n",
    "    for loop in range(loops.value):\n",
    "        print('Loop ', loop + 1, ': Please, wait...')\n",
    "        report = classify_authors(data.value, classifier.value)\n",
    "        df = pd.DataFrame(report)\n",
    "        accuracy = df['accuracy'].tolist()\n",
    "        result.append(mean(accuracy)) \n",
    "    result = round(mean(result)*100,2)\n",
    "    \n",
    "    c1 = (66, 182, 244)\n",
    "    c2 = (244, 65, 178)\n",
    "\n",
    "    make_pie([result,100-result], \"Accuracy\", [c1,c2], [str(result) + '%', str(100-result) + '%'])\n",
    "   \n",
    "\n",
    "display(form, classify_mul_btn)"
   ]
  },
  {
   "cell_type": "code",
   "execution_count": 83,
   "metadata": {},
   "outputs": [
    {
     "data": {
      "image/png": "[encoded data removed]",
      "text/plain": [
       "<matplotlib.figure.Figure at 0x7f4446fc9160>"
      ]
     },
     "metadata": {},
     "output_type": "display_data"
    }
   ],
   "source": [
    "c1 = (66, 182, 244)\n",
    "c2 = (244, 65, 178)\n",
    "\n",
    "wright = 78\n",
    "wrong = 100-wright\n",
    "\n",
    "make_pie([wright,wrong], \"Accuracy\", [c1,c2], [str(wright) + '%', str(wrong) + '%'])"
   ]
  }
 ],
 "metadata": {
  "kernelspec": {
   "display_name": "Python 3.6 (whose_env)",
   "language": "python",
   "name": "whose_env"
  },
  "language_info": {
   "codemirror_mode": {
    "name": "ipython",
    "version": 3
   },
   "file_extension": ".py",
   "mimetype": "text/x-python",
   "name": "python",
   "nbconvert_exporter": "python",
   "pygments_lexer": "ipython3",
   "version": "3.6.0b2"
  }
 },
 "nbformat": 4,
 "nbformat_minor": 2
}
