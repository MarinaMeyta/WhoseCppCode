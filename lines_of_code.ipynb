{
 "cells": [
  {
   "cell_type": "code",
   "execution_count": 2,
   "metadata": {},
   "outputs": [
    {
     "ename": "NameError",
     "evalue": "name 'MAX_loc' is not defined",
     "output_type": "error",
     "traceback": [
      "\u001b[0;31m---------------------------------------------------------------------------\u001b[0m",
      "\u001b[0;31mNameError\u001b[0m                                 Traceback (most recent call last)",
      "\u001b[0;32m<ipython-input-2-07f1a561dab6>\u001b[0m in \u001b[0;36m<module>\u001b[0;34m()\u001b[0m\n\u001b[1;32m     19\u001b[0m     \u001b[0mMIN_loc\u001b[0m \u001b[0;34m=\u001b[0m \u001b[0mloc\u001b[0m\u001b[0;34m\u001b[0m\u001b[0m\n\u001b[1;32m     20\u001b[0m     \u001b[0mLOC_all\u001b[0m \u001b[0;34m+=\u001b[0m \u001b[0mloc\u001b[0m\u001b[0;34m\u001b[0m\u001b[0m\n\u001b[0;32m---> 21\u001b[0;31m     \u001b[0;32mif\u001b[0m \u001b[0mloc\u001b[0m \u001b[0;34m>\u001b[0m \u001b[0mMAX_loc\u001b[0m\u001b[0;34m:\u001b[0m\u001b[0;34m\u001b[0m\u001b[0m\n\u001b[0m\u001b[1;32m     22\u001b[0m         \u001b[0mMAX_loc\u001b[0m \u001b[0;34m=\u001b[0m \u001b[0mloc\u001b[0m\u001b[0;34m\u001b[0m\u001b[0m\n\u001b[1;32m     23\u001b[0m     \u001b[0;32melif\u001b[0m \u001b[0mloc\u001b[0m \u001b[0;34m<\u001b[0m \u001b[0mMIN_loc\u001b[0m\u001b[0;34m:\u001b[0m\u001b[0;34m\u001b[0m\u001b[0m\n",
      "\u001b[0;31mNameError\u001b[0m: name 'MAX_loc' is not defined"
     ]
    }
   ],
   "source": [
    "from core.whose_cpp_code import get_filenames\n",
    "\n",
    "\n",
    "def get_loc(filename):\n",
    "    with open(filename, 'r') as in_file:\n",
    "        lines = in_file.readlines()\n",
    "        lines_of_code = len([line for line in lines if line.strip(' \\n') != ''])\n",
    "        return lines_of_code\n",
    "\n",
    "S = '/media/marina/hdd/diploma/data/students/'    \n",
    "GCJ = '/media/marina/hdd/diploma/data/GoogleCodeJam/'\n",
    "GH = '/media/marina/hdd/diploma/data/GitHub_short/'\n",
    "filenames, authors = get_filenames(GH)\n",
    "\n",
    "LOC_all = 0\n",
    "\n",
    "for filename in filenames:\n",
    "    loc = get_loc(filename)\n",
    "    MIN_loc = loc\n",
    "    LOC_all += loc\n",
    "    if loc > MAX_loc:\n",
    "        MAX_loc = loc\n",
    "    elif loc < MIN_loc:\n",
    "        MIN_loc = loc\n",
    "    elif loc == 0:\n",
    "        print('empty:', filename)\n",
    "\n",
    "print('MAX_loc', MAX_loc)\n",
    "print('MIN_loc', MIN_loc)\n",
    "print('MEAN', LOC_all/len(filenames))\n"
   ]
  }
 ],
 "metadata": {
  "kernelspec": {
   "display_name": "Python 3.6 (whose_env)",
   "language": "python",
   "name": "whose_env"
  },
  "language_info": {
   "codemirror_mode": {
    "name": "ipython",
    "version": 3
   },
   "file_extension": ".py",
   "mimetype": "text/x-python",
   "name": "python",
   "nbconvert_exporter": "python",
   "pygments_lexer": "ipython3",
   "version": "3.6.0b2"
  }
 },
 "nbformat": 4,
 "nbformat_minor": 2
}
